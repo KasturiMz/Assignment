{
 "cells": [
  {
   "cell_type": "code",
   "execution_count": 1,
   "id": "8c313ce0-89e5-4501-853d-75942abe3d67",
   "metadata": {},
   "outputs": [
    {
     "data": {
      "text/plain": [
       "'Q1. What is the Probability density function?\\nThe probability density function of a continuous random variable is a function whose value at any given sample in the\\nsample space can be interpreted as providing a relative likelihood that the value of the random variable would be equal\\nto that sample.\\n'"
      ]
     },
     "execution_count": 1,
     "metadata": {},
     "output_type": "execute_result"
    }
   ],
   "source": [
    "'''Q1. What is the Probability density function?\n",
    "The probability density function of a continuous random variable is a function whose value at any given sample in the\n",
    "sample space can be interpreted as providing a relative likelihood that the value of the random variable would be equal\n",
    "to that sample.\n",
    "'''"
   ]
  },
  {
   "cell_type": "code",
   "execution_count": 2,
   "id": "627e37c2-a03c-4675-9173-c0952cc8eeb7",
   "metadata": {},
   "outputs": [
    {
     "data": {
      "text/plain": [
       "'Q2. What are the types of Probability distribution?\\n-The types of probability distribution are:\\nBernoulli\\nBinomial\\nPoisson\\nNormal or Gaussian\\nUniform\\n'"
      ]
     },
     "execution_count": 2,
     "metadata": {},
     "output_type": "execute_result"
    }
   ],
   "source": [
    "'''Q2. What are the types of Probability distribution?\n",
    "-The types of probability distribution are:\n",
    "Bernoulli\n",
    "Binomial\n",
    "Poisson\n",
    "Normal or Gaussian\n",
    "Uniform\n",
    "'''"
   ]
  },
  {
   "cell_type": "code",
   "execution_count": 4,
   "id": "fa306e0b-7589-407f-a152-78b483d8b15f",
   "metadata": {},
   "outputs": [],
   "source": [
    "'''Q3. Write a Python function to calculate the probability density function of a normal distribution with\n",
    "given mean and standard deviation at a given point.\n",
    "'''\n",
    "import math\n",
    "import numpy as np"
   ]
  },
  {
   "cell_type": "code",
   "execution_count": 5,
   "id": "7cb7013f-1d13-4605-8755-22240a1b7ee9",
   "metadata": {},
   "outputs": [],
   "source": [
    "def prob_normal(mean,std,x):\n",
    "    val=0\n",
    "    a = 1/(std*math.sqrt(2*np.pi))\n",
    "    val = a*np.exp((-1)*0.5*(((x-mean)/std)**2))\n",
    "    return val"
   ]
  },
  {
   "cell_type": "code",
   "execution_count": 6,
   "id": "2e165da5-422d-4682-bdb7-e761f85a8fea",
   "metadata": {},
   "outputs": [
    {
     "data": {
      "text/plain": [
       "0.05399096651318806"
      ]
     },
     "execution_count": 6,
     "metadata": {},
     "output_type": "execute_result"
    }
   ],
   "source": [
    "prob_normal(0,1,2)"
   ]
  },
  {
   "cell_type": "code",
   "execution_count": 7,
   "id": "2207bc47-3b47-458c-ab9d-8a2cc962aadd",
   "metadata": {},
   "outputs": [
    {
     "data": {
      "text/plain": [
       "'Q4. What are the properties of Binomial distribution? Give two examples of events where binomial\\ndistribution can be applied.\\nProperties:\\n-Every experiment outcome is binary\\n-Used for discrete random variable\\n-These experiment is performed for n trials\\nExample: tossing a coin 10 times, success of free throw shooter in basketball\\n'"
      ]
     },
     "execution_count": 7,
     "metadata": {},
     "output_type": "execute_result"
    }
   ],
   "source": [
    "'''Q4. What are the properties of Binomial distribution? Give two examples of events where binomial\n",
    "distribution can be applied.\n",
    "Properties:\n",
    "-Every experiment outcome is binary\n",
    "-Used for discrete random variable\n",
    "-These experiment is performed for n trials\n",
    "Example: tossing a coin 10 times, success of free throw shooter in basketball\n",
    "'''"
   ]
  },
  {
   "cell_type": "code",
   "execution_count": 9,
   "id": "57b88cb6-6877-4085-8208-ef5194cf0893",
   "metadata": {},
   "outputs": [],
   "source": [
    "'''Q5. Generate a random sample of size 1000 from a binomial distribution with probability of success 0.4\n",
    "and plot a histogram of the results using matplotlib.\n",
    "\n",
    "'''\n",
    "r = np.random.binomial(n=10,p=0.4,size=1000)"
   ]
  },
  {
   "cell_type": "code",
   "execution_count": 11,
   "id": "2c40fc6d-c680-43f7-bf54-0b6036f24baf",
   "metadata": {},
   "outputs": [],
   "source": [
    "import matplotlib.pyplot as plt"
   ]
  },
  {
   "cell_type": "code",
   "execution_count": 12,
   "id": "223ba693-1b6a-4630-8584-2fc501a48f38",
   "metadata": {},
   "outputs": [
    {
     "data": {
      "text/plain": [
       "(array([  6.,  38., 129., 214., 243., 205., 115.,  41.,   8.,   1.]),\n",
       " array([0. , 0.9, 1.8, 2.7, 3.6, 4.5, 5.4, 6.3, 7.2, 8.1, 9. ]),\n",
       " <BarContainer object of 10 artists>)"
      ]
     },
     "execution_count": 12,
     "metadata": {},
     "output_type": "execute_result"
    },
    {
     "data": {
      "image/png": "[encoded data removed]",
      "text/plain": [
       "<Figure size 640x480 with 1 Axes>"
      ]
     },
     "metadata": {},
     "output_type": "display_data"
    }
   ],
   "source": [
    "plt.hist(r)"
   ]
  },
  {
   "cell_type": "code",
   "execution_count": 19,
   "id": "7ee48af5-d538-4a80-a60b-cc6bb21ed062",
   "metadata": {},
   "outputs": [],
   "source": [
    "'''Q6. Write a Python function to calculate the cumulative distribution function of a Poisson distribution\n",
    "with given mean at a given point.\n",
    "'''\n",
    "def poisson(mean,x):\n",
    "    a = np.exp((-1)*mean)\n",
    "    sum0=0\n",
    "    for i in range(0,x+1):\n",
    "        sum0+=(mean**i)/math.factorial(i)\n",
    "    return a*sum0"
   ]
  },
  {
   "cell_type": "code",
   "execution_count": 20,
   "id": "fa2d8ac6-2e09-4756-a340-36c39235a6a7",
   "metadata": {},
   "outputs": [
    {
     "data": {
      "text/plain": [
       "0.9196986029286058"
      ]
     },
     "execution_count": 20,
     "metadata": {},
     "output_type": "execute_result"
    }
   ],
   "source": [
    "poisson(1,2)"
   ]
  },
  {
   "cell_type": "code",
   "execution_count": 21,
   "id": "ddedc054-f90a-4b36-b52b-74df0e45044e",
   "metadata": {},
   "outputs": [
    {
     "data": {
      "text/plain": [
       "'Q7. How Binomial distribution different from Poisson distribution?\\n-Binomial distribution describes the distribution of binary data from a finite sample while Poisson distribution describes the distribution of binary data from an\\ninfinite sample.\\n'"
      ]
     },
     "execution_count": 21,
     "metadata": {},
     "output_type": "execute_result"
    }
   ],
   "source": [
    "'''Q7. How Binomial distribution different from Poisson distribution?\n",
    "-Binomial distribution describes the distribution of binary data from a finite sample while Poisson distribution describes the distribution of binary data from an\n",
    "infinite sample.\n",
    "'''"
   ]
  },
  {
   "cell_type": "code",
   "execution_count": 23,
   "id": "b9609420-2c85-4667-836e-e7df07a8abe0",
   "metadata": {},
   "outputs": [],
   "source": [
    "'''Q8. Generate a random sample of size 1000 from a Poisson distribution with mean 5 and calculate the\n",
    "sample mean and variance.\n",
    "'''\n",
    "r = np.random.poisson(lam=5,size=1000)"
   ]
  },
  {
   "cell_type": "code",
   "execution_count": 25,
   "id": "2984abbd-5a9d-493f-b56b-9da451eca613",
   "metadata": {},
   "outputs": [
    {
     "data": {
      "text/plain": [
       "5.164"
      ]
     },
     "execution_count": 25,
     "metadata": {},
     "output_type": "execute_result"
    }
   ],
   "source": [
    "r.mean()"
   ]
  },
  {
   "cell_type": "code",
   "execution_count": 26,
   "id": "8098d2b4-413c-4af0-9919-64979052dd0c",
   "metadata": {},
   "outputs": [
    {
     "data": {
      "text/plain": [
       "5.4951039999999995"
      ]
     },
     "execution_count": 26,
     "metadata": {},
     "output_type": "execute_result"
    }
   ],
   "source": [
    "r.var()"
   ]
  },
  {
   "cell_type": "code",
   "execution_count": 27,
   "id": "07daa701-c55f-4aa1-80da-c089e6bdd087",
   "metadata": {},
   "outputs": [
    {
     "data": {
      "text/plain": [
       "'Q9. How mean and variance are related in Binomial distribution and Poisson distribution?\\n- In binomial distribution variance is the number of samples times the mean\\n- In Poisson distribution variance is equal to the mean\\n'"
      ]
     },
     "execution_count": 27,
     "metadata": {},
     "output_type": "execute_result"
    }
   ],
   "source": [
    "'''Q9. How mean and variance are related in Binomial distribution and Poisson distribution?\n",
    "- In binomial distribution variance is the number of samples times the mean\n",
    "- In Poisson distribution variance is equal to the mean\n",
    "'''"
   ]
  },
  {
   "cell_type": "code",
   "execution_count": 28,
   "id": "568e732a-8b85-49c6-85f4-edc35f6d95df",
   "metadata": {},
   "outputs": [
    {
     "data": {
      "text/plain": [
       "'Q10. In normal distribution with respect to mean position, where does the least frequent data appear?\\n-In normal distribution with respect to the mean position the least frequent data appears farther away from the mean.\\n'"
      ]
     },
     "execution_count": 28,
     "metadata": {},
     "output_type": "execute_result"
    }
   ],
   "source": [
    "'''Q10. In normal distribution with respect to mean position, where does the least frequent data appear?\n",
    "-In normal distribution with respect to the mean position the least frequent data appears farther away from the mean.\n",
    "'''"
   ]
  },
  {
   "cell_type": "code",
   "execution_count": null,
   "id": "1428a68f-87d6-4651-aec7-3fed4c6fe68c",
   "metadata": {},
   "outputs": [],
   "source": []
  }
 ],
 "metadata": {
  "kernelspec": {
   "display_name": "Python 3 (ipykernel)",
   "language": "python",
   "name": "python3"
  },
  "language_info": {
   "codemirror_mode": {
    "name": "ipython",
    "version": 3
   },
   "file_extension": ".py",
   "mimetype": "text/x-python",
   "name": "python",
   "nbconvert_exporter": "python",
   "pygments_lexer": "ipython3",
   "version": "3.10.8"
  }
 },
 "nbformat": 4,
 "nbformat_minor": 5
}
