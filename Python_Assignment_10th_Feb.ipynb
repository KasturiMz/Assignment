{
 "cells": [
  {
   "cell_type": "code",
   "execution_count": 1,
   "id": "d2a237b3-046b-4c45-944e-01c06641c08b",
   "metadata": {},
   "outputs": [
    {
     "data": {
      "text/plain": [
       "'\\nThe open() function is used to open a file. The different modes of opening a file are:\\n1. r - for only reading a file\\n2. w - for writing in a file, overwriting the file if it already exists\\n3. x - for opening a new file and writing in the file\\n4. a - for writing in a file and adding the newly written text to the end of the text in  the file if the file already exists\\n5. b - for binary file\\n6. rb- for reading a binary file\\n7. wb- for writing in a binary file\\n8. t - text mode\\n9. + - opening a disk file for updating(reading and writing)\\n10.U - Universal newline mode\\n'"
      ]
     },
     "execution_count": 1,
     "metadata": {},
     "output_type": "execute_result"
    }
   ],
   "source": [
    "#Q1. Which function is used to open a file? What are the different modes of opening a file? Explain each mode of file opening.\n",
    "'''\n",
    "The open() function is used to open a file. The different modes of opening a file are:\n",
    "1. r - for only reading a file\n",
    "2. w - for writing in a file, overwriting the file if it already exists\n",
    "3. x - for opening a new file and writing in the file\n",
    "4. a - for writing in a file and adding the newly written text to the end of the text in  the file if the file already exists\n",
    "5. b - for binary file\n",
    "6. rb- for reading a binary file\n",
    "7. wb- for writing in a binary file\n",
    "8. t - text mode\n",
    "9. + - opening a disk file for updating(reading and writing)\n",
    "10.U - Universal newline mode\n",
    "'''"
   ]
  },
  {
   "cell_type": "code",
   "execution_count": 2,
   "id": "f12b11ec-86fe-4e6d-91b9-e2b73b0e0250",
   "metadata": {},
   "outputs": [
    {
     "data": {
      "text/plain": [
       "'\\nThe close() file closes an open file. Due to buffering sometimes changes made in the file may not show hence, it is essential to close\\nthe file once working on the file is completed.\\n'"
      ]
     },
     "execution_count": 2,
     "metadata": {},
     "output_type": "execute_result"
    }
   ],
   "source": [
    "#Q2. Why close() function is used? Why is it important to close a file?\n",
    "'''\n",
    "The close() file closes an open file. Due to buffering sometimes changes made in the file may not show hence, it is essential to close\n",
    "the file once working on the file is completed.\n",
    "'''"
   ]
  },
  {
   "cell_type": "code",
   "execution_count": 3,
   "id": "84b89624-df8a-4928-9551-e062c4308258",
   "metadata": {},
   "outputs": [
    {
     "name": "stdout",
     "output_type": "stream",
     "text": [
      "I want to become a Data Scientist\n"
     ]
    }
   ],
   "source": [
    "#Q3. Write a python program to create a text file. Write ‘I want to become a Data Scientist’ in that file. Then\n",
    "#close the file. Open this file and read the content of the file.\n",
    "import logging\n",
    "logging.basicConfig(filename = 'Python_10_Feb.log', level = logging.DEBUG, format = '%(asctime)s %(levelname)s %(message)s')\n",
    "f = open('program.txt','w')\n",
    "logging.info('Opening a new file to write')\n",
    "f.write('I want to become a Data Scientist')\n",
    "logging.info('Writing in the file')\n",
    "f.close()\n",
    "logging.info('Closing the file')\n",
    "data = open('program.txt','r')\n",
    "logging.info('Opening the file for reading')\n",
    "print(data.read())\n",
    "logging.info('Printing the contents of the file on the console')\n",
    "data.close()\n",
    "logging.info('Closing the file')"
   ]
  },
  {
   "cell_type": "code",
   "execution_count": 4,
   "id": "d979d4c4-069c-4072-865a-7348f41dd415",
   "metadata": {},
   "outputs": [],
   "source": [
    "#Q4. Explain the following with python code: read(), readline() and readlines().\n",
    "f = open('program2.txt','w')\n",
    "f.write(\"This is my first line.\\nThis is my second line.\\nThis is my third and last line.\")\n",
    "f.close()"
   ]
  },
  {
   "cell_type": "code",
   "execution_count": 5,
   "id": "c7cc31b2-8c36-4f9b-9241-7111eb40d83a",
   "metadata": {},
   "outputs": [
    {
     "name": "stdout",
     "output_type": "stream",
     "text": [
      "This is my first line.\n",
      "This is my second line.\n",
      "This is my third and last line.\n"
     ]
    }
   ],
   "source": [
    "f = open('program2.txt','r')\n",
    "print(f.read()) \n",
    "# read() helps to read all the contents of the file."
   ]
  },
  {
   "cell_type": "code",
   "execution_count": 6,
   "id": "bc0c4d16-fa75-4dea-b9fa-b8397d218a8b",
   "metadata": {},
   "outputs": [
    {
     "name": "stdout",
     "output_type": "stream",
     "text": [
      "This is my first line.\n",
      "\n"
     ]
    }
   ],
   "source": [
    "f.seek(0)\n",
    "print(f.readline())\n",
    "# readline() reads the file until newline or end of file "
   ]
  },
  {
   "cell_type": "code",
   "execution_count": 7,
   "id": "c6ae12a1-c4e1-4552-b7f5-6b3fea044b7b",
   "metadata": {},
   "outputs": [
    {
     "name": "stdout",
     "output_type": "stream",
     "text": [
      "['This is my first line.\\n', 'This is my second line.\\n', 'This is my third and last line.']\n"
     ]
    }
   ],
   "source": [
    "f.seek(0)\n",
    "print(f.readlines())\n",
    "# readlines() reads or returns the list of all the lines in the file"
   ]
  },
  {
   "cell_type": "code",
   "execution_count": 8,
   "id": "19f2ddf1-372f-4630-a1ac-6b2aec794ea1",
   "metadata": {},
   "outputs": [],
   "source": [
    "f.close()"
   ]
  },
  {
   "cell_type": "code",
   "execution_count": 9,
   "id": "12100003-a287-4eab-b858-273e5e8a2dce",
   "metadata": {},
   "outputs": [
    {
     "data": {
      "text/plain": [
       "\"\\n'with' statement is used with open() in order to close the file automatically once the statement ends.\\nThe advantage of using with statement and open() together is that we do not need to close the file separately as it will close automatically\\nat the end of the with statement.\\n\""
      ]
     },
     "execution_count": 9,
     "metadata": {},
     "output_type": "execute_result"
    }
   ],
   "source": [
    "#Q5. Explain why with statement is used with open(). What is the advantage of using with statement and open() together?\n",
    "'''\n",
    "'with' statement is used with open() in order to close the file automatically once the statement ends.\n",
    "The advantage of using with statement and open() together is that we do not need to close the file separately as it will close automatically\n",
    "at the end of the with statement.\n",
    "'''"
   ]
  },
  {
   "cell_type": "code",
   "execution_count": 10,
   "id": "9713ddf3-9954-4517-9ffb-df791ada9d7e",
   "metadata": {},
   "outputs": [],
   "source": [
    "#Q6. Explain the write() and writelines() functions. Give a suitable example.\n",
    "with open('program3.txt','w') as f:\n",
    "    f.write('This is my file. This is my first line.\\nThis is my second line.\\nThis is my third and last line.')\n",
    "    logging.info('Creating a new file and writing in it using with and open() together')\n",
    "#write() functions writes a string to the file and returns the number of characters in the file."
   ]
  },
  {
   "cell_type": "code",
   "execution_count": 11,
   "id": "3d5fd635-412b-4003-9151-330187e82116",
   "metadata": {},
   "outputs": [],
   "source": [
    "with open('program4.txt','w') as f:\n",
    "    lst = ['This is my file. This is my first line.\\n','This is my second line.\\n','This is my third and last line.']\n",
    "    f.writelines(lst)\n",
    "    logging.info('Creating a new file and writing in it using with and open() together and writelines')\n",
    "#writelines() functions writes a list of lines to the file."
   ]
  },
  {
   "cell_type": "code",
   "execution_count": null,
   "id": "4a453734-cb44-489f-8257-25b144638fb9",
   "metadata": {},
   "outputs": [],
   "source": []
  }
 ],
 "metadata": {
  "kernelspec": {
   "display_name": "Python 3 (ipykernel)",
   "language": "python",
   "name": "python3"
  },
  "language_info": {
   "codemirror_mode": {
    "name": "ipython",
    "version": 3
   },
   "file_extension": ".py",
   "mimetype": "text/x-python",
   "name": "python",
   "nbconvert_exporter": "python",
   "pygments_lexer": "ipython3",
   "version": "3.10.8"
  }
 },
 "nbformat": 4,
 "nbformat_minor": 5
}
