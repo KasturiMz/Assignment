{
 "cells": [
  {
   "cell_type": "code",
   "execution_count": 1,
   "id": "f5292348-67a8-4d6d-8486-2a482e3852b0",
   "metadata": {},
   "outputs": [
    {
     "data": {
      "text/plain": [
       "\"\\nMultithreading is the execution of multiple threads concurrently by switching control of the CPU between threads rapidly.\\nMultithreading helps is maximizing CPU utilization.\\nThe module 'threading' is used to handle threads in Python.\\n\""
      ]
     },
     "execution_count": 1,
     "metadata": {},
     "output_type": "execute_result"
    }
   ],
   "source": [
    "#Q1. What is multithreading in python? why is it used? Name the module used to handle threads in python\n",
    "'''\n",
    "Multithreading is the execution of multiple threads concurrently by switching control of the CPU between threads rapidly.\n",
    "Multithreading helps is maximizing CPU utilization.\n",
    "The module 'threading' is used to handle threads in Python.\n",
    "'''"
   ]
  },
  {
   "cell_type": "code",
   "execution_count": 2,
   "id": "b8387d45-003a-4715-906b-0af8246a92a8",
   "metadata": {},
   "outputs": [
    {
     "data": {
      "text/plain": [
       "\"\\nThe threading module is used to handle threads in Python.\\nactiveCount() returns the number of threads currently alive.\\ncurrentThread() is used in returning the current thread object which corresponds to the caller's thread of control.\\nenumerate() returns a list of all currently alive thread objects.\\n\""
      ]
     },
     "execution_count": 2,
     "metadata": {},
     "output_type": "execute_result"
    }
   ],
   "source": [
    "#Q2. Why threading module used? Write the use of the following functions\n",
    "#a. activeCount()\n",
    "#b. currentThread()\n",
    "#c. enumerate()\n",
    "'''\n",
    "The threading module is used to handle threads in Python.\n",
    "activeCount() returns the number of threads currently alive.\n",
    "currentThread() is used in returning the current thread object which corresponds to the caller's thread of control.\n",
    "enumerate() returns a list of all currently alive thread objects.\n",
    "'''\n"
   ]
  },
  {
   "cell_type": "code",
   "execution_count": 3,
   "id": "9920e21c-d911-49bf-a29d-7db44ed52800",
   "metadata": {},
   "outputs": [
    {
     "data": {
      "text/plain": [
       "\"\\na. The run() method helps in executing any target function which belongs to a given active thread object.\\nb. The start() method helps to start a thread's activity. It internally calls run() to execute the target method.\\nc. The join() method in threading helps in delaying a program's execution flow until the target thread is read completely.\\nd. The isAlive() method returns True if the thread is active and False otherwise.\\n\""
      ]
     },
     "execution_count": 3,
     "metadata": {},
     "output_type": "execute_result"
    }
   ],
   "source": [
    "#Q3. Explain the following functions\n",
    "#a. run()\n",
    "#b. start()\n",
    "#c. join()\n",
    "#d. isAlive()\n",
    "'''\n",
    "a. The run() method helps in executing any target function which belongs to a given active thread object.\n",
    "b. The start() method helps to start a thread's activity. It internally calls run() to execute the target method.\n",
    "c. The join() method in threading helps in delaying a program's execution flow until the target thread is read completely.\n",
    "d. The isAlive() method returns True if the thread is active and False otherwise.\n",
    "'''"
   ]
  },
  {
   "cell_type": "code",
   "execution_count": 4,
   "id": "2fc07aef-6d84-40f8-8f2d-74c8f25182b7",
   "metadata": {},
   "outputs": [],
   "source": [
    "#Q4. Write a python program to create two threads. Thread one must print the list of squares and thread two must print the list of cubes.\n",
    "import threading\n",
    "def test(id):\n",
    "    print(\"%d\"%id)\n",
    "thread = [threading.Thread(target = test, args = (i**2,)) for i in range(10)]\n",
    "thread1 = [threading.Thread(target = test, args = (i**3,)) for i in range(10)]"
   ]
  },
  {
   "cell_type": "code",
   "execution_count": 5,
   "id": "d1a2d014-bb37-43f6-84af-24b2b3e95da6",
   "metadata": {},
   "outputs": [
    {
     "name": "stdout",
     "output_type": "stream",
     "text": [
      "0\n",
      "1\n",
      "4\n",
      "9\n",
      "16\n",
      "25\n",
      "36\n",
      "49\n",
      "64\n",
      "81\n"
     ]
    }
   ],
   "source": [
    "for t in thread:\n",
    "    t.start()"
   ]
  },
  {
   "cell_type": "code",
   "execution_count": 6,
   "id": "ff70afcb-78a2-4a8a-92d5-8d5657c915df",
   "metadata": {},
   "outputs": [
    {
     "name": "stdout",
     "output_type": "stream",
     "text": [
      "0\n",
      "1\n",
      "8\n",
      "27\n",
      "64\n",
      "125\n",
      "216\n",
      "343\n",
      "512\n",
      "729\n"
     ]
    }
   ],
   "source": [
    "for t in thread1:\n",
    "    t.start()"
   ]
  },
  {
   "cell_type": "code",
   "execution_count": 7,
   "id": "056c4468-92e7-49ba-bc1a-bc5be997158e",
   "metadata": {},
   "outputs": [
    {
     "data": {
      "text/plain": [
       "'\\nAdvantages:\\n1. Multithreading allows efficient utilization of resources.\\n2. Multithreading allows concurrent execution of multiple tasks and reduces the response time.\\n\\nDisadvantages:\\n1. It is difficult to manage concurrent threads.\\n2. Testing of a multithreaded application is very difficult.\\n'"
      ]
     },
     "execution_count": 7,
     "metadata": {},
     "output_type": "execute_result"
    }
   ],
   "source": [
    "#Q5. State advantages and disadvantages of multithreading.\n",
    "'''\n",
    "Advantages:\n",
    "1. Multithreading allows efficient utilization of resources.\n",
    "2. Multithreading allows concurrent execution of multiple tasks and reduces the response time.\n",
    "\n",
    "Disadvantages:\n",
    "1. It is difficult to manage concurrent threads.\n",
    "2. Testing of a multithreaded application is very difficult.\n",
    "'''"
   ]
  },
  {
   "cell_type": "code",
   "execution_count": 8,
   "id": "68cffa5c-9355-4a4e-a000-5c2b992d1157",
   "metadata": {},
   "outputs": [
    {
     "data": {
      "text/plain": [
       "'\\nDeadlock is the condition in which two or more processes are blocked forever while waiting for each other.\\nRace Condition occurs when two or more processes share some variables and the final output of the program depends on the order of their\\nexecution.\\n'"
      ]
     },
     "execution_count": 8,
     "metadata": {},
     "output_type": "execute_result"
    }
   ],
   "source": [
    "#Q6. Explain deadlocks and race conditions.\n",
    "'''\n",
    "Deadlock is the condition in which two or more processes are blocked forever while waiting for each other.\n",
    "Race Condition occurs when two or more processes share some variables and the final output of the program depends on the order of their\n",
    "execution.\n",
    "'''"
   ]
  },
  {
   "cell_type": "code",
   "execution_count": null,
   "id": "58440b5c-2fc6-4cbf-96c8-9fdbca19220b",
   "metadata": {},
   "outputs": [],
   "source": []
  }
 ],
 "metadata": {
  "kernelspec": {
   "display_name": "Python 3 (ipykernel)",
   "language": "python",
   "name": "python3"
  },
  "language_info": {
   "codemirror_mode": {
    "name": "ipython",
    "version": 3
   },
   "file_extension": ".py",
   "mimetype": "text/x-python",
   "name": "python",
   "nbconvert_exporter": "python",
   "pygments_lexer": "ipython3",
   "version": "3.10.8"
  }
 },
 "nbformat": 4,
 "nbformat_minor": 5
}
