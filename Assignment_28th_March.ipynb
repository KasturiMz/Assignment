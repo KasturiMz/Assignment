{
 "cells": [
  {
   "cell_type": "code",
   "execution_count": 1,
   "id": "279581fc",
   "metadata": {},
   "outputs": [
    {
     "data": {
      "text/plain": [
       "\"Q1. What is Ridge Regression, and how does it differ from ordinary least squares regression?\\n-> Ridge regression is a model tuning method that is used to analyse any data that suffers from multicollinearity. This method performs L2 regularization.\\nRidge regression works with an enhanced cost function when compared to the least squares cost function. Instead of the simple sum of squares, Ridge regression \\nintroduces an additional 'regularization' parameter that penalizes the size of the weights.\\n\""
      ]
     },
     "execution_count": 1,
     "metadata": {},
     "output_type": "execute_result"
    }
   ],
   "source": [
    "'''Q1. What is Ridge Regression, and how does it differ from ordinary least squares regression?\n",
    "-> Ridge regression is a model tuning method that is used to analyse any data that suffers from multicollinearity. This method performs L2 regularization.\n",
    "Ridge regression works with an enhanced cost function when compared to the least squares cost function. Instead of the simple sum of squares, Ridge regression \n",
    "introduces an additional 'regularization' parameter that penalizes the size of the weights.\n",
    "'''"
   ]
  },
  {
   "cell_type": "code",
   "execution_count": 2,
   "id": "f4daf0e0",
   "metadata": {},
   "outputs": [
    {
     "data": {
      "text/plain": [
       "'Q2. What are the assumptions of Ridge Regression?\\n-> The assumptions of Ridge Regression are linearity, constant variance (no outliers), and independence.\\n'"
      ]
     },
     "execution_count": 2,
     "metadata": {},
     "output_type": "execute_result"
    }
   ],
   "source": [
    "'''Q2. What are the assumptions of Ridge Regression?\n",
    "-> The assumptions of Ridge Regression are linearity, constant variance (no outliers), and independence.\n",
    "'''"
   ]
  },
  {
   "cell_type": "code",
   "execution_count": 3,
   "id": "8d634035",
   "metadata": {},
   "outputs": [
    {
     "data": {
      "text/plain": [
       "'Q3. How do you select the value of the tuning parameter (lambda) in Ridge Regression?\\n-> On the training set, we estimate several different Ridge regressions, with different values of the regularization parameter; \\non the validation set, we choose the best model (the regularization parameter which gives the lowest MSE on the validation set).\\n'"
      ]
     },
     "execution_count": 3,
     "metadata": {},
     "output_type": "execute_result"
    }
   ],
   "source": [
    "'''Q3. How do you select the value of the tuning parameter (lambda) in Ridge Regression?\n",
    "-> On the training set, we estimate several different Ridge regressions, with different values of the regularization parameter; \n",
    "on the validation set, we choose the best model (the regularization parameter which gives the lowest MSE on the validation set).\n",
    "'''"
   ]
  },
  {
   "cell_type": "code",
   "execution_count": 4,
   "id": "db41e2c7",
   "metadata": {},
   "outputs": [
    {
     "data": {
      "text/plain": [
       "'Q4. Can Ridge Regression be used for feature selection? If yes, how?\\n-> Ridge regression essentially penalizes the least squares loss by applying a ridge penalty on the regression coefficients. \\nThe ridge penalty shrinks the regression coefficient estimate toward zero, but not exactly zero. For this reason, the ridge \\nregression cannot be used to perform feature selection.\\n'"
      ]
     },
     "execution_count": 4,
     "metadata": {},
     "output_type": "execute_result"
    }
   ],
   "source": [
    "'''Q4. Can Ridge Regression be used for feature selection? If yes, how?\n",
    "-> Ridge regression essentially penalizes the least squares loss by applying a ridge penalty on the regression coefficients. \n",
    "The ridge penalty shrinks the regression coefficient estimate toward zero, but not exactly zero. For this reason, the ridge \n",
    "regression cannot be used to perform feature selection.\n",
    "'''"
   ]
  },
  {
   "cell_type": "code",
   "execution_count": 5,
   "id": "fa20e32c",
   "metadata": {},
   "outputs": [
    {
     "data": {
      "text/plain": [
       "'Q5. How does the Ridge Regression model perform in the presence of multicollinearity?\\n-> Multicollinearity does not affect the regression estimates, it makes them vague, imprecise, and unreliable. \\nThus, it can be hard to determine how the independent variables influence the dependent variable individually.\\n'"
      ]
     },
     "execution_count": 5,
     "metadata": {},
     "output_type": "execute_result"
    }
   ],
   "source": [
    "'''Q5. How does the Ridge Regression model perform in the presence of multicollinearity?\n",
    "-> Multicollinearity does not affect the regression estimates, it makes them vague, imprecise, and unreliable. \n",
    "Thus, it can be hard to determine how the independent variables influence the dependent variable individually.\n",
    "'''"
   ]
  },
  {
   "cell_type": "code",
   "execution_count": 6,
   "id": "9f06ed25",
   "metadata": {},
   "outputs": [
    {
     "data": {
      "text/plain": [
       "'Q6. Can Ridge Regression handle both categorical and continuous independent variables?\\n-> Ridge regression can be used to handle both categorical and continuous independent variables but the categorical variables\\nhave to be transformed using ordinal or nominal encoding accordingly.\\n'"
      ]
     },
     "execution_count": 6,
     "metadata": {},
     "output_type": "execute_result"
    }
   ],
   "source": [
    "'''Q6. Can Ridge Regression handle both categorical and continuous independent variables?\n",
    "-> Ridge regression can be used to handle both categorical and continuous independent variables but the categorical variables\n",
    "have to be transformed using ordinal or nominal encoding accordingly.\n",
    "'''"
   ]
  },
  {
   "cell_type": "code",
   "execution_count": 7,
   "id": "61267378",
   "metadata": {},
   "outputs": [
    {
     "data": {
      "text/plain": [
       "'Q7. How do you interpret the coefficients of Ridge Regression?\\n-> The ridge coefficients are a reduced factor of the simple linear regression coefficients and thus never attain zero values but very small values.\\n'"
      ]
     },
     "execution_count": 7,
     "metadata": {},
     "output_type": "execute_result"
    }
   ],
   "source": [
    "'''Q7. How do you interpret the coefficients of Ridge Regression?\n",
    "-> The ridge coefficients are a reduced factor of the simple linear regression coefficients and thus never attain zero values but very small values.\n",
    "'''"
   ]
  },
  {
   "cell_type": "code",
   "execution_count": 8,
   "id": "c01a2814",
   "metadata": {},
   "outputs": [
    {
     "data": {
      "text/plain": [
       "'Q8. Can Ridge Regression be used for time-series data analysis? If yes, how?\\n-> The ridge regression technique can be used to predict time-series. Ridge regression (RR) can also solve the multicollinearity problem that exists in linear regression.\\nRidge regression adds a penalty term to the sum of squared errors of the linear regression model, which shrinks the coefficients of the predictors towards zero.\\n'"
      ]
     },
     "execution_count": 8,
     "metadata": {},
     "output_type": "execute_result"
    }
   ],
   "source": [
    "'''Q8. Can Ridge Regression be used for time-series data analysis? If yes, how?\n",
    "-> The ridge regression technique can be used to predict time-series. Ridge regression (RR) can also solve the multicollinearity problem that exists in linear regression.\n",
    "Ridge regression adds a penalty term to the sum of squared errors of the linear regression model, which shrinks the coefficients of the predictors towards zero.\n",
    "'''"
   ]
  },
  {
   "cell_type": "code",
   "execution_count": null,
   "id": "509458eb",
   "metadata": {},
   "outputs": [],
   "source": []
  }
 ],
 "metadata": {
  "kernelspec": {
   "display_name": "Python 3",
   "language": "python",
   "name": "python3"
  },
  "language_info": {
   "codemirror_mode": {
    "name": "ipython",
    "version": 3
   },
   "file_extension": ".py",
   "mimetype": "text/x-python",
   "name": "python",
   "nbconvert_exporter": "python",
   "pygments_lexer": "ipython3",
   "version": "3.8.8"
  }
 },
 "nbformat": 4,
 "nbformat_minor": 5
}
