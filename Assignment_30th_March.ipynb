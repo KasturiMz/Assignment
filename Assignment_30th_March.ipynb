{
 "cells": [
  {
   "cell_type": "code",
   "execution_count": 1,
   "id": "ccd8df38",
   "metadata": {},
   "outputs": [
    {
     "data": {
      "text/plain": [
       "'Q1. What is Elastic Net Regression and how does it differ from other regression techniques?\\n-> Elastic net linear regression uses the penalties from both the lasso and ridge techniques to regularize regression models. The technique combines both the lasso and ridge regression methods by learning from their shortcomings to improve the regularization of statistical models.\\n'"
      ]
     },
     "execution_count": 1,
     "metadata": {},
     "output_type": "execute_result"
    }
   ],
   "source": [
    "'''Q1. What is Elastic Net Regression and how does it differ from other regression techniques?\n",
    "-> Elastic net linear regression uses the penalties from both the lasso and ridge techniques to regularize regression models. The technique combines both the lasso and ridge regression methods by learning from their shortcomings to improve the regularization of statistical models.\n",
    "'''"
   ]
  },
  {
   "cell_type": "code",
   "execution_count": 2,
   "id": "aaf4dfad",
   "metadata": {},
   "outputs": [
    {
     "data": {
      "text/plain": [
       "'Q2. How do you choose the optimal values of the regularization parameters for Elastic Net Regression?\\n-> On the training set, we estimate several different Elastic Net regressions, with different values of the regularization parameter; on the validation set, we choose the best model (the regularization parameter which gives the lowest MSE on the validation set);\\n'"
      ]
     },
     "execution_count": 2,
     "metadata": {},
     "output_type": "execute_result"
    }
   ],
   "source": [
    "'''Q2. How do you choose the optimal values of the regularization parameters for Elastic Net Regression?\n",
    "-> On the training set, we estimate several different Elastic Net regressions, with different values of the regularization parameter; on the validation set, we choose the best model (the regularization parameter which gives the lowest MSE on the validation set);\n",
    "'''"
   ]
  },
  {
   "cell_type": "code",
   "execution_count": 3,
   "id": "74bdbed6",
   "metadata": {},
   "outputs": [
    {
     "data": {
      "text/plain": [
       "'Q3. What are the advantages and disadvantages of Elastic Net Regression?\\n-> Elastic Net has several advantages over other regression techniques: \\n1. It can handle multicollinearity, which occurs when two or more features are highly correlated with each other. \\n2. It can also handle datasets with a large number of features and a small number of observations.\\n\\nDisadvantage:\\nElasticNet can be computationally expensive on large datasets due to the need to tune the model.\\n'"
      ]
     },
     "execution_count": 3,
     "metadata": {},
     "output_type": "execute_result"
    }
   ],
   "source": [
    "'''Q3. What are the advantages and disadvantages of Elastic Net Regression?\n",
    "-> Elastic Net has several advantages over other regression techniques: \n",
    "1. It can handle multicollinearity, which occurs when two or more features are highly correlated with each other. \n",
    "2. It can also handle datasets with a large number of features and a small number of observations.\n",
    "\n",
    "Disadvantage:\n",
    "ElasticNet can be computationally expensive on large datasets due to the need to tune the model.\n",
    "'''"
   ]
  },
  {
   "cell_type": "code",
   "execution_count": 4,
   "id": "810eb34b",
   "metadata": {},
   "outputs": [
    {
     "data": {
      "text/plain": [
       "'Q4. What are some common use cases for Elastic Net Regression?\\n-> Elastic net can be used in applications, such as in sparse PCA, where it obtains principal components that are modified by sparse loadings. \\nThe other application is in the kernel elastic net, where the generation of class kernel machines takes place with support vectors.\\n'"
      ]
     },
     "execution_count": 4,
     "metadata": {},
     "output_type": "execute_result"
    }
   ],
   "source": [
    "'''Q4. What are some common use cases for Elastic Net Regression?\n",
    "-> Elastic net can be used in applications, such as in sparse PCA, where it obtains principal components that are modified by sparse loadings. \n",
    "The other application is in the kernel elastic net, where the generation of class kernel machines takes place with support vectors.\n",
    "'''"
   ]
  },
  {
   "cell_type": "code",
   "execution_count": 5,
   "id": "e06e9521",
   "metadata": {},
   "outputs": [
    {
     "data": {
      "text/plain": [
       "'Q5. How do you interpret the coefficients in Elastic Net Regression?\\n-> The coefficients that are zero indicate that the corresponding features are not relevant for the model, and they are eliminated by the lasso penalty. \\nTherefore, we can use the coefficients of elastic net regression to rank the features by their importance and select the ones that have non-zero coefficients.\\n'"
      ]
     },
     "execution_count": 5,
     "metadata": {},
     "output_type": "execute_result"
    }
   ],
   "source": [
    "'''Q5. How do you interpret the coefficients in Elastic Net Regression?\n",
    "-> The coefficients that are zero indicate that the corresponding features are not relevant for the model, and they are eliminated by the lasso penalty. \n",
    "Therefore, we can use the coefficients of elastic net regression to rank the features by their importance and select the ones that have non-zero coefficients.\n",
    "'''"
   ]
  },
  {
   "cell_type": "code",
   "execution_count": 6,
   "id": "68c595cc",
   "metadata": {},
   "outputs": [
    {
     "data": {
      "text/plain": [
       "'Q6. How do you handle missing values when using Elastic Net Regression?\\n-> We should address any missing values in our dataset before applying ElasticNet Regression. Depending on the extent and nature of the missing data, we can choose to impute missing values or remove the corresponding observations.\\n'"
      ]
     },
     "execution_count": 6,
     "metadata": {},
     "output_type": "execute_result"
    }
   ],
   "source": [
    "'''Q6. How do you handle missing values when using Elastic Net Regression?\n",
    "-> We should address any missing values in our dataset before applying ElasticNet Regression. Depending on the extent and nature of the missing data, we can choose to impute missing values or remove the corresponding observations.\n",
    "'''"
   ]
  },
  {
   "cell_type": "code",
   "execution_count": 7,
   "id": "5afcee65",
   "metadata": {},
   "outputs": [
    {
     "data": {
      "text/plain": [
       "'Q7. How do you use Elastic Net Regression for feature selection?\\n-> Elastic Net regression has two penalty terms which are the L1 and L2 norms of the coefficient vector, which are multiplied by two hyperparameters, alpha and lambda. \\nThe L1 norm is used to perform feature selection, whereas the L2 norm is used to perform feature shrinkage.\\n'"
      ]
     },
     "execution_count": 7,
     "metadata": {},
     "output_type": "execute_result"
    }
   ],
   "source": [
    "'''Q7. How do you use Elastic Net Regression for feature selection?\n",
    "-> Elastic Net regression has two penalty terms which are the L1 and L2 norms of the coefficient vector, which are multiplied by two hyperparameters, alpha and lambda. \n",
    "The L1 norm is used to perform feature selection, whereas the L2 norm is used to perform feature shrinkage.\n",
    "'''"
   ]
  },
  {
   "cell_type": "code",
   "execution_count": 8,
   "id": "e79c585d",
   "metadata": {},
   "outputs": [
    {
     "data": {
      "text/plain": [
       "'Q8. How do you pickle and unpickle a trained Elastic Net Regression model in Python?\\n-> Pickling is a process by which the object structure in Python is serialized. A Python object is converted into a byte stream when it undergoes pickling.\\nUnpickling is a process by which original Python objects are retrieved from the stored string representation i.e., from the pickle file. It converts the byte stream into a Python object.\\n'"
      ]
     },
     "execution_count": 8,
     "metadata": {},
     "output_type": "execute_result"
    }
   ],
   "source": [
    "'''Q8. How do you pickle and unpickle a trained Elastic Net Regression model in Python?\n",
    "-> Pickling is a process by which the object structure in Python is serialized. A Python object is converted into a byte stream when it undergoes pickling.\n",
    "Unpickling is a process by which original Python objects are retrieved from the stored string representation i.e., from the pickle file. It converts the byte stream into a Python object.\n",
    "'''"
   ]
  },
  {
   "cell_type": "code",
   "execution_count": 9,
   "id": "ce519f0a",
   "metadata": {},
   "outputs": [
    {
     "data": {
      "text/plain": [
       "\"Q9. What is the purpose of pickling a model in machine learning?\\n-> The pickle module keeps track of the objects it has already serialized, so that later references to the same object \\nwon't be serialized again, thus allowing for faster execution time. It allows saving model in very little time.\\n\""
      ]
     },
     "execution_count": 9,
     "metadata": {},
     "output_type": "execute_result"
    }
   ],
   "source": [
    "'''Q9. What is the purpose of pickling a model in machine learning?\n",
    "-> The pickle module keeps track of the objects it has already serialized, so that later references to the same object \n",
    "won't be serialized again, thus allowing for faster execution time. It allows saving model in very little time.\n",
    "'''"
   ]
  },
  {
   "cell_type": "code",
   "execution_count": null,
   "id": "0aae3427",
   "metadata": {},
   "outputs": [],
   "source": []
  }
 ],
 "metadata": {
  "kernelspec": {
   "display_name": "Python 3",
   "language": "python",
   "name": "python3"
  },
  "language_info": {
   "codemirror_mode": {
    "name": "ipython",
    "version": 3
   },
   "file_extension": ".py",
   "mimetype": "text/x-python",
   "name": "python",
   "nbconvert_exporter": "python",
   "pygments_lexer": "ipython3",
   "version": "3.8.8"
  }
 },
 "nbformat": 4,
 "nbformat_minor": 5
}
