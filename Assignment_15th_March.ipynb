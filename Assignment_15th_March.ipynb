{
 "cells": [
  {
   "cell_type": "code",
   "execution_count": 1,
   "id": "af80be6e-b08a-4df2-a3a6-891e9e3471eb",
   "metadata": {},
   "outputs": [
    {
     "data": {
      "text/plain": [
       "'Q1- Explain the following with an example:\\na) Artificial Intelligence\\nb) Machine Learning\\nc) Deep Learning\\n\\n-> Artificial intelligence is the intelligence possessed by machines and softwares. It is about teaching computers to program\\nthemselves to make decisions or perform actions based on its existing knowledge. For eg: self driving cars, chess playing computers.\\n\\nMachine learning is a branch of artificial intelligence which focuses on the use of data and algorithms to imitate the human learning \\nprocess while gradually improving its accuracy. For eg: spam detection in emails, stock price forecasting.\\n\\nDeep learning is a branch of machine learning which uses neural networks that are trained to imitate the human brain.For eg:\\nface recognition, natural language processing.\\n'"
      ]
     },
     "execution_count": 1,
     "metadata": {},
     "output_type": "execute_result"
    }
   ],
   "source": [
    "'''Q1- Explain the following with an example:\n",
    "a) Artificial Intelligence\n",
    "b) Machine Learning\n",
    "c) Deep Learning\n",
    "\n",
    "-> Artificial intelligence is the intelligence possessed by machines and softwares. It is about teaching computers to program\n",
    "themselves to make decisions or perform actions based on its existing knowledge. For eg: self driving cars, chess playing computers.\n",
    "\n",
    "Machine learning is a branch of artificial intelligence which focuses on the use of data and algorithms to imitate the human learning \n",
    "process while gradually improving its accuracy. For eg: spam detection in emails, stock price forecasting.\n",
    "\n",
    "Deep learning is a branch of machine learning which uses neural networks that are trained to imitate the human brain.For eg:\n",
    "face recognition, natural language processing.\n",
    "'''"
   ]
  },
  {
   "cell_type": "code",
   "execution_count": 2,
   "id": "de705761-7b44-4023-b222-f5559b1ead4e",
   "metadata": {},
   "outputs": [
    {
     "data": {
      "text/plain": [
       "'Q2- What is supervised learning? List some examples of supervised learning.\\n->  Supervised learning is defined by its use of labeled datasets to train algorithms that classify data or predict outcomes accurately.\\nFor eg: Image and speech recognition, recommendation systems, and fraud detection.\\n'"
      ]
     },
     "execution_count": 2,
     "metadata": {},
     "output_type": "execute_result"
    }
   ],
   "source": [
    "'''Q2- What is supervised learning? List some examples of supervised learning.\n",
    "->  Supervised learning is defined by its use of labeled datasets to train algorithms that classify data or predict outcomes accurately.\n",
    "For eg: Image and speech recognition, recommendation systems, and fraud detection.\n",
    "'''"
   ]
  },
  {
   "cell_type": "code",
   "execution_count": 3,
   "id": "d1d16af8-293e-47d4-a9a7-14ab2c72cd04",
   "metadata": {},
   "outputs": [
    {
     "data": {
      "text/plain": [
       "'Q3- What is unsupervised learning? List some examplKs of unsupervised learning.\\n-> Unsupervised learning, also known as unsupervised machine learning, uses machine learning algorithms to analyze and cluster unlabeled datasets. \\nFor eg: customer segmentation, and image recognition.\\n'"
      ]
     },
     "execution_count": 3,
     "metadata": {},
     "output_type": "execute_result"
    }
   ],
   "source": [
    "'''Q3- What is unsupervised learning? List some examplKs of unsupervised learning.\n",
    "-> Unsupervised learning, also known as unsupervised machine learning, uses machine learning algorithms to analyze and cluster unlabeled datasets. \n",
    "For eg: customer segmentation, and image recognition.\n",
    "'''"
   ]
  },
  {
   "cell_type": "code",
   "execution_count": 4,
   "id": "937ab7a4-c3c5-41c2-abfc-9e2bf326e2bd",
   "metadata": {},
   "outputs": [
    {
     "data": {
      "text/plain": [
       "'Q4- What is the difference between AI, ML, DL, and DS?\\n-> Data science is a process of collection and analysis of data. AI is a process where only future patterns and trends have to be analyzed.\\nMachine learning is a branch of artificial intelligence which focuses on the use of data and algorithms to imitate the human learning \\nprocess while gradually improving its accuracy.Deep learning is a branch of machine learning which uses neural networks that are trained to \\nimitate the human brain.\\n'"
      ]
     },
     "execution_count": 4,
     "metadata": {},
     "output_type": "execute_result"
    }
   ],
   "source": [
    "'''Q4- What is the difference between AI, ML, DL, and DS?\n",
    "-> Data science is a process of collection and analysis of data. AI is a process where only future patterns and trends have to be analyzed.\n",
    "Machine learning is a branch of artificial intelligence which focuses on the use of data and algorithms to imitate the human learning \n",
    "process while gradually improving its accuracy.Deep learning is a branch of machine learning which uses neural networks that are trained to \n",
    "imitate the human brain.\n",
    "'''"
   ]
  },
  {
   "cell_type": "code",
   "execution_count": 5,
   "id": "993ad0a6-e4ab-4b74-8f23-a5e51c4021a4",
   "metadata": {},
   "outputs": [
    {
     "data": {
      "text/plain": [
       "'Q5- What are the main differences between supervised, unsupervised, and semi-supervised learning?\\n->  Supervised learning is defined by its use of labeled datasets to train algorithms that classify data or predict outcomes accurately.\\nWhile unsupervised machine learning, uses machine learning algorithms to analyze and cluster unlabeled datasets.\\nWhile semi supervised learning is a method that uses a small amount of labeled data and a large amount of unlabeled data to train a model.\\n'"
      ]
     },
     "execution_count": 5,
     "metadata": {},
     "output_type": "execute_result"
    }
   ],
   "source": [
    "'''Q5- What are the main differences between supervised, unsupervised, and semi-supervised learning?\n",
    "->  Supervised learning is defined by its use of labeled datasets to train algorithms that classify data or predict outcomes accurately.\n",
    "While unsupervised machine learning, uses machine learning algorithms to analyze and cluster unlabeled datasets.\n",
    "While semi supervised learning is a method that uses a small amount of labeled data and a large amount of unlabeled data to train a model.\n",
    "'''"
   ]
  },
  {
   "cell_type": "code",
   "execution_count": 6,
   "id": "d85884c9-b95f-45ec-9736-6e1c28e2fab3",
   "metadata": {},
   "outputs": [
    {
     "data": {
      "text/plain": [
       "'Q6- What is train, test and validation split? Explain the importance of each term.\\n-> Training data is the set of the data on which the actual training takes place. Validation split helps to improve the model performance by fine-tuning the model after each epoch. \\nThe test set informs us about the final accuracy of the model after completing the training phase.\\n'"
      ]
     },
     "execution_count": 6,
     "metadata": {},
     "output_type": "execute_result"
    }
   ],
   "source": [
    "'''Q6- What is train, test and validation split? Explain the importance of each term.\n",
    "-> Training data is the set of the data on which the actual training takes place. Validation split helps to improve the model performance by fine-tuning the model after each epoch. \n",
    "The test set informs us about the final accuracy of the model after completing the training phase.\n",
    "'''"
   ]
  },
  {
   "cell_type": "code",
   "execution_count": 7,
   "id": "9664530d-9228-4fd3-bddf-a6626d1c1286",
   "metadata": {},
   "outputs": [
    {
     "data": {
      "text/plain": [
       "'Q7- How can unsupervised learning be used in anomaly detection?\\n-> Unsupervised anomaly detection assumes two things about the data ie only a small percentage of data is anomalous and any anomaly is statistically \\ndifferent from the normal samples.\\n'"
      ]
     },
     "execution_count": 7,
     "metadata": {},
     "output_type": "execute_result"
    }
   ],
   "source": [
    "'''Q7- How can unsupervised learning be used in anomaly detection?\n",
    "-> Unsupervised anomaly detection assumes two things about the data ie only a small percentage of data is anomalous and any anomaly is statistically \n",
    "different from the normal samples.\n",
    "'''"
   ]
  },
  {
   "cell_type": "code",
   "execution_count": 8,
   "id": "e01ebcd6-217b-4496-a14e-9d7c754e7c8d",
   "metadata": {},
   "outputs": [
    {
     "data": {
      "text/plain": [
       "'Q8- List down some commonly used supervised learning algorithms and unsupervised learning\\nalgorithms.\\n-> Supervised Learning:\\n   Linear Regression\\n   Logistic Regression\\n   Naive Bayes\\n   Decision Tree\\n   Random Forest\\n   Support Vector Machine\\n\\n-> Unsupervised Learning:\\n   K Means Clustering\\n   Hierarchical Clustering\\n'"
      ]
     },
     "execution_count": 8,
     "metadata": {},
     "output_type": "execute_result"
    }
   ],
   "source": [
    "'''Q8- List down some commonly used supervised learning algorithms and unsupervised learning\n",
    "algorithms.\n",
    "-> Supervised Learning:\n",
    "   Linear Regression\n",
    "   Logistic Regression\n",
    "   Naive Bayes\n",
    "   Decision Tree\n",
    "   Random Forest\n",
    "   Support Vector Machine\n",
    "\n",
    "-> Unsupervised Learning:\n",
    "   K Means Clustering\n",
    "   Hierarchical Clustering\n",
    "'''"
   ]
  },
  {
   "cell_type": "code",
   "execution_count": null,
   "id": "166cfafb-37fd-4a1f-bc10-254c6f0706c2",
   "metadata": {},
   "outputs": [],
   "source": []
  }
 ],
 "metadata": {
  "kernelspec": {
   "display_name": "Python 3 (ipykernel)",
   "language": "python",
   "name": "python3"
  },
  "language_info": {
   "codemirror_mode": {
    "name": "ipython",
    "version": 3
   },
   "file_extension": ".py",
   "mimetype": "text/x-python",
   "name": "python",
   "nbconvert_exporter": "python",
   "pygments_lexer": "ipython3",
   "version": "3.10.8"
  }
 },
 "nbformat": 4,
 "nbformat_minor": 5
}
