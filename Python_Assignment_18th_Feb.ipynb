{
 "cells": [
  {
   "cell_type": "code",
   "execution_count": 1,
   "id": "0bdf4083-d89c-4c2c-b658-b26e2aaf661b",
   "metadata": {},
   "outputs": [
    {
     "data": {
      "text/plain": [
       "'\\nApplication Programming Interface(API) is a set of definitions and protocols used in building and integrating application software.\\nWeather Snippets is an API we use regularly to get weather data.\\n'"
      ]
     },
     "execution_count": 1,
     "metadata": {},
     "output_type": "execute_result"
    }
   ],
   "source": [
    "#Q1. What is an API? Give an example, where an API is used in real life.\n",
    "'''\n",
    "Application Programming Interface(API) is a set of definitions and protocols used in building and integrating application software.\n",
    "Weather Snippets is an API we use regularly to get weather data.\n",
    "'''"
   ]
  },
  {
   "cell_type": "code",
   "execution_count": 2,
   "id": "8244e301-02a2-4c85-91a4-ae7d96c844ae",
   "metadata": {},
   "outputs": [
    {
     "data": {
      "text/plain": [
       "'\\nAdvantages:\\n1. Improves customization by allowing developers to access and use data and functionality from other applications.\\n2. Makes the user experience more flexible and personalized.\\n\\nDisadvantage:\\n1. APIs are vulnerable to man-in-the-middle attacks, CSRF attacks, XSS attacks, SQL injection, and DDoS attacks.\\n'"
      ]
     },
     "execution_count": 2,
     "metadata": {},
     "output_type": "execute_result"
    }
   ],
   "source": [
    "#Q2. Give advantages and disadvantages of using API.\n",
    "'''\n",
    "Advantages:\n",
    "1. Improves customization by allowing developers to access and use data and functionality from other applications.\n",
    "2. Makes the user experience more flexible and personalized.\n",
    "\n",
    "Disadvantage:\n",
    "1. APIs are vulnerable to man-in-the-middle attacks, CSRF attacks, XSS attacks, SQL injection, and DDoS attacks.\n",
    "'''"
   ]
  },
  {
   "cell_type": "code",
   "execution_count": 3,
   "id": "7377032a-ad13-4c56-ba8d-001d2e94f10c",
   "metadata": {},
   "outputs": [
    {
     "data": {
      "text/plain": [
       "\"\\nA Web API is an application programming interface for the Web.\\nAPI is an interface that exposes an application's data to outside software, whereas web applications are one type of API with stricter requirements.\\n\""
      ]
     },
     "execution_count": 3,
     "metadata": {},
     "output_type": "execute_result"
    }
   ],
   "source": [
    "#Q3. What is a Web API? Differentiate between API and Web API.\n",
    "'''\n",
    "A Web API is an application programming interface for the Web.\n",
    "API is an interface that exposes an application's data to outside software, whereas web applications are one type of API with stricter requirements.\n",
    "'''"
   ]
  },
  {
   "cell_type": "code",
   "execution_count": 4,
   "id": "3f4e67e0-d034-46e2-b9d3-0e81a2c6d4a5",
   "metadata": {},
   "outputs": [
    {
     "data": {
      "text/plain": [
       "'\\nREST is a software architectural style that defines the set of rules to be used for creating web services. Web services which follow \\nthe REST architectural style are known as RESTful web services. A Restful system consists of a:\\n* client who requests for the resources.\\n* server who has the resources.\\n\\nThe SOAP web services architecture is based on interactions between three components: a service provider, a service requester, and \\nan optional service registry.\\n\\nSOAP architecture is highly complex, extremely limited in its support of data formats, API calls are not cached and uses more bandwidth.\\n'"
      ]
     },
     "execution_count": 4,
     "metadata": {},
     "output_type": "execute_result"
    }
   ],
   "source": [
    "#Q4. Explain REST and SOAP Architecture. Mention shortcomings of SOAP.\n",
    "'''\n",
    "REST is a software architectural style that defines the set of rules to be used for creating web services. Web services which follow \n",
    "the REST architectural style are known as RESTful web services. A Restful system consists of a:\n",
    "* client who requests for the resources.\n",
    "* server who has the resources.\n",
    "\n",
    "The SOAP web services architecture is based on interactions between three components: a service provider, a service requester, and \n",
    "an optional service registry.\n",
    "\n",
    "SOAP architecture is highly complex, extremely limited in its support of data formats, API calls are not cached and uses more bandwidth.\n",
    "'''"
   ]
  },
  {
   "cell_type": "code",
   "execution_count": 5,
   "id": "ce6fe599-bf7d-4802-8d90-1fc91f694185",
   "metadata": {},
   "outputs": [
    {
     "data": {
      "text/plain": [
       "'\\nREST is a set of guidelines that offers flexible implementation, whereas SOAP is a protocol with specific requirements like XML messaging.\\nSOAP needs more bandwidth for its usage whereas REST doesn’t need much bandwidth.\\n'"
      ]
     },
     "execution_count": 5,
     "metadata": {},
     "output_type": "execute_result"
    }
   ],
   "source": [
    "#Q5. Differentiate between REST and SOAP.\n",
    "'''\n",
    "REST is a set of guidelines that offers flexible implementation, whereas SOAP is a protocol with specific requirements like XML messaging.\n",
    "SOAP needs more bandwidth for its usage whereas REST doesn’t need much bandwidth.\n",
    "'''"
   ]
  },
  {
   "cell_type": "code",
   "execution_count": null,
   "id": "2eac06eb-5aff-4ee2-869e-9b64975fd57f",
   "metadata": {},
   "outputs": [],
   "source": []
  }
 ],
 "metadata": {
  "kernelspec": {
   "display_name": "Python 3 (ipykernel)",
   "language": "python",
   "name": "python3"
  },
  "language_info": {
   "codemirror_mode": {
    "name": "ipython",
    "version": 3
   },
   "file_extension": ".py",
   "mimetype": "text/x-python",
   "name": "python",
   "nbconvert_exporter": "python",
   "pygments_lexer": "ipython3",
   "version": "3.10.6"
  }
 },
 "nbformat": 4,
 "nbformat_minor": 5
}
