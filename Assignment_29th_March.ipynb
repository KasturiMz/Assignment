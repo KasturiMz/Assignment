{
 "cells": [
  {
   "cell_type": "code",
   "execution_count": 1,
   "id": "88ba95de",
   "metadata": {},
   "outputs": [
    {
     "data": {
      "text/plain": [
       "'Q1. What is Lasso Regression, and how does it differ from other regression techniques?\\n-> LASSO regression, also known as L1 regularization, is a popular technique used in statistical modeling and machine learning to estimate the relationships between variables and make predictions. \\nLASSO stands for Least Absolute Shrinkage and Selection Operator. \\nThe difference lies in the loss function used – Lasso Regression uses L1 regularization, which aims to minimize the sum of the absolute values of coefficients multiplied by penalty factor λ. Unlike \\nRidge Regression, Lasso Regression can force coefficients of less significant features to be exactly zero.\\n'"
      ]
     },
     "execution_count": 1,
     "metadata": {},
     "output_type": "execute_result"
    }
   ],
   "source": [
    "'''Q1. What is Lasso Regression, and how does it differ from other regression techniques?\n",
    "-> LASSO regression, also known as L1 regularization, is a popular technique used in statistical modeling and machine learning to estimate the relationships between variables and make predictions. \n",
    "LASSO stands for Least Absolute Shrinkage and Selection Operator. \n",
    "The difference lies in the loss function used – Lasso Regression uses L1 regularization, which aims to minimize the sum of the absolute values of coefficients multiplied by penalty factor λ. Unlike \n",
    "Ridge Regression, Lasso Regression can force coefficients of less significant features to be exactly zero.\n",
    "'''"
   ]
  },
  {
   "cell_type": "code",
   "execution_count": 2,
   "id": "d1a35290",
   "metadata": {},
   "outputs": [
    {
     "data": {
      "text/plain": [
       "'Q2. What is the main advantage of using Lasso Regression in feature selection?\\n-> The main advantage of a LASSO regression model is that it has the ability to set the coefficients for features it does not consider interesting to zero. \\nThis means that the model does some automatic feature selection to decide which features should and should not be included on its own.\\n'"
      ]
     },
     "execution_count": 2,
     "metadata": {},
     "output_type": "execute_result"
    }
   ],
   "source": [
    "'''Q2. What is the main advantage of using Lasso Regression in feature selection?\n",
    "-> The main advantage of a LASSO regression model is that it has the ability to set the coefficients for features it does not consider interesting to zero. \n",
    "This means that the model does some automatic feature selection to decide which features should and should not be included on its own.\n",
    "'''"
   ]
  },
  {
   "cell_type": "code",
   "execution_count": 3,
   "id": "64192090",
   "metadata": {},
   "outputs": [
    {
     "data": {
      "text/plain": [
       "'Q3. How do you interpret the coefficients of a Lasso Regression model?\\n-> Lasso regression forces coefficients toward 0. The smaller the coefficient the less important it is or less variance it explains. \\n'"
      ]
     },
     "execution_count": 3,
     "metadata": {},
     "output_type": "execute_result"
    }
   ],
   "source": [
    "'''Q3. How do you interpret the coefficients of a Lasso Regression model?\n",
    "-> Lasso regression forces coefficients toward 0. The smaller the coefficient the less important it is or less variance it explains. \n",
    "'''"
   ]
  },
  {
   "cell_type": "code",
   "execution_count": 4,
   "id": "14573d2a",
   "metadata": {},
   "outputs": [
    {
     "data": {
      "text/plain": [
       "\"Q4. What are the tuning parameters that can be adjusted in Lasso Regression, and how do they affect the\\nmodel's performance?\\n->  Lasso introduces bias into ordinary least squares to combat overfitting. The hyperparameter in this model \\nis denoted by λ (lambda). A larger value chosen for λ will result in a greater quantity of bias introduced into \\nthe algorithm's output.\\n\""
      ]
     },
     "execution_count": 4,
     "metadata": {},
     "output_type": "execute_result"
    }
   ],
   "source": [
    "'''Q4. What are the tuning parameters that can be adjusted in Lasso Regression, and how do they affect the\n",
    "model's performance?\n",
    "->  Lasso introduces bias into ordinary least squares to combat overfitting. The hyperparameter in this model \n",
    "is denoted by λ (lambda). A larger value chosen for λ will result in a greater quantity of bias introduced into \n",
    "the algorithm's output.\n",
    "'''"
   ]
  },
  {
   "cell_type": "code",
   "execution_count": 5,
   "id": "0a474c40",
   "metadata": {},
   "outputs": [
    {
     "data": {
      "text/plain": [
       "'Q5. Can Lasso Regression be used for non-linear regression problems? If yes, how?\\n-> If we can linearize the model, then Lasso regresssion can be used but for an approximate solution in the LS sense since what is measured is y and not any of its possible transforms.\\n'"
      ]
     },
     "execution_count": 5,
     "metadata": {},
     "output_type": "execute_result"
    }
   ],
   "source": [
    "'''Q5. Can Lasso Regression be used for non-linear regression problems? If yes, how?\n",
    "-> If we can linearize the model, then Lasso regresssion can be used but for an approximate solution in the LS sense since what is measured is y and not any of its possible transforms.\n",
    "'''"
   ]
  },
  {
   "cell_type": "code",
   "execution_count": 6,
   "id": "7f78755a",
   "metadata": {},
   "outputs": [
    {
     "data": {
      "text/plain": [
       "'Q6. What is the difference between Ridge Regression and Lasso Regression?\\n-> Similar to the lasso regression, ridge regression puts a similar constraint on the coefficients by introducing a penalty factor. \\nHowever, while lasso regression takes the magnitude of the coefficients, ridge regression takes the square.\\n'"
      ]
     },
     "execution_count": 6,
     "metadata": {},
     "output_type": "execute_result"
    }
   ],
   "source": [
    "'''Q6. What is the difference between Ridge Regression and Lasso Regression?\n",
    "-> Similar to the lasso regression, ridge regression puts a similar constraint on the coefficients by introducing a penalty factor. \n",
    "However, while lasso regression takes the magnitude of the coefficients, ridge regression takes the square.\n",
    "'''"
   ]
  },
  {
   "cell_type": "code",
   "execution_count": 8,
   "id": "df2586ab",
   "metadata": {},
   "outputs": [
    {
     "data": {
      "text/plain": [
       "'Q7. Can Lasso Regression handle multicollinearity in the input features? If yes, how?\\n-> Lasso regression shrinks the coefficients and helps to reduce the model complexity and multi-collinearity.\\nDuring the modelling, many of the highly correlated features in data is being eliminated by Lasso regression.\\nWhen multicollinearity is present, the lasso may select one variable over another that is highly correlated, \\neven though both variables are important predictors. This can lead to biased model results and incorrect conclusions.\\n'"
      ]
     },
     "execution_count": 8,
     "metadata": {},
     "output_type": "execute_result"
    }
   ],
   "source": [
    "'''Q7. Can Lasso Regression handle multicollinearity in the input features? If yes, how?\n",
    "-> Lasso regression shrinks the coefficients and helps to reduce the model complexity and multi-collinearity.\n",
    "During the modelling, many of the highly correlated features in data is being eliminated by Lasso regression.\n",
    "When multicollinearity is present, the lasso may select one variable over another that is highly correlated, \n",
    "even though both variables are important predictors. This can lead to biased model results and incorrect conclusions.\n",
    "'''"
   ]
  },
  {
   "cell_type": "code",
   "execution_count": 9,
   "id": "199ba9f1",
   "metadata": {},
   "outputs": [
    {
     "data": {
      "text/plain": [
       "'Q8. How do you choose the optimal value of the regularization parameter (lambda) in Lasso Regression?\\n-> On the training set, we estimate several different Lasso regressions, with different values of the regularization parameter; \\non the validation set, we choose the best model (the regularization parameter which gives the lowest MSE on the validation set).\\n'"
      ]
     },
     "execution_count": 9,
     "metadata": {},
     "output_type": "execute_result"
    }
   ],
   "source": [
    "'''Q8. How do you choose the optimal value of the regularization parameter (lambda) in Lasso Regression?\n",
    "-> On the training set, we estimate several different Lasso regressions, with different values of the regularization parameter; \n",
    "on the validation set, we choose the best model (the regularization parameter which gives the lowest MSE on the validation set).\n",
    "'''"
   ]
  },
  {
   "cell_type": "code",
   "execution_count": null,
   "id": "f7ac2a98",
   "metadata": {},
   "outputs": [],
   "source": []
  }
 ],
 "metadata": {
  "kernelspec": {
   "display_name": "Python 3",
   "language": "python",
   "name": "python3"
  },
  "language_info": {
   "codemirror_mode": {
    "name": "ipython",
    "version": 3
   },
   "file_extension": ".py",
   "mimetype": "text/x-python",
   "name": "python",
   "nbconvert_exporter": "python",
   "pygments_lexer": "ipython3",
   "version": "3.8.8"
  }
 },
 "nbformat": 4,
 "nbformat_minor": 5
}
