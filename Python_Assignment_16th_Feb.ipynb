{
 "cells": [
  {
   "cell_type": "code",
   "execution_count": 1,
   "id": "2222f13e-e98d-4464-823f-3ab0c04c0f4a",
   "metadata": {},
   "outputs": [
    {
     "data": {
      "text/plain": [
       "'\\nA database is an organised collection of data which allows easy access to, management of and updation of the data.\\n\\n1. SQL databases are relational databases while NOSQL databases are non relational databases.\\n2. SQL databases deals with structured data whereas NOSQL databases deals with unstructured data.\\n3. SQL databases are table-based databases whereas NOSQL databases are not table based databases.\\n4. SQL databases follows ACID properties whereas NOSQL databases follows the Brewers CAP theorem.\\n'"
      ]
     },
     "execution_count": 1,
     "metadata": {},
     "output_type": "execute_result"
    }
   ],
   "source": [
    "#Q1. What is a database? Differentiate between SQL and NoSQL databases.\n",
    "'''\n",
    "A database is an organised collection of data which allows easy access to, management of and updation of the data.\n",
    "\n",
    "1. SQL databases are relational databases while NOSQL databases are non relational databases.\n",
    "2. SQL databases deals with structured data whereas NOSQL databases deals with unstructured data.\n",
    "3. SQL databases are table-based databases whereas NOSQL databases are not table based databases.\n",
    "4. SQL databases follows ACID properties whereas NOSQL databases follows the Brewers CAP theorem.\n",
    "'''"
   ]
  },
  {
   "cell_type": "code",
   "execution_count": 2,
   "id": "f0292972-ad10-452a-931b-c930bb1c99db",
   "metadata": {},
   "outputs": [
    {
     "data": {
      "text/plain": [
       "'\\nData Definition Language(DDL) is used to create and modify the structure of database objects in a database.\\nCREATE statement is used to create databases,tables etc. For eg: CREATE DATABASE test\\nDROP statement is used to remove the data definition of a table and all the data and related specifications associated with the table. For eg:\\nDROP TABLE test.test_table\\nALTER helps us to change the overall characteristics of the database. For eg: ALTER TABLE test.test_table ADD c6 varchar(80)\\nTRUNCATE quickly deletes all records in a table by deallocating the data pages used by the table. For eg:\\nTRUNCATE TABLE  test.test_table;\\n'"
      ]
     },
     "execution_count": 2,
     "metadata": {},
     "output_type": "execute_result"
    }
   ],
   "source": [
    "#Q2. What is DDL? Explain why CREATE, DROP, ALTER, and TRUNCATE are used with an example.\n",
    "'''\n",
    "Data Definition Language(DDL) is used to create and modify the structure of database objects in a database.\n",
    "CREATE statement is used to create databases,tables etc. For eg: CREATE DATABASE test\n",
    "DROP statement is used to remove the data definition of a table and all the data and related specifications associated with the table. For eg:\n",
    "DROP TABLE test.test_table\n",
    "ALTER helps us to change the overall characteristics of the database. For eg: ALTER TABLE test.test_table ADD c6 varchar(80)\n",
    "TRUNCATE quickly deletes all records in a table by deallocating the data pages used by the table. For eg:\n",
    "TRUNCATE TABLE  test.test_table;\n",
    "'''"
   ]
  },
  {
   "cell_type": "code",
   "execution_count": 4,
   "id": "8f034383-d6c6-453b-b264-5dd4e599e0dc",
   "metadata": {},
   "outputs": [
    {
     "data": {
      "text/plain": [
       "'\\nData Manipulation Language(DML) allows users to manipulate the data in a database.\\nINSERT statement is used to insert data into tables in a database. FOR eg: INSERT INTO table VALUES(val1,val2)\\nUPDATE statement is used to update the data in a database table. For eg: UPDATE table SET c1 = v1, c2 = v2 WHERE condition\\nDELETE statement is used to delete the data or contents of a table without affecting the structure of the table. For eg: DELETE TABLE test\\n'"
      ]
     },
     "execution_count": 4,
     "metadata": {},
     "output_type": "execute_result"
    }
   ],
   "source": [
    "#Q3. What is DML? Explain INSERT, UPDATE, and DELETE with an example.\n",
    "'''\n",
    "Data Manipulation Language(DML) allows users to manipulate the data in a database.\n",
    "INSERT statement is used to insert data into tables in a database. FOR eg: INSERT INTO table VALUES(val1,val2)\n",
    "UPDATE statement is used to update the data in a database table. For eg: UPDATE table SET c1 = v1, c2 = v2 WHERE condition\n",
    "DELETE statement is used to delete the data or contents of a table without affecting the structure of the table. For eg: DELETE TABLE test\n",
    "'''"
   ]
  },
  {
   "cell_type": "code",
   "execution_count": 5,
   "id": "2f580ef1-ea52-4693-95a4-0152175c7a48",
   "metadata": {},
   "outputs": [
    {
     "data": {
      "text/plain": [
       "'\\nData Query Language(DQL) is used to get and organize the data in the database.\\nSELECT statement is used to select data from a database. For eg: SELECT * FROM table. \\nThis returns all data present in the table.\\n'"
      ]
     },
     "execution_count": 5,
     "metadata": {},
     "output_type": "execute_result"
    }
   ],
   "source": [
    "#Q4. What is DQL? Explain SELECT with an example.\n",
    "'''\n",
    "Data Query Language(DQL) is used to get and organize the data in the database.\n",
    "SELECT statement is used to select data from a database. For eg: SELECT * FROM table. \n",
    "This returns all data present in the table.\n",
    "'''"
   ]
  },
  {
   "cell_type": "code",
   "execution_count": 6,
   "id": "a73693b9-3449-4d4e-b0c2-b000f5a3f8f8",
   "metadata": {},
   "outputs": [
    {
     "data": {
      "text/plain": [
       "'\\nPrimary key in a table is an attribute or  collection of attributes which uniquely identifies each row of the table in a database.\\nForeign key in a table is an attribute or a collection of attributes which references to a primary key of a table which establishes a link between\\nthe two tables.\\n'"
      ]
     },
     "execution_count": 6,
     "metadata": {},
     "output_type": "execute_result"
    }
   ],
   "source": [
    "#Q5. Explain Primary Key and Foreign Key.\n",
    "'''\n",
    "Primary key in a table is an attribute or  collection of attributes which uniquely identifies each row of the table in a database.\n",
    "Foreign key in a table is an attribute or a collection of attributes which references to a primary key of a table which establishes a link between\n",
    "the two tables.\n",
    "'''"
   ]
  },
  {
   "cell_type": "code",
   "execution_count": 7,
   "id": "5fc75ae7-59bf-49d6-bdb8-8a4b545428e1",
   "metadata": {},
   "outputs": [
    {
     "data": {
      "text/plain": [
       "'\\nimport mysql.connector\\nmydb = mysql.connector.connect(\\nhost = \"host_name\",\\nuser = \"usernme\",\\npassword = \"password\"\\n)\\nmycursor = mydb.cursor()\\n\\ncursor() is a database object that allows us to retrieve each row at a time and manipulate its data.\\nThe execute() method allows us to perform/execute a specified query.\\n'"
      ]
     },
     "execution_count": 7,
     "metadata": {},
     "output_type": "execute_result"
    }
   ],
   "source": [
    "#Q6. Write a python code to connect MySQL to python. Explain the cursor() and execute() method.\n",
    "'''\n",
    "import mysql.connector\n",
    "mydb = mysql.connector.connect(\n",
    "host = \"host_name\",\n",
    "user = \"usernme\",\n",
    "password = \"password\"\n",
    ")\n",
    "mycursor = mydb.cursor()\n",
    "\n",
    "cursor() is a database object that allows us to retrieve each row at a time and manipulate its data.\n",
    "The execute() method allows us to perform/execute a specified query.\n",
    "'''"
   ]
  },
  {
   "cell_type": "code",
   "execution_count": 8,
   "id": "546e4b6e-5bbf-4a7c-a272-ebfdd9deea18",
   "metadata": {},
   "outputs": [
    {
     "data": {
      "text/plain": [
       "'\\nThe order of execution of SQL clauses in an SQL query in descending order is:\\n1. FROM/JOIN\\n2. WHERE\\n3. GROUP BY\\n4. HAVING\\n5. SELECT\\n6. ORDER BY\\n7. LIMIT/OFFSET\\n'"
      ]
     },
     "execution_count": 8,
     "metadata": {},
     "output_type": "execute_result"
    }
   ],
   "source": [
    "#Q7. Give the order of execution of SQL clauses in an SQL query.\n",
    "'''\n",
    "The order of execution of SQL clauses in an SQL query in descending order is:\n",
    "1. FROM/JOIN\n",
    "2. WHERE\n",
    "3. GROUP BY\n",
    "4. HAVING\n",
    "5. SELECT\n",
    "6. ORDER BY\n",
    "7. LIMIT/OFFSET\n",
    "'''"
   ]
  },
  {
   "cell_type": "code",
   "execution_count": null,
   "id": "7a2d1de2-84bc-4a97-b928-3f113303f7fd",
   "metadata": {},
   "outputs": [],
   "source": []
  }
 ],
 "metadata": {
  "kernelspec": {
   "display_name": "Python 3 (ipykernel)",
   "language": "python",
   "name": "python3"
  },
  "language_info": {
   "codemirror_mode": {
    "name": "ipython",
    "version": 3
   },
   "file_extension": ".py",
   "mimetype": "text/x-python",
   "name": "python",
   "nbconvert_exporter": "python",
   "pygments_lexer": "ipython3",
   "version": "3.10.8"
  }
 },
 "nbformat": 4,
 "nbformat_minor": 5
}
