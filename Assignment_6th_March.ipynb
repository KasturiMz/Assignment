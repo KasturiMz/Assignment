{
 "cells": [
  {
   "cell_type": "code",
   "execution_count": 1,
   "id": "9350157f-0e4e-4243-bb49-997b22a39b63",
   "metadata": {},
   "outputs": [
    {
     "data": {
      "text/plain": [
       "'Q1. What is Statistics?\\nStatistics is the science of collecting, organizing and analyzing data.\\n'"
      ]
     },
     "execution_count": 1,
     "metadata": {},
     "output_type": "execute_result"
    }
   ],
   "source": [
    "'''Q1. What is Statistics?\n",
    "Statistics is the science of collecting, organizing and analyzing data.\n",
    "'''"
   ]
  },
  {
   "cell_type": "code",
   "execution_count": 2,
   "id": "3ba7f82f-240a-4a7d-8565-407c77e265e9",
   "metadata": {},
   "outputs": [
    {
     "data": {
      "text/plain": [
       "'Q2. Define the different types of statistics and give an example of when each type might be used.\\nThe different types of statistice are:\\n->Descriptive: It consists of organizing and summarizing the data. For eg: Measure of central tendency, measure of dispersion.\\n->Inferential: It consists of using the data we have to form conclusions. For eg: z-test, hypothesis testing .\\n'"
      ]
     },
     "execution_count": 2,
     "metadata": {},
     "output_type": "execute_result"
    }
   ],
   "source": [
    "'''Q2. Define the different types of statistics and give an example of when each type might be used.\n",
    "The different types of statistice are:\n",
    "->Descriptive: It consists of organizing and summarizing the data. For eg: Measure of central tendency, measure of dispersion.\n",
    "->Inferential: It consists of using the data we have to form conclusions. For eg: z-test, hypothesis testing .\n",
    "'''"
   ]
  },
  {
   "cell_type": "code",
   "execution_count": 3,
   "id": "8efe10ac-9e62-4efd-bf02-47e920ede15a",
   "metadata": {},
   "outputs": [
    {
     "data": {
      "text/plain": [
       "'Q3. What are the different types of data and how do they differ from each other? Provide an example of\\neach type of data.\\nThe different types of data are:\\n1. Quantitative(numerical): It is of two types:\\n-> Discrete: a whole number. For eg: number of bank accounts etc.\\n-> Continuous: any value. For eg: weight, height etc.\\n2. Qualitative(categorical): It is of two types:\\n-> Nominal: Data which has no rank. For eg: gender, blood group etc.\\n-> Ordinal: Data which are assigned with ranks. For eg: customer feedback etc.\\n'"
      ]
     },
     "execution_count": 3,
     "metadata": {},
     "output_type": "execute_result"
    }
   ],
   "source": [
    "'''Q3. What are the different types of data and how do they differ from each other? Provide an example of\n",
    "each type of data.\n",
    "The different types of data are:\n",
    "1. Quantitative(numerical): It is of two types:\n",
    "-> Discrete: a whole number. For eg: number of bank accounts etc.\n",
    "-> Continuous: any value. For eg: weight, height etc.\n",
    "2. Qualitative(categorical): It is of two types:\n",
    "-> Nominal: Data which has no rank. For eg: gender, blood group etc.\n",
    "-> Ordinal: Data which are assigned with ranks. For eg: customer feedback etc.\n",
    "'''"
   ]
  },
  {
   "cell_type": "code",
   "execution_count": 4,
   "id": "b2853be7-e990-4128-86d3-e7a1865dcd12",
   "metadata": {},
   "outputs": [
    {
     "data": {
      "text/plain": [
       "'Q4. Categorise the following datasets with respect to quantitative and qualitative data types:\\n(i) Grading in exam: A+, A, B+, B, C+, C, D, E\\n(ii) Colour of mangoes: yellow, green, orange, red\\n(iii) Height data of a class: [178.9, 179, 179.5, 176, 177.2, 178.3, 175.8,...]\\n(iv) Number of mangoes exported by a farm: [500, 600, 478, 672, ...]\\n\\ni.   Ordinal\\nii.  Nominal\\niii. Continuous\\niv.  Discrete\\n'"
      ]
     },
     "execution_count": 4,
     "metadata": {},
     "output_type": "execute_result"
    }
   ],
   "source": [
    "'''Q4. Categorise the following datasets with respect to quantitative and qualitative data types:\n",
    "(i) Grading in exam: A+, A, B+, B, C+, C, D, E\n",
    "(ii) Colour of mangoes: yellow, green, orange, red\n",
    "(iii) Height data of a class: [178.9, 179, 179.5, 176, 177.2, 178.3, 175.8,...]\n",
    "(iv) Number of mangoes exported by a farm: [500, 600, 478, 672, ...]\n",
    "\n",
    "i.   Ordinal\n",
    "ii.  Nominal\n",
    "iii. Continuous\n",
    "iv.  Discrete\n",
    "'''"
   ]
  },
  {
   "cell_type": "code",
   "execution_count": 5,
   "id": "3ecfde15-79e0-4077-adbd-c7f786ddcfcf",
   "metadata": {},
   "outputs": [
    {
     "data": {
      "text/plain": [
       "\"Q5. Explain the concept of levels of measurement and give an example of a variable for each level.\\n\\nLevels of measurement is used to specify the type of data and operations that can be performed on the specific data.\\ni.   Nominal Scale Data: Qualitative/ categorical data where order does not matter. For eg: gender, colors\\nii.  Ordinal Scale Data: Data where ranking or order is important but difference cannot be measured. For eg: customer rating etc.\\niii. Interval Scale Data: Data where order matters and difference can be measured but ratio cannot be measured and no true '0' starting\\npoint exist. For eg: temperature etc.\\niv.  Ratio Scale Data: Data where order matters, difference and ratio can be measured as well as contains a '0' starting point. \\nFor eg: Student's marks in a class.\\n\""
      ]
     },
     "execution_count": 5,
     "metadata": {},
     "output_type": "execute_result"
    }
   ],
   "source": [
    "'''Q5. Explain the concept of levels of measurement and give an example of a variable for each level.\n",
    "\n",
    "Levels of measurement is used to specify the type of data and operations that can be performed on the specific data.\n",
    "i.   Nominal Scale Data: Qualitative/ categorical data where order does not matter. For eg: gender, colors\n",
    "ii.  Ordinal Scale Data: Data where ranking or order is important but difference cannot be measured. For eg: customer rating etc.\n",
    "iii. Interval Scale Data: Data where order matters and difference can be measured but ratio cannot be measured and no true '0' starting\n",
    "point exist. For eg: temperature etc.\n",
    "iv.  Ratio Scale Data: Data where order matters, difference and ratio can be measured as well as contains a '0' starting point. \n",
    "For eg: Student's marks in a class.\n",
    "'''"
   ]
  },
  {
   "cell_type": "code",
   "execution_count": 6,
   "id": "b7a5b97e-f985-4264-9f80-9814438b5844",
   "metadata": {},
   "outputs": [
    {
     "data": {
      "text/plain": [
       "'Q6. Why is it important to understand the level of measurement when analyzing data? Provide an\\nexample to illustrate your answer.\\nLevel of measurement is important because the level of measurement determines the type of statistical analysis that can be conducted, \\nand hence, the type of conclusions that can be drawn from the research. For eg: Nominal data has no ranking but ordinal data has ranking \\nbased on which the type of analysis performed on them will be different and the type of conclusion obtained will be different. \\n'"
      ]
     },
     "execution_count": 6,
     "metadata": {},
     "output_type": "execute_result"
    }
   ],
   "source": [
    "'''Q6. Why is it important to understand the level of measurement when analyzing data? Provide an\n",
    "example to illustrate your answer.\n",
    "Level of measurement is important because the level of measurement determines the type of statistical analysis that can be conducted, \n",
    "and hence, the type of conclusions that can be drawn from the research. For eg: Nominal data has no ranking but ordinal data has ranking \n",
    "based on which the type of analysis performed on them will be different and the type of conclusion obtained will be different. \n",
    "'''"
   ]
  },
  {
   "cell_type": "code",
   "execution_count": 7,
   "id": "a03c839e-9b27-4d4c-b49c-16e7247007c8",
   "metadata": {},
   "outputs": [
    {
     "data": {
      "text/plain": [
       "'Q7. How nominal data type is different from ordinal data type.\\nIn nominal data the ranking of the features do not matter but for ordinal data ranking or order matters.\\n'"
      ]
     },
     "execution_count": 7,
     "metadata": {},
     "output_type": "execute_result"
    }
   ],
   "source": [
    "'''Q7. How nominal data type is different from ordinal data type.\n",
    "In nominal data the ranking of the features do not matter but for ordinal data ranking or order matters.\n",
    "'''"
   ]
  },
  {
   "cell_type": "code",
   "execution_count": 8,
   "id": "a714cd48-4cea-4dca-84d2-eb6500532e95",
   "metadata": {},
   "outputs": [
    {
     "data": {
      "text/plain": [
       "'Q8. Which type of plot can be used to display data in terms of range?\\n\\nA box plot can be used to display data in terms of range.\\n'"
      ]
     },
     "execution_count": 8,
     "metadata": {},
     "output_type": "execute_result"
    }
   ],
   "source": [
    "'''Q8. Which type of plot can be used to display data in terms of range?\n",
    "\n",
    "A box plot can be used to display data in terms of range.\n",
    "'''"
   ]
  },
  {
   "cell_type": "code",
   "execution_count": 9,
   "id": "0394f78c-d6b7-4b64-9351-6d3a3fc7fec7",
   "metadata": {},
   "outputs": [
    {
     "data": {
      "text/plain": [
       "'Q9. Describe the difference between descriptive and inferential statistics. Give an example of each\\ntype of statistics and explain how they are used.\\n\\nDescriptive statistics consists of organizing and summarizing the data. For eg: Measure of central tendency, measure of dispersion.\\nWhile Inferential statistics consists of using the data we have to form conclusions. For eg: z-test, hypothesis testing .\\n'"
      ]
     },
     "execution_count": 9,
     "metadata": {},
     "output_type": "execute_result"
    }
   ],
   "source": [
    "'''Q9. Describe the difference between descriptive and inferential statistics. Give an example of each\n",
    "type of statistics and explain how they are used.\n",
    "\n",
    "Descriptive statistics consists of organizing and summarizing the data. For eg: Measure of central tendency, measure of dispersion.\n",
    "While Inferential statistics consists of using the data we have to form conclusions. For eg: z-test, hypothesis testing .\n",
    "'''"
   ]
  },
  {
   "cell_type": "code",
   "execution_count": 10,
   "id": "24ff8b62-47b7-4276-b730-5dbd6f6d61b0",
   "metadata": {},
   "outputs": [
    {
     "data": {
      "text/plain": [
       "'Q10. What are some common measures of central tendency and variability used in statistics? Explain\\nhow each measure can be used to describe a dataset.\\n\\nCommon measures of central tendency are:\\nMean: It gives the average value for given data.\\nMedian: It gives the middle value in a set of sorted data.\\nMode: It gives the data value with the most frequency.\\n\\n'"
      ]
     },
     "execution_count": 10,
     "metadata": {},
     "output_type": "execute_result"
    }
   ],
   "source": [
    "'''Q10. What are some common measures of central tendency and variability used in statistics? Explain\n",
    "how each measure can be used to describe a dataset.\n",
    "\n",
    "Common measures of central tendency are:\n",
    "Mean: It gives the average value for given data.\n",
    "Median: It gives the middle value in a set of sorted data.\n",
    "Mode: It gives the data value with the most frequency.\n",
    "\n",
    "'''"
   ]
  },
  {
   "cell_type": "code",
   "execution_count": null,
   "id": "f3b8a80e-99d1-4628-a04b-a03ff7890062",
   "metadata": {},
   "outputs": [],
   "source": []
  }
 ],
 "metadata": {
  "kernelspec": {
   "display_name": "Python 3 (ipykernel)",
   "language": "python",
   "name": "python3"
  },
  "language_info": {
   "codemirror_mode": {
    "name": "ipython",
    "version": 3
   },
   "file_extension": ".py",
   "mimetype": "text/x-python",
   "name": "python",
   "nbconvert_exporter": "python",
   "pygments_lexer": "ipython3",
   "version": "3.10.8"
  }
 },
 "nbformat": 4,
 "nbformat_minor": 5
}
