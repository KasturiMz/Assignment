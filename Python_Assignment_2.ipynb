{
 "cells": [
  {
   "cell_type": "code",
   "execution_count": 1,
   "id": "664de4ce-1d8e-4bec-938f-3a414041a808",
   "metadata": {},
   "outputs": [],
   "source": [
    "#Q1\n",
    "#'def' keyword is used to create a function\n",
    "def odd_list():\n",
    "    l1=[]\n",
    "    for i in range(1,25):\n",
    "        if(i%2!=0):\n",
    "            l1.append(i)\n",
    "    return l1"
   ]
  },
  {
   "cell_type": "code",
   "execution_count": 2,
   "id": "38202aa5-2c92-4d76-89df-82138692d4c2",
   "metadata": {},
   "outputs": [
    {
     "data": {
      "text/plain": [
       "[1, 3, 5, 7, 9, 11, 13, 15, 17, 19, 21, 23]"
      ]
     },
     "execution_count": 2,
     "metadata": {},
     "output_type": "execute_result"
    }
   ],
   "source": [
    "odd_list()"
   ]
  },
  {
   "cell_type": "code",
   "execution_count": 3,
   "id": "b053bcd3-8c0d-44a8-ac94-39a32718fc7e",
   "metadata": {},
   "outputs": [],
   "source": [
    "#Q2\n",
    "#'*args' is used to pass a variable number of arguments. '**kwargs' is used to pass a keyworded, variable-length argument list\n",
    "def summation(*args):\n",
    "    result=0\n",
    "    for arg in args:\n",
    "        result+=arg\n",
    "    return result\n",
    "\n",
    "def type_of_object(**kwargs):\n",
    "    l1=[]\n",
    "    for key,value in kwargs.items():\n",
    "        l1.append((key,type(value)))\n",
    "    return l1"
   ]
  },
  {
   "cell_type": "code",
   "execution_count": 4,
   "id": "be4e32af-f86f-449b-8472-2ccb382f5f35",
   "metadata": {},
   "outputs": [
    {
     "data": {
      "text/plain": [
       "15"
      ]
     },
     "execution_count": 4,
     "metadata": {},
     "output_type": "execute_result"
    }
   ],
   "source": [
    "summation(1,2,3,4,5)"
   ]
  },
  {
   "cell_type": "code",
   "execution_count": 5,
   "id": "3748f98c-d084-46b1-ace2-223926b945e9",
   "metadata": {},
   "outputs": [
    {
     "data": {
      "text/plain": [
       "[('a', str),\n",
       " ('b', int),\n",
       " ('c', float),\n",
       " ('d', list),\n",
       " ('e', tuple),\n",
       " ('f', set),\n",
       " ('g', complex)]"
      ]
     },
     "execution_count": 5,
     "metadata": {},
     "output_type": "execute_result"
    }
   ],
   "source": [
    "type_of_object(a='time',b=11,c=8.17,d=[2,4,6,8],e=('year',2023),f={3,5,7,9},g=8+3j)"
   ]
  },
  {
   "cell_type": "code",
   "execution_count": 6,
   "id": "4a38bd8c-7817-4c36-8cad-2b0a351dca93",
   "metadata": {},
   "outputs": [],
   "source": [
    "#Q3.\n",
    "#Iterator is an object that is used to iterate over iterable objects like lists,tuples,sets etc. iter() method is used to initialize the iterator\n",
    "#object and next() method is used for the iteration.\n",
    "l = [2, 4, 6, 8, 10, 12, 14, 16, 18, 20]\n",
    "l1 = iter(l)"
   ]
  },
  {
   "cell_type": "code",
   "execution_count": 7,
   "id": "885f3732-6247-4d55-8a53-b76b354003b9",
   "metadata": {},
   "outputs": [
    {
     "name": "stdout",
     "output_type": "stream",
     "text": [
      "2\n",
      "4\n",
      "6\n",
      "8\n",
      "10\n"
     ]
    }
   ],
   "source": [
    "for i in range(5):\n",
    "    print(next(l1))"
   ]
  },
  {
   "cell_type": "code",
   "execution_count": 8,
   "id": "b8ef158b-6d71-454f-a57a-47ce56669f51",
   "metadata": {},
   "outputs": [],
   "source": [
    "#Q4.\n",
    "#Generator function is a function that returns an iterator that produces a sequence of values when iterated over.\n",
    "#The yield keyword is used to produce a value from the generator function.\n",
    "def square(n):\n",
    "    for i in range(1,n+1):\n",
    "        yield i**2"
   ]
  },
  {
   "cell_type": "code",
   "execution_count": 9,
   "id": "92f33f58-d1e1-419e-8338-e3caca474439",
   "metadata": {},
   "outputs": [],
   "source": [
    "sq = square(8)"
   ]
  },
  {
   "cell_type": "code",
   "execution_count": 10,
   "id": "90f5024f-52b6-4099-9433-14a37a219504",
   "metadata": {},
   "outputs": [
    {
     "name": "stdout",
     "output_type": "stream",
     "text": [
      "1\n",
      "4\n",
      "9\n",
      "16\n",
      "25\n",
      "36\n",
      "49\n",
      "64\n"
     ]
    }
   ],
   "source": [
    "for i in range(1,9):\n",
    "    print(next(sq))"
   ]
  },
  {
   "cell_type": "code",
   "execution_count": 11,
   "id": "e1abb0ad-1078-4874-a852-98b39a28c12a",
   "metadata": {},
   "outputs": [],
   "source": [
    "#Q5.\n",
    "def primes(n):\n",
    "    for i in range(2,n):\n",
    "        for j in range(2,int(i/2)+1):\n",
    "            if(i%j==0):\n",
    "                break\n",
    "        else:\n",
    "            yield i"
   ]
  },
  {
   "cell_type": "code",
   "execution_count": 12,
   "id": "1d2308f4-48a2-40dd-81f6-0a644d382602",
   "metadata": {},
   "outputs": [],
   "source": [
    "pr = primes(1000)"
   ]
  },
  {
   "cell_type": "code",
   "execution_count": 13,
   "id": "54c39a90-3609-4d0a-a5eb-e9c51c02ded9",
   "metadata": {},
   "outputs": [
    {
     "name": "stdout",
     "output_type": "stream",
     "text": [
      "2\n",
      "3\n",
      "5\n",
      "7\n",
      "11\n",
      "13\n",
      "17\n",
      "19\n",
      "23\n",
      "29\n",
      "31\n",
      "37\n",
      "41\n",
      "43\n",
      "47\n",
      "53\n",
      "59\n",
      "61\n",
      "67\n",
      "71\n"
     ]
    }
   ],
   "source": [
    "for i in range(20):\n",
    "    print(next(pr))"
   ]
  },
  {
   "cell_type": "code",
   "execution_count": 14,
   "id": "0eda60bb-d010-4a8f-ab26-e792d9c0af8a",
   "metadata": {},
   "outputs": [],
   "source": [
    "#Q6.\n",
    "def fibonacci(n):\n",
    "    a, b = 0, 1\n",
    "    i=0\n",
    "    while(i<n):\n",
    "        print(a)\n",
    "        b = a+b\n",
    "        a = b-a\n",
    "        i+=1"
   ]
  },
  {
   "cell_type": "code",
   "execution_count": 15,
   "id": "fa5fb7d3-a497-4774-b025-580d15ac8fc2",
   "metadata": {},
   "outputs": [
    {
     "name": "stdin",
     "output_type": "stream",
     "text": [
      "Enter the number of terms to be calculated:  10\n"
     ]
    },
    {
     "name": "stdout",
     "output_type": "stream",
     "text": [
      "0\n",
      "1\n",
      "1\n",
      "2\n",
      "3\n",
      "5\n",
      "8\n",
      "13\n",
      "21\n",
      "34\n"
     ]
    }
   ],
   "source": [
    "n = int(input(\"Enter the number of terms to be calculated: \"))\n",
    "fibonacci(n)"
   ]
  },
  {
   "cell_type": "code",
   "execution_count": 16,
   "id": "ae321cc8-b7a8-4bc5-9fd4-8e1eb9fcf2a2",
   "metadata": {},
   "outputs": [
    {
     "data": {
      "text/plain": [
       "['p', 'w', 's', 'k', 'i', 'l', 'l', 's']"
      ]
     },
     "execution_count": 16,
     "metadata": {},
     "output_type": "execute_result"
    }
   ],
   "source": [
    "#Q7.\n",
    "string = \"pwskills\"\n",
    "[s for s in string]"
   ]
  },
  {
   "cell_type": "code",
   "execution_count": 17,
   "id": "d212e049-ad12-4c65-8d9a-4d1f633ef877",
   "metadata": {},
   "outputs": [],
   "source": [
    "#Q8.\n",
    "def palindrome(num):\n",
    "    n = num\n",
    "    l = 0\n",
    "    while(n!=0):\n",
    "        l=l*10+n%10\n",
    "        n=int(n/10)\n",
    "        \n",
    "    if(l==num):\n",
    "        return True\n",
    "    else:\n",
    "        return False"
   ]
  },
  {
   "cell_type": "code",
   "execution_count": 18,
   "id": "02cf23a6-1ceb-47d8-a3ba-0fcd12f0f529",
   "metadata": {},
   "outputs": [
    {
     "name": "stdin",
     "output_type": "stream",
     "text": [
      "Enter the number to be checked for palindrome:  1178711\n"
     ]
    },
    {
     "data": {
      "text/plain": [
       "True"
      ]
     },
     "execution_count": 18,
     "metadata": {},
     "output_type": "execute_result"
    }
   ],
   "source": [
    "a = int(input(\"Enter the number to be checked for palindrome: \"))\n",
    "palindrome(a)"
   ]
  },
  {
   "cell_type": "code",
   "execution_count": 19,
   "id": "5eac82b0-2d4c-4a33-bb54-91e427eb8178",
   "metadata": {},
   "outputs": [
    {
     "data": {
      "text/plain": [
       "[1,\n",
       " 3,\n",
       " 5,\n",
       " 7,\n",
       " 9,\n",
       " 11,\n",
       " 13,\n",
       " 15,\n",
       " 17,\n",
       " 19,\n",
       " 21,\n",
       " 23,\n",
       " 25,\n",
       " 27,\n",
       " 29,\n",
       " 31,\n",
       " 33,\n",
       " 35,\n",
       " 37,\n",
       " 39,\n",
       " 41,\n",
       " 43,\n",
       " 45,\n",
       " 47,\n",
       " 49,\n",
       " 51,\n",
       " 53,\n",
       " 55,\n",
       " 57,\n",
       " 59,\n",
       " 61,\n",
       " 63,\n",
       " 65,\n",
       " 67,\n",
       " 69,\n",
       " 71,\n",
       " 73,\n",
       " 75,\n",
       " 77,\n",
       " 79,\n",
       " 81,\n",
       " 83,\n",
       " 85,\n",
       " 87,\n",
       " 89,\n",
       " 91,\n",
       " 93,\n",
       " 95,\n",
       " 97,\n",
       " 99]"
      ]
     },
     "execution_count": 19,
     "metadata": {},
     "output_type": "execute_result"
    }
   ],
   "source": [
    "#Q9.\n",
    "l = [x for x in range(1,100)]\n",
    "[x for x in l if x%2!=0]"
   ]
  },
  {
   "cell_type": "code",
   "execution_count": null,
   "id": "60c24c9d-dcdc-4a32-9bd6-6bc99f01afc6",
   "metadata": {},
   "outputs": [],
   "source": []
  }
 ],
 "metadata": {
  "kernelspec": {
   "display_name": "Python 3 (ipykernel)",
   "language": "python",
   "name": "python3"
  },
  "language_info": {
   "codemirror_mode": {
    "name": "ipython",
    "version": 3
   },
   "file_extension": ".py",
   "mimetype": "text/x-python",
   "name": "python",
   "nbconvert_exporter": "python",
   "pygments_lexer": "ipython3",
   "version": "3.10.8"
  }
 },
 "nbformat": 4,
 "nbformat_minor": 5
}
