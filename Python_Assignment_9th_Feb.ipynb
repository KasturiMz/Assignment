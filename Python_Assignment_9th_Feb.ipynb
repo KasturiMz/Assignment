{
 "cells": [
  {
   "cell_type": "code",
   "execution_count": 1,
   "id": "9f87a5f4-38f3-4a2f-8a8b-f534ebace61a",
   "metadata": {},
   "outputs": [],
   "source": [
    "#Q1, Create a vehicle class with an init method having instance variables as name_of_vehicle, max_speed and average_of_vehicle.\n",
    "class vehicle:\n",
    "    def __init__(self,name_of_vehicle,max_speed,average_of_vehicle):\n",
    "        self.name_of_vehicle = name_of_vehicle\n",
    "        self.max_speed = max_speed\n",
    "        self.average_of_vehicle = average_of_vehicle"
   ]
  },
  {
   "cell_type": "code",
   "execution_count": 2,
   "id": "b82de235-b7a1-4abe-a4c8-b850b8381cea",
   "metadata": {},
   "outputs": [],
   "source": [
    "#Q2. Create a child class car from the vehicle class created in Que 1, which will inherit the vehicle class. Create a method named seating_capacity \n",
    "#which takes capacity as an argument and returns the name of the vehicle and its seating capacity.\n",
    "class car(vehicle):\n",
    "    def seating_capacity(self,capacity):\n",
    "        return \"Name of vehicle: \"+self.name_of_vehicle+\" \\nSeating Capacity: \"+capacity"
   ]
  },
  {
   "cell_type": "code",
   "execution_count": 3,
   "id": "45512779-6bb9-4b4a-a3b1-ce536ca53093",
   "metadata": {},
   "outputs": [],
   "source": [
    "#Q3. What is multiple inheritance? Write a python code to demonstrate multiple inheritance.\n",
    "'''\n",
    "When more than one class is derived from the same class then such type of inheritance is said to be multiple inheritance.\n",
    "For eg:\n",
    "'''\n",
    "class class_1:\n",
    "    def test1(self):\n",
    "        return \"This is a method from class1\""
   ]
  },
  {
   "cell_type": "code",
   "execution_count": 4,
   "id": "2723f73e-4577-4d34-985d-47bd65692c41",
   "metadata": {},
   "outputs": [],
   "source": [
    "class class_2():\n",
    "    def test2(self):\n",
    "        return \"This is a method from class2\""
   ]
  },
  {
   "cell_type": "code",
   "execution_count": 5,
   "id": "756afaf9-926d-4c76-9c5a-8d27154a16da",
   "metadata": {},
   "outputs": [],
   "source": [
    "class class_3(class_1,class_2):\n",
    "    pass"
   ]
  },
  {
   "cell_type": "code",
   "execution_count": 6,
   "id": "1e701900-1778-4ec5-a40c-02a0ec7f384c",
   "metadata": {},
   "outputs": [],
   "source": [
    "c = class_3()"
   ]
  },
  {
   "cell_type": "code",
   "execution_count": 7,
   "id": "962fb238-a1e0-4760-bb2e-6a26b24266d7",
   "metadata": {},
   "outputs": [
    {
     "data": {
      "text/plain": [
       "'This is a method from class1'"
      ]
     },
     "execution_count": 7,
     "metadata": {},
     "output_type": "execute_result"
    }
   ],
   "source": [
    "c.test1()"
   ]
  },
  {
   "cell_type": "code",
   "execution_count": 9,
   "id": "c7964d5a-d179-4bbc-a56c-67bcd5c2a58f",
   "metadata": {},
   "outputs": [
    {
     "data": {
      "text/plain": [
       "'This is a method from class2'"
      ]
     },
     "execution_count": 9,
     "metadata": {},
     "output_type": "execute_result"
    }
   ],
   "source": [
    "c.test2()"
   ]
  },
  {
   "cell_type": "code",
   "execution_count": 10,
   "id": "89603184-9c16-4cca-8028-260776efa8f8",
   "metadata": {},
   "outputs": [],
   "source": [
    "#Q4. What are getter and setter in python? Create a class and create a getter and a setter method in this class.\n",
    "'''\n",
    "In Python we hide the important data so that the data cannot be accessed directly by the users and modified by them. This is called encapsulation.\n",
    "This is why we use the getter and setter functions in order to get or set a data variable without allowing direct access to the private data of the\n",
    "class.\n",
    "For eg:\n",
    "'''\n",
    "class car:\n",
    "    def __init__(self, year, make, model, speed):\n",
    "        self.__year=year\n",
    "        self.__make=make\n",
    "        self.__model=model\n",
    "        self.__speed=0\n",
    "    def set(self,speed):\n",
    "        self.__speed=0 if speed<0 else speed\n",
    "    def get(self):\n",
    "        return self.__speed"
   ]
  },
  {
   "cell_type": "code",
   "execution_count": 11,
   "id": "defb71be-3014-4e3a-b3fb-b32277ea2705",
   "metadata": {},
   "outputs": [],
   "source": [
    "#Q5.What is method overriding in python? Write a python code to demonstrate method overriding.\n",
    "'''\n",
    "Method overriding in Python is when two methods have the same name but perform different tasks. It is a feature of inheritance.\n",
    "'''\n",
    "class animal:\n",
    "    def Talk(self):\n",
    "        print('Hello, I am a part of the parent class.')\n",
    "\n",
    "class dog(animal):\n",
    "    def Talk(self):\n",
    "        print('Hello, I am a part of the child class.Woof!!')"
   ]
  },
  {
   "cell_type": "code",
   "execution_count": 12,
   "id": "dec4fbf0-f1ab-475a-8ea5-8f02b4ce6815",
   "metadata": {},
   "outputs": [],
   "source": [
    "a = dog()"
   ]
  },
  {
   "cell_type": "code",
   "execution_count": 13,
   "id": "0e85cf0b-3f22-43d8-98d7-abf870e7306d",
   "metadata": {},
   "outputs": [
    {
     "name": "stdout",
     "output_type": "stream",
     "text": [
      "Hello, I am a part of the child class.Woof!!\n"
     ]
    }
   ],
   "source": [
    "a.Talk()"
   ]
  },
  {
   "cell_type": "code",
   "execution_count": 14,
   "id": "5899525d-9156-4d19-a564-5508e5fb4d79",
   "metadata": {},
   "outputs": [],
   "source": [
    "b = animal()"
   ]
  },
  {
   "cell_type": "code",
   "execution_count": 15,
   "id": "6a448832-d64e-48f4-bc1c-b30977dbf5fb",
   "metadata": {},
   "outputs": [
    {
     "name": "stdout",
     "output_type": "stream",
     "text": [
      "Hello, I am a part of the parent class.\n"
     ]
    }
   ],
   "source": [
    "b.Talk()"
   ]
  },
  {
   "cell_type": "code",
   "execution_count": null,
   "id": "436c5969-65fa-4e0a-9786-03fda9bd2b9e",
   "metadata": {},
   "outputs": [],
   "source": []
  }
 ],
 "metadata": {
  "kernelspec": {
   "display_name": "Python 3 (ipykernel)",
   "language": "python",
   "name": "python3"
  },
  "language_info": {
   "codemirror_mode": {
    "name": "ipython",
    "version": 3
   },
   "file_extension": ".py",
   "mimetype": "text/x-python",
   "name": "python",
   "nbconvert_exporter": "python",
   "pygments_lexer": "ipython3",
   "version": "3.10.8"
  }
 },
 "nbformat": 4,
 "nbformat_minor": 5
}
