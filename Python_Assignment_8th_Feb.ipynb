{
 "cells": [
  {
   "cell_type": "code",
   "execution_count": 1,
   "id": "b6b095f0-dd3f-43fb-be30-0fa6deece4ab",
   "metadata": {},
   "outputs": [],
   "source": [
    "#Q1. What is Abstraction in OOps? Explain with an example.\n",
    "#Abstract classes are used to produce the skeleton or the blueprint of object oriented programming\n",
    "import abc\n",
    "class pwskills:\n",
    "    \n",
    "    @abc.abstractmethod\n",
    "    def student_details(self):\n",
    "        pass\n",
    "    \n",
    "    @abc.abstractmethod\n",
    "    def student_assignment(self):\n",
    "        pass\n",
    "    \n",
    "    @abc.abstractmethod\n",
    "    def student_marks(self):\n",
    "        pass"
   ]
  },
  {
   "cell_type": "code",
   "execution_count": 2,
   "id": "91e95252-0409-4555-9abf-917b22538a4c",
   "metadata": {},
   "outputs": [],
   "source": [
    "class data_science_masters(pwskills):\n",
    "    def student_details(self):\n",
    "        return \"This will return the student details for a student of Data Science\"\n",
    "    def student_assignment(self):\n",
    "        return \"This will give the assinment details for a particular student\""
   ]
  },
  {
   "cell_type": "code",
   "execution_count": 3,
   "id": "819c129c-dfe4-4444-a74c-e51c4bf99e8b",
   "metadata": {},
   "outputs": [],
   "source": [
    "dsm = data_science_masters()"
   ]
  },
  {
   "cell_type": "code",
   "execution_count": 4,
   "id": "c5e60f71-06cd-4486-81f8-34b80dd3bbdd",
   "metadata": {},
   "outputs": [
    {
     "data": {
      "text/plain": [
       "'This will return the student details for a student of Data Science'"
      ]
     },
     "execution_count": 4,
     "metadata": {},
     "output_type": "execute_result"
    }
   ],
   "source": [
    "dsm.student_details()"
   ]
  },
  {
   "cell_type": "code",
   "execution_count": 5,
   "id": "e39aca62-b71b-45bf-861e-589d28a1d625",
   "metadata": {},
   "outputs": [],
   "source": [
    "#Q2.Differentiate between Abstraction and Encapsulation. Explain with an example.\n",
    "'''\n",
    "Abstraction reduces the complexity at the design level of the project. Encapsulation on the other hand provides\n",
    "privacy and maintains control over the transparency of data at the implementation stage.\n",
    "'''\n",
    "#For eg: Abstraction\n",
    "import abc\n",
    "class pwskills:\n",
    "    \n",
    "    @abc.abstractmethod\n",
    "    def student_details(self):\n",
    "        pass\n",
    "    \n",
    "    @abc.abstractmethod\n",
    "    def student_assignment(self):\n",
    "        pass\n",
    "    \n",
    "    @abc.abstractmethod\n",
    "    def student_marks(self):\n",
    "        pass\n",
    "class data_science_masters(pwskills):\n",
    "    def student_details(self):\n",
    "        return \"This will return the student details for a student of Data Science\"\n",
    "    def student_assignment(self):\n",
    "        return \"This will give the assinment details for a particular student\"\n",
    "#Here pwskills class is the blueprint for data_science_masters class"
   ]
  },
  {
   "cell_type": "code",
   "execution_count": 6,
   "id": "fb4f775e-a0a0-4839-9628-a88046bdc437",
   "metadata": {},
   "outputs": [],
   "source": [
    "#For eg: Encapsulation\n",
    "class car:\n",
    "    def __init__(self, year, make, model, speed):\n",
    "        self.__year=year\n",
    "        self.__make=make\n",
    "        self.__model=model\n",
    "        self.__speed=0\n",
    "    def set(self,speed):\n",
    "        self.__speed=0 if speed<0 else speed\n",
    "    def get(self):\n",
    "        return self.__speed\n",
    "#Here car class hides the objects year,make,model,speed and doesn't hide the methods."
   ]
  },
  {
   "cell_type": "code",
   "execution_count": 7,
   "id": "54762f89-458c-4458-bf01-256283bc398f",
   "metadata": {},
   "outputs": [
    {
     "data": {
      "text/plain": [
       "'\\nabc module in Python provides the infrastructure for defining abstract base classes.Abstract class cannot be instantiated in python.\\n'"
      ]
     },
     "execution_count": 7,
     "metadata": {},
     "output_type": "execute_result"
    }
   ],
   "source": [
    "#Q3. What is abc module in python? Why is it used?\n",
    "'''\n",
    "abc module in Python provides the infrastructure for defining abstract base classes.Abstract class cannot be instantiated in python.\n",
    "'''"
   ]
  },
  {
   "cell_type": "code",
   "execution_count": 8,
   "id": "115250bd-b4c5-47b2-a5a4-2eedca290822",
   "metadata": {},
   "outputs": [],
   "source": [
    "#Q4. How can we achieve data abstraction?\n",
    "#We can achieve data abstraction in Python by creating abstract classes and methods with the help of abc module."
   ]
  },
  {
   "cell_type": "code",
   "execution_count": 10,
   "id": "5e1eb2a7-ce84-4b1a-a343-13632db4b35b",
   "metadata": {},
   "outputs": [],
   "source": [
    "#Q5. Can we create an instance of an abstract class? Explain your answer.\n",
    "#We cannot directly create an instance of an abstract class. However we can create an abstract class with the help of abc module."
   ]
  },
  {
   "cell_type": "code",
   "execution_count": null,
   "id": "17a1ea67-732b-4bcd-a765-ced3901c8e6c",
   "metadata": {},
   "outputs": [],
   "source": []
  }
 ],
 "metadata": {
  "kernelspec": {
   "display_name": "Python 3 (ipykernel)",
   "language": "python",
   "name": "python3"
  },
  "language_info": {
   "codemirror_mode": {
    "name": "ipython",
    "version": 3
   },
   "file_extension": ".py",
   "mimetype": "text/x-python",
   "name": "python",
   "nbconvert_exporter": "python",
   "pygments_lexer": "ipython3",
   "version": "3.10.8"
  }
 },
 "nbformat": 4,
 "nbformat_minor": 5
}
