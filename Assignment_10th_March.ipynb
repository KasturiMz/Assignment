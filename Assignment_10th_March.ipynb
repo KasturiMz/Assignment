{
 "cells": [
  {
   "cell_type": "code",
   "execution_count": 1,
   "id": "93454b4a-e978-4170-af0f-7ecf174be65b",
   "metadata": {},
   "outputs": [
    {
     "data": {
      "text/plain": [
       "'Q1: What is Estimation Statistics? Explain point estimate and interval estimate.\\n- Estimation is a data analysis framework that uses a combination of effect sizes, confidence intervals, precision planning and meta analysis\\nto plan experiments, analyze data and interpret results. Point estimate is a single numerical value used to estimate an unknown population \\nparameter. Interval estimate is a range of values used to estimate an unknown population parameter.\\n'"
      ]
     },
     "execution_count": 1,
     "metadata": {},
     "output_type": "execute_result"
    }
   ],
   "source": [
    "'''Q1: What is Estimation Statistics? Explain point estimate and interval estimate.\n",
    "- Estimation is a data analysis framework that uses a combination of effect sizes, confidence intervals, precision planning and meta analysis\n",
    "to plan experiments, analyze data and interpret results. Point estimate is a single numerical value used to estimate an unknown population \n",
    "parameter. Interval estimate is a range of values used to estimate an unknown population parameter.\n",
    "'''"
   ]
  },
  {
   "cell_type": "code",
   "execution_count": 2,
   "id": "ee5f3b84-4e54-4b22-bede-fc975e4f643e",
   "metadata": {},
   "outputs": [],
   "source": [
    "'''Q2. Write a Python function to estimate the population mean using a sample mean and standard\n",
    "deviation.\n",
    "'''\n",
    "import numpy as np\n",
    "def pop_mean(mean,std,z_score,n):\n",
    "    l = []\n",
    "    a = z_score*std/np.sqrt(n)\n",
    "    l.append(mean-a)\n",
    "    l.append(mean+a)\n",
    "    return l"
   ]
  },
  {
   "cell_type": "code",
   "execution_count": 3,
   "id": "6f95fcc2-bf1e-42d6-97ff-47bf18f57245",
   "metadata": {},
   "outputs": [
    {
     "data": {
      "text/plain": [
       "[480.8, 559.2]"
      ]
     },
     "execution_count": 3,
     "metadata": {},
     "output_type": "execute_result"
    }
   ],
   "source": [
    "pop_mean(520,100,1.96,25)"
   ]
  },
  {
   "cell_type": "code",
   "execution_count": 4,
   "id": "74983ca8-61d7-484c-83dc-cd015e532901",
   "metadata": {},
   "outputs": [
    {
     "data": {
      "text/plain": [
       "'Q3: What is Hypothesis testing? Why is it used? State the importance of Hypothesis testing.\\n-Hypothesis testing is a type of statistical analysis in which we put our assumptions about a population parameter to the test.\\nIt is used to estimate the relationship between two statistical variables. It is important because it helps to assess whether a \\ndifference between two samples represents a real difference between the populations from which the samples were taken.\\n'"
      ]
     },
     "execution_count": 4,
     "metadata": {},
     "output_type": "execute_result"
    }
   ],
   "source": [
    "'''Q3: What is Hypothesis testing? Why is it used? State the importance of Hypothesis testing.\n",
    "-Hypothesis testing is a type of statistical analysis in which we put our assumptions about a population parameter to the test.\n",
    "It is used to estimate the relationship between two statistical variables. It is important because it helps to assess whether a \n",
    "difference between two samples represents a real difference between the populations from which the samples were taken.\n",
    "'''"
   ]
  },
  {
   "cell_type": "code",
   "execution_count": 5,
   "id": "06aa70f4-d1f0-4db8-ad39-27a4e52099b5",
   "metadata": {},
   "outputs": [
    {
     "data": {
      "text/plain": [
       "'Q4. Create a hypothesis that states whether the average weight of male college students is greater than\\nthe average weight of female college students.\\n-H0(Null Hypothesis) : Mean height of male college students is greater than mean height of women college students.\\n-H1(Alternate Hypothesis) : Mean height of male college students is not greater than that of the mean height of female college students.\\n'"
      ]
     },
     "execution_count": 5,
     "metadata": {},
     "output_type": "execute_result"
    }
   ],
   "source": [
    "'''Q4. Create a hypothesis that states whether the average weight of male college students is greater than\n",
    "the average weight of female college students.\n",
    "-H0(Null Hypothesis) : Mean height of male college students is greater than mean height of women college students.\n",
    "-H1(Alternate Hypothesis) : Mean height of male college students is not greater than that of the mean height of female college students.\n",
    "'''"
   ]
  },
  {
   "cell_type": "code",
   "execution_count": 6,
   "id": "cbad5078-bb6e-4589-a375-f2c5d2010884",
   "metadata": {},
   "outputs": [
    {
     "data": {
      "text/plain": [
       "Ttest_indResult(statistic=-0.6337397070250238, pvalue=0.5300471010405257)"
      ]
     },
     "execution_count": 6,
     "metadata": {},
     "output_type": "execute_result"
    }
   ],
   "source": [
    "'''Q5. Write a Python script to conduct a hypothesis test on the difference between two population means,\n",
    "given a sample from each population.\n",
    "'''\n",
    "import scipy.stats as stats\n",
    " \n",
    "\n",
    "data_group1 = np.array([14, 15, 15, 16, 13, 8, 14,\n",
    "                        17, 16, 14, 19, 20, 21, 15,\n",
    "                        15, 16, 16, 13, 14, 12])\n",
    " \n",
    "data_group2 = np.array([15, 17, 14, 17, 14, 8, 12,\n",
    "                        19, 19, 14, 17, 22, 24, 16,\n",
    "                        13, 16, 13, 18, 15, 13])\n",
    " \n",
    "\n",
    "stats.ttest_ind(a=data_group1, b=data_group2, equal_var=True)"
   ]
  },
  {
   "cell_type": "code",
   "execution_count": 7,
   "id": "b8367988-4495-46f8-88cf-84b16b7fbfcf",
   "metadata": {},
   "outputs": [
    {
     "data": {
      "text/plain": [
       "'Q6: What is a null and alternative hypothesis? Give some examples.\\n-Null hypothesis is the assumption we are beginning with. Alternate hypothesis is the opposite of null hypothesis.\\nFor eg: the average weight of male college students is greater than the average weight of female college students.\\n-H0(Null Hypothesis) : Mean height of male college students is greater than mean height of women college students.\\n-H1(Alternate Hypothesis) : Mean height of male college students is not greater than that of the mean height of female college students.\\n'"
      ]
     },
     "execution_count": 7,
     "metadata": {},
     "output_type": "execute_result"
    }
   ],
   "source": [
    "'''Q6: What is a null and alternative hypothesis? Give some examples.\n",
    "-Null hypothesis is the assumption we are beginning with. Alternate hypothesis is the opposite of null hypothesis.\n",
    "For eg: the average weight of male college students is greater than the average weight of female college students.\n",
    "-H0(Null Hypothesis) : Mean height of male college students is greater than mean height of women college students.\n",
    "-H1(Alternate Hypothesis) : Mean height of male college students is not greater than that of the mean height of female college students.\n",
    "'''"
   ]
  },
  {
   "cell_type": "code",
   "execution_count": 8,
   "id": "c1c8287a-a24b-4474-bfa0-e2ae01bb374f",
   "metadata": {},
   "outputs": [
    {
     "data": {
      "text/plain": [
       "'Q7: Write down the steps involved in hypothesis testing.\\n-Define the null hypothesis\\n-Define the alternate hypothesis\\n-Perform the experiments and analyse statistically\\n-Accept or reject the Null hypothesis\\n'"
      ]
     },
     "execution_count": 8,
     "metadata": {},
     "output_type": "execute_result"
    }
   ],
   "source": [
    "'''Q7: Write down the steps involved in hypothesis testing.\n",
    "-Define the null hypothesis\n",
    "-Define the alternate hypothesis\n",
    "-Perform the experiments and analyse statistically\n",
    "-Accept or reject the Null hypothesis\n",
    "'''"
   ]
  },
  {
   "cell_type": "code",
   "execution_count": 9,
   "id": "e76324f7-f584-499f-9283-9cf01c2a7c74",
   "metadata": {},
   "outputs": [
    {
     "data": {
      "text/plain": [
       "'Q8. Define p-value and explain its significance in hypothesis testing.\\n-p value is a number calculated from a statistical test that describes how likely we are to have found\\na particular set of observations if the null hypothesis were true.\\n-It is used in hypothesis testing to help decide whether to reject the null hypothesis.\\n'"
      ]
     },
     "execution_count": 9,
     "metadata": {},
     "output_type": "execute_result"
    }
   ],
   "source": [
    "'''Q8. Define p-value and explain its significance in hypothesis testing.\n",
    "-p value is a number calculated from a statistical test that describes how likely we are to have found\n",
    "a particular set of observations if the null hypothesis were true.\n",
    "-It is used in hypothesis testing to help decide whether to reject the null hypothesis.\n",
    "'''"
   ]
  },
  {
   "cell_type": "code",
   "execution_count": 10,
   "id": "42847191-6780-436d-ace6-38ee68860647",
   "metadata": {},
   "outputs": [],
   "source": [
    "'''Q9. Generate a Student's t-distribution plot using Python's matplotlib library, with the degrees of freedom parameter set to 10.\n",
    "'''\n",
    "import matplotlib.pyplot as plt\n",
    "import scipy.stats as stats"
   ]
  },
  {
   "cell_type": "code",
   "execution_count": 11,
   "id": "89a79c71-388f-48a1-b929-1132f8105880",
   "metadata": {},
   "outputs": [],
   "source": [
    "x = np.arange(-5, 5.01, 0.01)\n",
    "t = stats.t.pdf(x, df=10)"
   ]
  },
  {
   "cell_type": "code",
   "execution_count": 12,
   "id": "448c556f-979b-4172-82ff-7dd357e9c2ad",
   "metadata": {},
   "outputs": [
    {
     "data": {
      "text/plain": [
       "[<matplotlib.lines.Line2D at 0x7f66e4d63670>]"
      ]
     },
     "execution_count": 12,
     "metadata": {},
     "output_type": "execute_result"
    },
    {
     "data": {
      "image/png": "[encoded data removed]",
      "text/plain": [
       "<Figure size 640x480 with 1 Axes>"
      ]
     },
     "metadata": {},
     "output_type": "display_data"
    }
   ],
   "source": [
    "plt.plot(t)"
   ]
  },
  {
   "cell_type": "code",
   "execution_count": 13,
   "id": "aea17564-6d0f-434e-a2e6-58512c0740cb",
   "metadata": {},
   "outputs": [
    {
     "data": {
      "text/plain": [
       "Ttest_indResult(statistic=-0.6337397070250238, pvalue=0.5300471010405257)"
      ]
     },
     "execution_count": 13,
     "metadata": {},
     "output_type": "execute_result"
    }
   ],
   "source": [
    "'''Q10. Write a Python program to calculate the two-sample t-test for independent samples, given two\n",
    "random samples of equal size and a null hypothesis that the population means are equal.\n",
    "'''\n",
    "import scipy.stats as stats\n",
    " \n",
    "\n",
    "data_group1 = np.array([14, 15, 15, 16, 13, 8, 14,\n",
    "                        17, 16, 14, 19, 20, 21, 15,\n",
    "                        15, 16, 16, 13, 14, 12])\n",
    " \n",
    "data_group2 = np.array([15, 17, 14, 17, 14, 8, 12,\n",
    "                        19, 19, 14, 17, 22, 24, 16,\n",
    "                        13, 16, 13, 18, 15, 13])\n",
    " \n",
    "\n",
    "stats.ttest_ind(a=data_group1, b=data_group2, equal_var=True)"
   ]
  },
  {
   "cell_type": "code",
   "execution_count": 14,
   "id": "7f44107c-cf00-4af3-a9da-1f887162fb22",
   "metadata": {},
   "outputs": [
    {
     "data": {
      "text/plain": [
       "'Q11: What is Student’s t distribution? When to use the t-Distribution.\\n-It is a probability distribution similar to the normal distribution with its bell shape but has heavier tails.\\nIt is used for estimating population parameters for small sample sizes or unknown variances.\\n'"
      ]
     },
     "execution_count": 14,
     "metadata": {},
     "output_type": "execute_result"
    }
   ],
   "source": [
    "'''Q11: What is Student’s t distribution? When to use the t-Distribution.\n",
    "-It is a probability distribution similar to the normal distribution with its bell shape but has heavier tails.\n",
    "It is used for estimating population parameters for small sample sizes or unknown variances.\n",
    "'''"
   ]
  },
  {
   "cell_type": "code",
   "execution_count": 15,
   "id": "f2c30e97-eed9-4a5d-946c-3e3c57a4bc46",
   "metadata": {},
   "outputs": [
    {
     "data": {
      "text/plain": [
       "'Q12: What is t-statistic? State the formula for t-statistic.\\n- The t-statistic is the ratio of the departure of the estimated value of a parameter from its hypothesized value to its standard error.\\nt_statistic = (sample mean-population mean)/(sample standard deviation/sqrt(sample size))\\n'"
      ]
     },
     "execution_count": 15,
     "metadata": {},
     "output_type": "execute_result"
    }
   ],
   "source": [
    "'''Q12: What is t-statistic? State the formula for t-statistic.\n",
    "- The t-statistic is the ratio of the departure of the estimated value of a parameter from its hypothesized value to its standard error.\n",
    "t_statistic = (sample mean-population mean)/(sample standard deviation/sqrt(sample size))\n",
    "'''"
   ]
  },
  {
   "cell_type": "code",
   "execution_count": 16,
   "id": "f7f9e7f6-9d97-49e9-ab5e-917f6116dd9f",
   "metadata": {},
   "outputs": [
    {
     "data": {
      "text/plain": [
       "[486.1407070887437, 513.8592929112564]"
      ]
     },
     "execution_count": 16,
     "metadata": {},
     "output_type": "execute_result"
    }
   ],
   "source": [
    "'''Q13. A coffee shop owner wants to estimate the average daily revenue for their shop. They take a random\n",
    "sample of 50 days and find the sample mean revenue to be $500 with a standard deviation of $50.\n",
    "Estimate the population mean revenue with a 95% confidence interval.\n",
    "'''\n",
    "pop_mean(500,50,1.96,50)"
   ]
  },
  {
   "cell_type": "code",
   "execution_count": null,
   "id": "a3db699e-b150-413e-9b43-61581bc4faa7",
   "metadata": {},
   "outputs": [],
   "source": []
  }
 ],
 "metadata": {
  "kernelspec": {
   "display_name": "Python 3 (ipykernel)",
   "language": "python",
   "name": "python3"
  },
  "language_info": {
   "codemirror_mode": {
    "name": "ipython",
    "version": 3
   },
   "file_extension": ".py",
   "mimetype": "text/x-python",
   "name": "python",
   "nbconvert_exporter": "python",
   "pygments_lexer": "ipython3",
   "version": "3.10.8"
  }
 },
 "nbformat": 4,
 "nbformat_minor": 5
}
