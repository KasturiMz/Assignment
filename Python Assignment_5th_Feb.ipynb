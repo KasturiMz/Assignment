{
 "cells": [
  {
   "cell_type": "code",
   "execution_count": 1,
   "id": "04946805-781d-43bd-8ce4-c51bbc0771ff",
   "metadata": {},
   "outputs": [
    {
     "name": "stdout",
     "output_type": "stream",
     "text": [
      "(17, 'ktk@gmail.com', 7634367859)\n"
     ]
    }
   ],
   "source": [
    "#Q1. Explain Class and Object with respect to Object-Oriented Programming. Give a suitable example.\n",
    "'''\n",
    "Class is a set of objects that share common characteristics and attributes. Class is the blueprint of object oriented programming which is used \n",
    "to create objects. Object is an instance of an object. All data members and member functions of a class can be accessed with the help of objects.\n",
    "'''\n",
    "class pwskills:\n",
    "    def __init__(self,phone,email,std_id):\n",
    "        self.phone = phone\n",
    "        self.email = email\n",
    "        self.std_id = std_id\n",
    "    \n",
    "    def student_details(self):\n",
    "        return self.std_id,self.email,self.phone\n",
    "#Here pwskills is the class and a is an object which is used ti initiate the class pwskills which will help in accessing the different data \n",
    "#members and member functions of the class pwskills.\n",
    "a = pwskills(7634367859,'ktk@gmail.com',17)\n",
    "print(a.student_details())"
   ]
  },
  {
   "cell_type": "code",
   "execution_count": 2,
   "id": "d4a884b5-e256-4c57-aaa7-49e87e55b707",
   "metadata": {},
   "outputs": [],
   "source": [
    "#Q2.Name the four pillars of OOPs.\n",
    "#The four pillars of OOPs are polymorphism, inheritance, encapsulation and abstraction."
   ]
  },
  {
   "cell_type": "code",
   "execution_count": 3,
   "id": "ef28bd2a-4c36-488f-bbfa-e45673a3ce90",
   "metadata": {},
   "outputs": [
    {
     "name": "stdout",
     "output_type": "stream",
     "text": [
      "(17, 'ktk@gmail.com', 9734698790)\n"
     ]
    }
   ],
   "source": [
    "#Q3.Explain why the __init__() function is used. Give a suitable example.\n",
    "#The __init__() method acts as a constructor for the particular class. It allows the class to initialize the object's attributes.\n",
    "class pwskills_1:\n",
    "    def __init__(self,phone,email,std_id):\n",
    "        self.phone = phone\n",
    "        self.email = email\n",
    "        self.std_id = std_id\n",
    "    def student_details(self):\n",
    "        return self.std_id,self.email,self.phone\n",
    "b=pwskills_1(7634367859,'ktk@gmail.com',17)\n",
    "b.phone = 9734698790\n",
    "print(b.student_details())"
   ]
  },
  {
   "cell_type": "code",
   "execution_count": 4,
   "id": "0b40df92-a09b-465d-829c-48068d5181e2",
   "metadata": {},
   "outputs": [],
   "source": [
    "#Q4. Why self is used in OOPs?\n",
    "#Self variable is used to represent the instance of the class. It is used as the reference to the objects. It refers to instance attributes and\n",
    "#methods of the class"
   ]
  },
  {
   "cell_type": "code",
   "execution_count": 5,
   "id": "3637d110-e44e-4f02-8798-475e97bd5e88",
   "metadata": {},
   "outputs": [],
   "source": [
    "#Q5.What is inheritance? Give an example for each type of inheritance.\n",
    "#Inheritance property allows a class to inherit the properties of another class. It allows the reusability of the fields and methods of the existing \n",
    "#class. There are five types of inheritance: single inheritance, multiple inheritance, hierarchical inheritance, multilevel inheritance and hybrid\n",
    "#inheritance."
   ]
  },
  {
   "cell_type": "code",
   "execution_count": 6,
   "id": "6a89d04d-aaff-4e38-b4d5-5c5fa617239d",
   "metadata": {},
   "outputs": [
    {
     "data": {
      "text/plain": [
       "'This is my first class'"
      ]
     },
     "execution_count": 6,
     "metadata": {},
     "output_type": "execute_result"
    }
   ],
   "source": [
    "#Single Inheritance: When the derived class derives from only one base class.\n",
    "class test:\n",
    "    def test_math(self):\n",
    "        return \"This is my first class\"\n",
    "class child_test(test):\n",
    "    pass\n",
    "c_t = child_test()\n",
    "c_t.test_math()"
   ]
  },
  {
   "cell_type": "code",
   "execution_count": 7,
   "id": "0005d7b5-eb9d-4cde-9d7a-925910964cc7",
   "metadata": {},
   "outputs": [],
   "source": [
    "#Multiple Inheritance: When a derived class derives from multiple base classes.\n",
    "class class_1:\n",
    "    def test1(self):\n",
    "        return \"This is a method from class1\"\n",
    "class class_2():\n",
    "    def test2(self):\n",
    "        return \"This is a method from class2\"\n",
    "class class_3(class_1,class_2):\n",
    "    pass"
   ]
  },
  {
   "cell_type": "code",
   "execution_count": 8,
   "id": "d791b199-eb30-4b12-b48f-8ceaf7f7ce0a",
   "metadata": {},
   "outputs": [],
   "source": [
    "c_l = class_3()"
   ]
  },
  {
   "cell_type": "code",
   "execution_count": 9,
   "id": "da11be1c-5526-47c3-b5e1-983d51eb8120",
   "metadata": {},
   "outputs": [],
   "source": [
    "#Hierarchical: When more than one derived class is created from a single base class.\n",
    "class class__1:\n",
    "    def test1(self):\n",
    "        return \"This is a method from class1\""
   ]
  },
  {
   "cell_type": "code",
   "execution_count": 10,
   "id": "a5584850-e8bd-4569-82cb-dd710ee37308",
   "metadata": {},
   "outputs": [],
   "source": [
    "class class__2(class__1):\n",
    "    pass\n",
    "class class__3(class__1):\n",
    "    pass"
   ]
  },
  {
   "cell_type": "code",
   "execution_count": 11,
   "id": "65127cd4-ffb6-48fa-97d4-5993715b035a",
   "metadata": {},
   "outputs": [],
   "source": [
    "p = class__2()\n",
    "q = class__3()"
   ]
  },
  {
   "cell_type": "code",
   "execution_count": 12,
   "id": "b3e017ce-44b6-4870-85d0-d577b2c4004a",
   "metadata": {},
   "outputs": [
    {
     "data": {
      "text/plain": [
       "'This is a method from class1'"
      ]
     },
     "execution_count": 12,
     "metadata": {},
     "output_type": "execute_result"
    }
   ],
   "source": [
    "p.test1()"
   ]
  },
  {
   "cell_type": "code",
   "execution_count": 13,
   "id": "cab4acb0-df59-4a5b-a71b-9d210ba64120",
   "metadata": {},
   "outputs": [
    {
     "data": {
      "text/plain": [
       "'This is a method from class1'"
      ]
     },
     "execution_count": 13,
     "metadata": {},
     "output_type": "execute_result"
    }
   ],
   "source": [
    "q.test1()"
   ]
  },
  {
   "cell_type": "code",
   "execution_count": 14,
   "id": "dd643bde-6d19-4f5b-8695-259f5cca08e9",
   "metadata": {},
   "outputs": [],
   "source": [
    "#Multilevel: When a class is derived from a class which is a derived class itself\n",
    "class class1:\n",
    "    def test1(self):\n",
    "        return \"This is a method from class1\""
   ]
  },
  {
   "cell_type": "code",
   "execution_count": 15,
   "id": "175ca0e2-a527-481e-9214-49087fda06ba",
   "metadata": {},
   "outputs": [],
   "source": [
    "class class2(class1):\n",
    "    def test2(self):\n",
    "        return \"This is a method from class2\""
   ]
  },
  {
   "cell_type": "code",
   "execution_count": 16,
   "id": "4706a3cb-612a-4740-98de-da2b7b5ed3e1",
   "metadata": {},
   "outputs": [],
   "source": [
    "class class3(class2):\n",
    "    pass"
   ]
  },
  {
   "cell_type": "code",
   "execution_count": 17,
   "id": "46fbaa49-1b85-457e-a066-44cd0938308a",
   "metadata": {},
   "outputs": [
    {
     "data": {
      "text/plain": [
       "'This is a method from class1'"
      ]
     },
     "execution_count": 17,
     "metadata": {},
     "output_type": "execute_result"
    }
   ],
   "source": [
    "class3_obj=class3()\n",
    "class3_obj.test1()"
   ]
  },
  {
   "cell_type": "code",
   "execution_count": 18,
   "id": "261f3449-6ef1-4653-8293-e004627aea04",
   "metadata": {},
   "outputs": [
    {
     "data": {
      "text/plain": [
       "'This is a method from class2'"
      ]
     },
     "execution_count": 18,
     "metadata": {},
     "output_type": "execute_result"
    }
   ],
   "source": [
    "class3_obj.test2()"
   ]
  },
  {
   "cell_type": "code",
   "execution_count": 19,
   "id": "66532244-ecfa-4147-be8b-c42aec516a50",
   "metadata": {},
   "outputs": [],
   "source": [
    "#Hybrid: WHen there is a combination of more than one type of inheritance\n",
    "class cl1:\n",
    "    def test1(self):\n",
    "        return \"This is a method of class 1\""
   ]
  },
  {
   "cell_type": "code",
   "execution_count": 20,
   "id": "fb6537ba-c34e-40b2-a73e-b12c522287ac",
   "metadata": {},
   "outputs": [],
   "source": [
    "class cl2:\n",
    "    def test2(self):\n",
    "        return \"This is a method of class 2\""
   ]
  },
  {
   "cell_type": "code",
   "execution_count": 21,
   "id": "9165bbad-c3d2-4580-b5e5-7ee75d44922b",
   "metadata": {},
   "outputs": [],
   "source": [
    "class cl3(cl2):\n",
    "    def test3(self):\n",
    "        return \"This is a method of class 3\""
   ]
  },
  {
   "cell_type": "code",
   "execution_count": 22,
   "id": "d3c859c7-ecc5-43bb-99d5-101eebadfd84",
   "metadata": {},
   "outputs": [],
   "source": [
    "class cl4(cl3,cl1):\n",
    "    pass"
   ]
  },
  {
   "cell_type": "code",
   "execution_count": 23,
   "id": "acc08a4e-e94f-48f7-a33f-b43ab9ee3f87",
   "metadata": {},
   "outputs": [],
   "source": [
    "t = cl4()"
   ]
  },
  {
   "cell_type": "code",
   "execution_count": 24,
   "id": "e8de86b9-372c-422a-924d-f7e5c0854ba3",
   "metadata": {},
   "outputs": [
    {
     "data": {
      "text/plain": [
       "'This is a method of class 1'"
      ]
     },
     "execution_count": 24,
     "metadata": {},
     "output_type": "execute_result"
    }
   ],
   "source": [
    "t.test1()"
   ]
  },
  {
   "cell_type": "code",
   "execution_count": 25,
   "id": "1492c053-83d6-4eb1-b261-38800ef24321",
   "metadata": {},
   "outputs": [
    {
     "data": {
      "text/plain": [
       "'This is a method of class 2'"
      ]
     },
     "execution_count": 25,
     "metadata": {},
     "output_type": "execute_result"
    }
   ],
   "source": [
    "t.test2()"
   ]
  },
  {
   "cell_type": "code",
   "execution_count": 26,
   "id": "80d03834-945b-4608-a8c6-c1fa0a2d856d",
   "metadata": {},
   "outputs": [
    {
     "data": {
      "text/plain": [
       "'This is a method of class 3'"
      ]
     },
     "execution_count": 26,
     "metadata": {},
     "output_type": "execute_result"
    }
   ],
   "source": [
    "t.test3()"
   ]
  },
  {
   "cell_type": "code",
   "execution_count": null,
   "id": "d308a064-7807-4f1a-bf44-302a44fe1216",
   "metadata": {},
   "outputs": [],
   "source": []
  }
 ],
 "metadata": {
  "kernelspec": {
   "display_name": "Python 3 (ipykernel)",
   "language": "python",
   "name": "python3"
  },
  "language_info": {
   "codemirror_mode": {
    "name": "ipython",
    "version": 3
   },
   "file_extension": ".py",
   "mimetype": "text/x-python",
   "name": "python",
   "nbconvert_exporter": "python",
   "pygments_lexer": "ipython3",
   "version": "3.10.8"
  }
 },
 "nbformat": 4,
 "nbformat_minor": 5
}
