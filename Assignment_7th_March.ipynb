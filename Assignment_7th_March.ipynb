{
 "cells": [
  {
   "cell_type": "code",
   "execution_count": 1,
   "id": "da5eef41-4a39-41ca-bef3-2d60d2c8af3b",
   "metadata": {},
   "outputs": [
    {
     "data": {
      "text/plain": [
       "'Q1. What are the three measures of central tendency?\\nThe three measures of central tendency are:\\n-Mean\\n-Median\\n-Mode\\n'"
      ]
     },
     "execution_count": 1,
     "metadata": {},
     "output_type": "execute_result"
    }
   ],
   "source": [
    "'''Q1. What are the three measures of central tendency?\n",
    "The three measures of central tendency are:\n",
    "-Mean\n",
    "-Median\n",
    "-Mode\n",
    "'''"
   ]
  },
  {
   "cell_type": "code",
   "execution_count": 2,
   "id": "f6e689de-9b9d-4ec9-b7f0-df2ac6552947",
   "metadata": {},
   "outputs": [
    {
     "data": {
      "text/plain": [
       "'Q2. What is the difference between the mean, median, and mode? How are they used to measure the\\ncentral tendency of a dataset?\\n-Mean: Mean is the average value of a numerical feature in a dataset. It is affected by outliers.\\n-Median: Median gives the value at the center in a sorted numerical dataset feature.\\n-Mode: Mode gives the data in a feature which has the maximum frequency. It can be applied on both\\nnumerical as well as categorical data.\\n'"
      ]
     },
     "execution_count": 2,
     "metadata": {},
     "output_type": "execute_result"
    }
   ],
   "source": [
    "'''Q2. What is the difference between the mean, median, and mode? How are they used to measure the\n",
    "central tendency of a dataset?\n",
    "-Mean: Mean is the average value of a numerical feature in a dataset. It is affected by outliers.\n",
    "-Median: Median gives the value at the center in a sorted numerical dataset feature.\n",
    "-Mode: Mode gives the data in a feature which has the maximum frequency. It can be applied on both\n",
    "numerical as well as categorical data.\n",
    "'''"
   ]
  },
  {
   "cell_type": "code",
   "execution_count": 5,
   "id": "5b944aaa-38e8-4607-87ad-a3db73805830",
   "metadata": {},
   "outputs": [],
   "source": [
    "'''Q3. Measure the three measures of central tendency for the given height data:\n",
    "\n",
    " [178,177,176,177,178.2,178,175,179,180,175,178.9,176.2,177,172.5,178,176.5]\n",
    "'''\n",
    "data =  [178,177,176,177,178.2,178,175,179,180,175,178.9,176.2,177,172.5,178,176.5]\n",
    "import numpy as np"
   ]
  },
  {
   "cell_type": "code",
   "execution_count": 6,
   "id": "dca20df6-668a-422f-87ff-0c24ca130575",
   "metadata": {},
   "outputs": [
    {
     "data": {
      "text/plain": [
       "177.01875"
      ]
     },
     "execution_count": 6,
     "metadata": {},
     "output_type": "execute_result"
    }
   ],
   "source": [
    "np.mean(data)"
   ]
  },
  {
   "cell_type": "code",
   "execution_count": 7,
   "id": "06ab5b5a-5c49-4748-b402-24db1847cc4a",
   "metadata": {},
   "outputs": [
    {
     "data": {
      "text/plain": [
       "177.0"
      ]
     },
     "execution_count": 7,
     "metadata": {},
     "output_type": "execute_result"
    }
   ],
   "source": [
    "np.median(data)"
   ]
  },
  {
   "cell_type": "code",
   "execution_count": 9,
   "id": "c51ccbbd-f63f-4d0c-94c5-f90e25f04990",
   "metadata": {},
   "outputs": [],
   "source": [
    "from scipy import stats"
   ]
  },
  {
   "cell_type": "code",
   "execution_count": 10,
   "id": "9140be3f-9e88-4195-80d9-201886ca56b0",
   "metadata": {},
   "outputs": [
    {
     "name": "stderr",
     "output_type": "stream",
     "text": [
      "/tmp/ipykernel_370/3267261142.py:1: FutureWarning: Unlike other reduction functions (e.g. `skew`, `kurtosis`), the default behavior of `mode` typically preserves the axis it acts along. In SciPy 1.11.0, this behavior will change: the default value of `keepdims` will become False, the `axis` over which the statistic is taken will be eliminated, and the value None will no longer be accepted. Set `keepdims` to True or False to avoid this warning.\n",
      "  stats.mode(data)\n"
     ]
    },
    {
     "data": {
      "text/plain": [
       "ModeResult(mode=array([177.]), count=array([3]))"
      ]
     },
     "execution_count": 10,
     "metadata": {},
     "output_type": "execute_result"
    }
   ],
   "source": [
    "stats.mode(data)"
   ]
  },
  {
   "cell_type": "code",
   "execution_count": 11,
   "id": "2f304edc-347e-4080-9812-4b4a7283402c",
   "metadata": {},
   "outputs": [
    {
     "data": {
      "text/plain": [
       "1.7885814036548633"
      ]
     },
     "execution_count": 11,
     "metadata": {},
     "output_type": "execute_result"
    }
   ],
   "source": [
    "'''Q4. Find the standard deviation for the given data:\n",
    "\n",
    "[178,177,176,177,178.2,178,175,179,180,175,178.9,176.2,177,172.5,178,176.5]\n",
    "'''\n",
    "data = [178,177,176,177,178.2,178,175,179,180,175,178.9,176.2,177,172.5,178,176.5]\n",
    "np.std(data)"
   ]
  },
  {
   "cell_type": "code",
   "execution_count": 14,
   "id": "546b3e92-7b14-4746-a0ab-5b037520c317",
   "metadata": {},
   "outputs": [
    {
     "name": "stdout",
     "output_type": "stream",
     "text": [
      "172.5 180\n"
     ]
    }
   ],
   "source": [
    "'''Q5. How are measures of dispersion such as range, variance, and standard deviation used to describe\n",
    "the spread of a dataset? Provide an example.\n",
    "- Range of a dataset is the difference between the largest and the smallest observation in the data.\n",
    "- Variance is a measure of how far a set of numbers is spread out from their average value.\n",
    "- Standard deviation also tells us how far the data points lie from the mean.\n",
    "'''\n",
    "#range\n",
    "print(min(data),max(data))"
   ]
  },
  {
   "cell_type": "code",
   "execution_count": 15,
   "id": "148cf6b7-6a83-4b07-a551-b2532e727b7e",
   "metadata": {},
   "outputs": [
    {
     "name": "stdout",
     "output_type": "stream",
     "text": [
      "3.199023437500001\n"
     ]
    }
   ],
   "source": [
    "#variance\n",
    "print(np.var(data))"
   ]
  },
  {
   "cell_type": "code",
   "execution_count": 17,
   "id": "90344508-e707-4891-844e-256848e5cf8f",
   "metadata": {},
   "outputs": [
    {
     "name": "stdout",
     "output_type": "stream",
     "text": [
      "1.7885814036548633\n"
     ]
    }
   ],
   "source": [
    "#standard deviation\n",
    "print(np.std(data))"
   ]
  },
  {
   "cell_type": "code",
   "execution_count": 18,
   "id": "fac96b7a-76cd-462c-889f-b7817591aaa6",
   "metadata": {},
   "outputs": [],
   "source": [
    "import matplotlib.pyplot as plt"
   ]
  },
  {
   "cell_type": "code",
   "execution_count": 25,
   "id": "1c109469-9fd0-460f-a61e-8c4cc1b05258",
   "metadata": {},
   "outputs": [
    {
     "data": {
      "text/plain": [
       "(array([1., 0., 0., 2., 2., 1., 3., 4., 2., 1.]),\n",
       " array([172.5 , 173.25, 174.  , 174.75, 175.5 , 176.25, 177.  , 177.75,\n",
       "        178.5 , 179.25, 180.  ]),\n",
       " <BarContainer object of 10 artists>)"
      ]
     },
     "execution_count": 25,
     "metadata": {},
     "output_type": "execute_result"
    },
    {
     "data": {
      "image/png": "[encoded data removed]",
      "text/plain": [
       "<Figure size 640x480 with 1 Axes>"
      ]
     },
     "metadata": {},
     "output_type": "display_data"
    }
   ],
   "source": [
    "plt.hist(data)"
   ]
  },
  {
   "cell_type": "code",
   "execution_count": 26,
   "id": "6d3ea26a-7a4e-4650-9d1c-733c55ac0c81",
   "metadata": {},
   "outputs": [
    {
     "data": {
      "text/plain": [
       "'Q6. What is a Venn diagram?\\n- A Venn diagram is an illustration that uses circles to show the relationships among things or finite groups of things.\\n'"
      ]
     },
     "execution_count": 26,
     "metadata": {},
     "output_type": "execute_result"
    }
   ],
   "source": [
    "'''Q6. What is a Venn diagram?\n",
    "- A Venn diagram is an illustration that uses circles to show the relationships among things or finite groups of things.\n",
    "'''"
   ]
  },
  {
   "cell_type": "code",
   "execution_count": 29,
   "id": "fbaf3ae2-31a0-43fa-9ebd-7e46a7bf6472",
   "metadata": {},
   "outputs": [],
   "source": [
    "'''Q7. For the two given sets A = (2,3,4,5,6,7) & B = (0,2,6,8,10). Find:\n",
    "\n",
    "(i) \tA intersection B\n",
    "\n",
    "(ii)\tA ⋃ B\n",
    "'''\n",
    "A = (2,3,4,5,6,7)\n",
    "B = (0,2,6,8,10)"
   ]
  },
  {
   "cell_type": "code",
   "execution_count": 31,
   "id": "48692fda-5fa0-4c6b-a409-688b5e272cce",
   "metadata": {},
   "outputs": [],
   "source": [
    "A=set(A)"
   ]
  },
  {
   "cell_type": "code",
   "execution_count": 33,
   "id": "5ba8392d-7e2b-4c91-8f14-65ac30ffbdc8",
   "metadata": {},
   "outputs": [],
   "source": [
    "B=set(B)"
   ]
  },
  {
   "cell_type": "code",
   "execution_count": 34,
   "id": "8ef4e100-240b-4cd6-ab42-535c0a69db2f",
   "metadata": {},
   "outputs": [
    {
     "data": {
      "text/plain": [
       "{2, 6}"
      ]
     },
     "execution_count": 34,
     "metadata": {},
     "output_type": "execute_result"
    }
   ],
   "source": [
    "A.intersection(B)"
   ]
  },
  {
   "cell_type": "code",
   "execution_count": 35,
   "id": "6be1be79-03a0-4948-a5c4-cab65b5aa8d0",
   "metadata": {},
   "outputs": [
    {
     "data": {
      "text/plain": [
       "{0, 2, 3, 4, 5, 6, 7, 8, 10}"
      ]
     },
     "execution_count": 35,
     "metadata": {},
     "output_type": "execute_result"
    }
   ],
   "source": [
    "A.union(B)"
   ]
  },
  {
   "cell_type": "code",
   "execution_count": 36,
   "id": "704303da-9370-47bf-b717-2252dea68517",
   "metadata": {},
   "outputs": [
    {
     "data": {
      "text/plain": [
       "'Q8. What do you understand about skewness in data?\\nSkewness is a measurement of asymetry in a data.\\n'"
      ]
     },
     "execution_count": 36,
     "metadata": {},
     "output_type": "execute_result"
    }
   ],
   "source": [
    "'''Q8. What do you understand about skewness in data?\n",
    "Skewness is a measurement of asymetry in a data.\n",
    "'''"
   ]
  },
  {
   "cell_type": "code",
   "execution_count": 37,
   "id": "b341e7a9-e2ae-4837-9ce5-b84f95e8ec6e",
   "metadata": {},
   "outputs": [
    {
     "data": {
      "text/plain": [
       "'Q9. If a data is right skewed then what will be the position of median with respect to mean?\\n- Mean will lie to the right of median i.e. mean will be greater than or equal to median.\\n'"
      ]
     },
     "execution_count": 37,
     "metadata": {},
     "output_type": "execute_result"
    }
   ],
   "source": [
    "'''Q9. If a data is right skewed then what will be the position of median with respect to mean?\n",
    "- Mean will lie to the right of median i.e. mean will be greater than or equal to median.\n",
    "'''"
   ]
  },
  {
   "cell_type": "code",
   "execution_count": 38,
   "id": "e5d82a37-2a42-4856-b90c-89a87a486cfe",
   "metadata": {},
   "outputs": [
    {
     "data": {
      "text/plain": [
       "'Q10. Explain the difference between covariance and correlation. How are these measures used in\\nstatistical analysis?\\n- Covariance indicates the direction of the linear relationship between variables. While correlation measures\\nboth the strength and direction of the linear relationship between two variables. \\n'"
      ]
     },
     "execution_count": 38,
     "metadata": {},
     "output_type": "execute_result"
    }
   ],
   "source": [
    "'''Q10. Explain the difference between covariance and correlation. How are these measures used in\n",
    "statistical analysis?\n",
    "- Covariance indicates the direction of the linear relationship between variables. While correlation measures\n",
    "both the strength and direction of the linear relationship between two variables. \n",
    "'''"
   ]
  },
  {
   "cell_type": "code",
   "execution_count": 49,
   "id": "263cbb7b-7c4d-4e6a-b3e9-387e057bcecd",
   "metadata": {},
   "outputs": [],
   "source": [
    "'''Q11. What is the formula for calculating the sample mean? Provide an example calculation for a\n",
    "dataset.\n",
    "- The sample mean is given by summation(i=1 to n)(xi-xmean)/n-1\n",
    "where xi- datapoints\n",
    "      xmean- mean of the data x\n",
    "      n- number of datapoints in the sample\n",
    "'''\n",
    "xmean=np.mean(data)\n",
    "n=len(data)"
   ]
  },
  {
   "cell_type": "code",
   "execution_count": 50,
   "id": "3656ea49-0a3c-4c48-8536-6e15eb763f55",
   "metadata": {},
   "outputs": [
    {
     "data": {
      "text/plain": [
       "-1.3263464400855204e-14"
      ]
     },
     "execution_count": 50,
     "metadata": {},
     "output_type": "execute_result"
    }
   ],
   "source": [
    "np.sum(np.array(data)-xmean)/(n-1)"
   ]
  },
  {
   "cell_type": "code",
   "execution_count": 51,
   "id": "6f2ef674-09af-4f38-bbee-6b71d90ba3d6",
   "metadata": {},
   "outputs": [
    {
     "data": {
      "text/plain": [
       "'Q12. For a normal distribution data what is the relationship between its measure of central tendency?\\n- For a normal distribution the mean, median and mode are all equal.\\n'"
      ]
     },
     "execution_count": 51,
     "metadata": {},
     "output_type": "execute_result"
    }
   ],
   "source": [
    "'''Q12. For a normal distribution data what is the relationship between its measure of central tendency?\n",
    "- For a normal distribution the mean, median and mode are all equal.\n",
    "'''"
   ]
  },
  {
   "cell_type": "code",
   "execution_count": 52,
   "id": "1d4147ae-cca2-4230-86e8-e2933f97efd3",
   "metadata": {},
   "outputs": [
    {
     "data": {
      "text/plain": [
       "'Q13. How is covariance different from correlation?\\n- Covariance indicates the direction of the linear relationship between variables. While correlation measures\\nboth the strength and direction of the linear relationship between two variables.\\n'"
      ]
     },
     "execution_count": 52,
     "metadata": {},
     "output_type": "execute_result"
    }
   ],
   "source": [
    "'''Q13. How is covariance different from correlation?\n",
    "- Covariance indicates the direction of the linear relationship between variables. While correlation measures\n",
    "both the strength and direction of the linear relationship between two variables.\n",
    "'''"
   ]
  },
  {
   "cell_type": "code",
   "execution_count": 55,
   "id": "909737b0-f99d-4070-9e3d-fd655d16ec62",
   "metadata": {},
   "outputs": [
    {
     "name": "stdout",
     "output_type": "stream",
     "text": [
      "177.01875 177.0 ModeResult(mode=array([177.]), count=array([3]))\n"
     ]
    },
    {
     "name": "stderr",
     "output_type": "stream",
     "text": [
      "/tmp/ipykernel_370/762398075.py:4: FutureWarning: Unlike other reduction functions (e.g. `skew`, `kurtosis`), the default behavior of `mode` typically preserves the axis it acts along. In SciPy 1.11.0, this behavior will change: the default value of `keepdims` will become False, the `axis` over which the statistic is taken will be eliminated, and the value None will no longer be accepted. Set `keepdims` to True or False to avoid this warning.\n",
      "  print(np.mean(data),np.median(data),stats.mode(data))\n"
     ]
    }
   ],
   "source": [
    "'''Q14. How do outliers affect measures of central tendency and dispersion? Provide an example\n",
    "- Outliers distort the mean of the dataset but it does not affect the median and mode of the dataset.\n",
    "'''\n",
    "print(np.mean(data),np.median(data),stats.mode(data))"
   ]
  },
  {
   "cell_type": "code",
   "execution_count": 56,
   "id": "c7ee06ce-3ea2-4e78-91e9-222550dbb837",
   "metadata": {},
   "outputs": [
    {
     "data": {
      "text/plain": [
       "[178,\n",
       " 177,\n",
       " 176,\n",
       " 177,\n",
       " 178.2,\n",
       " 178,\n",
       " 175,\n",
       " 179,\n",
       " 180,\n",
       " 175,\n",
       " 178.9,\n",
       " 176.2,\n",
       " 177,\n",
       " 172.5,\n",
       " 178,\n",
       " 176.5]"
      ]
     },
     "execution_count": 56,
     "metadata": {},
     "output_type": "execute_result"
    }
   ],
   "source": [
    "data"
   ]
  },
  {
   "cell_type": "code",
   "execution_count": 57,
   "id": "e55830c0-e4d9-4ba5-a309-5d6c046674c2",
   "metadata": {},
   "outputs": [],
   "source": [
    "data.append(500)"
   ]
  },
  {
   "cell_type": "code",
   "execution_count": 58,
   "id": "990cf07f-d388-4afb-981a-e3a486aa1ed2",
   "metadata": {},
   "outputs": [
    {
     "name": "stdout",
     "output_type": "stream",
     "text": [
      "196.01764705882354 177.0 ModeResult(mode=array([177.]), count=array([3]))\n"
     ]
    },
    {
     "name": "stderr",
     "output_type": "stream",
     "text": [
      "/tmp/ipykernel_370/2962755767.py:1: FutureWarning: Unlike other reduction functions (e.g. `skew`, `kurtosis`), the default behavior of `mode` typically preserves the axis it acts along. In SciPy 1.11.0, this behavior will change: the default value of `keepdims` will become False, the `axis` over which the statistic is taken will be eliminated, and the value None will no longer be accepted. Set `keepdims` to True or False to avoid this warning.\n",
      "  print(np.mean(data),np.median(data),stats.mode(data))\n"
     ]
    }
   ],
   "source": [
    "print(np.mean(data),np.median(data),stats.mode(data))"
   ]
  },
  {
   "cell_type": "code",
   "execution_count": null,
   "id": "8ce9dc0e-06ad-4198-b341-f229878d8cbf",
   "metadata": {},
   "outputs": [],
   "source": []
  }
 ],
 "metadata": {
  "kernelspec": {
   "display_name": "Python 3 (ipykernel)",
   "language": "python",
   "name": "python3"
  },
  "language_info": {
   "codemirror_mode": {
    "name": "ipython",
    "version": 3
   },
   "file_extension": ".py",
   "mimetype": "text/x-python",
   "name": "python",
   "nbconvert_exporter": "python",
   "pygments_lexer": "ipython3",
   "version": "3.10.8"
  }
 },
 "nbformat": 4,
 "nbformat_minor": 5
}
