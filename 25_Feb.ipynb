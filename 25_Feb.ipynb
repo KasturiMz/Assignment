{
 "cells": [
  {
   "cell_type": "code",
   "execution_count": 1,
   "id": "0671e2c4-6028-49eb-9bac-c46f47edea4a",
   "metadata": {},
   "outputs": [],
   "source": [
    "import pandas as pd"
   ]
  },
  {
   "cell_type": "code",
   "execution_count": 2,
   "id": "7cc32f23-7473-408a-b397-aa696e16560b",
   "metadata": {},
   "outputs": [],
   "source": [
    "course_name = ['Data Science', 'Machine Learning', 'Big Data', 'Data Engineer']\n",
    "duration = [2,3,6,4]\n",
    "df = pd.DataFrame(data = {'course_name' : course_name, 'duration' : duration})"
   ]
  },
  {
   "cell_type": "code",
   "execution_count": 3,
   "id": "bad35271-61b8-42f7-8c0f-ee726f1db465",
   "metadata": {},
   "outputs": [
    {
     "data": {
      "text/html": [
       "<div>\n",
       "<style scoped>\n",
       "    .dataframe tbody tr th:only-of-type {\n",
       "        vertical-align: middle;\n",
       "    }\n",
       "\n",
       "    .dataframe tbody tr th {\n",
       "        vertical-align: top;\n",
       "    }\n",
       "\n",
       "    .dataframe thead th {\n",
       "        text-align: right;\n",
       "    }\n",
       "</style>\n",
       "<table border=\"1\" class=\"dataframe\">\n",
       "  <thead>\n",
       "    <tr style=\"text-align: right;\">\n",
       "      <th></th>\n",
       "      <th>course_name</th>\n",
       "      <th>duration</th>\n",
       "    </tr>\n",
       "  </thead>\n",
       "  <tbody>\n",
       "    <tr>\n",
       "      <th>0</th>\n",
       "      <td>Data Science</td>\n",
       "      <td>2</td>\n",
       "    </tr>\n",
       "    <tr>\n",
       "      <th>1</th>\n",
       "      <td>Machine Learning</td>\n",
       "      <td>3</td>\n",
       "    </tr>\n",
       "    <tr>\n",
       "      <th>2</th>\n",
       "      <td>Big Data</td>\n",
       "      <td>6</td>\n",
       "    </tr>\n",
       "    <tr>\n",
       "      <th>3</th>\n",
       "      <td>Data Engineer</td>\n",
       "      <td>4</td>\n",
       "    </tr>\n",
       "  </tbody>\n",
       "</table>\n",
       "</div>"
      ],
      "text/plain": [
       "        course_name  duration\n",
       "0      Data Science         2\n",
       "1  Machine Learning         3\n",
       "2          Big Data         6\n",
       "3     Data Engineer         4"
      ]
     },
     "execution_count": 3,
     "metadata": {},
     "output_type": "execute_result"
    }
   ],
   "source": [
    "'''Q1. Write a code to print the data present in the second row of the dataframe, df.\n",
    "'''\n",
    "df"
   ]
  },
  {
   "cell_type": "code",
   "execution_count": 4,
   "id": "0f0e812e-e3cc-439d-9cfa-ce41bb86ab95",
   "metadata": {},
   "outputs": [
    {
     "data": {
      "text/plain": [
       "course_name    Machine Learning\n",
       "duration                      3\n",
       "Name: 1, dtype: object"
      ]
     },
     "execution_count": 4,
     "metadata": {},
     "output_type": "execute_result"
    }
   ],
   "source": [
    "df.loc[1]"
   ]
  },
  {
   "cell_type": "code",
   "execution_count": 5,
   "id": "3549ce68-9b76-4cd6-972c-2a8625834a2b",
   "metadata": {},
   "outputs": [
    {
     "data": {
      "text/plain": [
       "'\\n-> loc is used for label indexing and can access multiple columns while iloc is used\\nfor integer indexing.\\n'"
      ]
     },
     "execution_count": 5,
     "metadata": {},
     "output_type": "execute_result"
    }
   ],
   "source": [
    "'''Q2. What is the difference between the functions loc and iloc in pandas.DataFrame?\n",
    "'''\n",
    "'''\n",
    "-> loc is used for label indexing and can access multiple columns while iloc is used\n",
    "for integer indexing.\n",
    "'''"
   ]
  },
  {
   "cell_type": "code",
   "execution_count": 6,
   "id": "f830ccf1-788a-48b9-9b93-310cfd548533",
   "metadata": {},
   "outputs": [],
   "source": [
    "'''Q3. Reindex the given dataframe using a variable, reindex = [3,0,1,2] and store it in the variable, new_df\n",
    "then find the output for both new_df.loc[2] and new_df.iloc[2].\n",
    "'''\n",
    "new_df = df.reindex([3,0,1,2])"
   ]
  },
  {
   "cell_type": "code",
   "execution_count": 7,
   "id": "fde1bb69-4a8f-46c3-a18d-b0bad77abd3a",
   "metadata": {},
   "outputs": [
    {
     "data": {
      "text/html": [
       "<div>\n",
       "<style scoped>\n",
       "    .dataframe tbody tr th:only-of-type {\n",
       "        vertical-align: middle;\n",
       "    }\n",
       "\n",
       "    .dataframe tbody tr th {\n",
       "        vertical-align: top;\n",
       "    }\n",
       "\n",
       "    .dataframe thead th {\n",
       "        text-align: right;\n",
       "    }\n",
       "</style>\n",
       "<table border=\"1\" class=\"dataframe\">\n",
       "  <thead>\n",
       "    <tr style=\"text-align: right;\">\n",
       "      <th></th>\n",
       "      <th>course_name</th>\n",
       "      <th>duration</th>\n",
       "    </tr>\n",
       "  </thead>\n",
       "  <tbody>\n",
       "    <tr>\n",
       "      <th>3</th>\n",
       "      <td>Data Engineer</td>\n",
       "      <td>4</td>\n",
       "    </tr>\n",
       "    <tr>\n",
       "      <th>0</th>\n",
       "      <td>Data Science</td>\n",
       "      <td>2</td>\n",
       "    </tr>\n",
       "    <tr>\n",
       "      <th>1</th>\n",
       "      <td>Machine Learning</td>\n",
       "      <td>3</td>\n",
       "    </tr>\n",
       "    <tr>\n",
       "      <th>2</th>\n",
       "      <td>Big Data</td>\n",
       "      <td>6</td>\n",
       "    </tr>\n",
       "  </tbody>\n",
       "</table>\n",
       "</div>"
      ],
      "text/plain": [
       "        course_name  duration\n",
       "3     Data Engineer         4\n",
       "0      Data Science         2\n",
       "1  Machine Learning         3\n",
       "2          Big Data         6"
      ]
     },
     "execution_count": 7,
     "metadata": {},
     "output_type": "execute_result"
    }
   ],
   "source": [
    "new_df"
   ]
  },
  {
   "cell_type": "code",
   "execution_count": 8,
   "id": "08983e71-e8d6-40c1-ace0-57d2580622fa",
   "metadata": {},
   "outputs": [
    {
     "data": {
      "text/plain": [
       "course_name    Big Data\n",
       "duration              6\n",
       "Name: 2, dtype: object"
      ]
     },
     "execution_count": 8,
     "metadata": {},
     "output_type": "execute_result"
    }
   ],
   "source": [
    "new_df.loc[2]"
   ]
  },
  {
   "cell_type": "code",
   "execution_count": 9,
   "id": "76148669-0ae9-43c7-8371-625f89d7b1d8",
   "metadata": {},
   "outputs": [
    {
     "data": {
      "text/plain": [
       "course_name    Machine Learning\n",
       "duration                      3\n",
       "Name: 1, dtype: object"
      ]
     },
     "execution_count": 9,
     "metadata": {},
     "output_type": "execute_result"
    }
   ],
   "source": [
    "new_df.iloc[2]"
   ]
  },
  {
   "cell_type": "code",
   "execution_count": 10,
   "id": "d3bc2741-ae4d-4c51-b609-7be0ad9a7cd7",
   "metadata": {},
   "outputs": [
    {
     "data": {
      "text/plain": [
       "'loc gives label indexing hence it gives the data in the row named 2 while\\niloc gives the integer indexing hence it gives the data in the row indexed at 2.\\n'"
      ]
     },
     "execution_count": 10,
     "metadata": {},
     "output_type": "execute_result"
    }
   ],
   "source": [
    "'''loc gives label indexing hence it gives the data in the row named 2 while\n",
    "iloc gives the integer indexing hence it gives the data in the row indexed at 2.\n",
    "'''"
   ]
  },
  {
   "cell_type": "code",
   "execution_count": 11,
   "id": "4dfc7fa3-2a14-4a12-9c16-3537813c71e0",
   "metadata": {},
   "outputs": [],
   "source": [
    "import numpy as np\n",
    "columns = ['column_1', 'column_2', 'column_3', 'column_4', 'column_5', 'column_6']\n",
    "indices = [1,2,3,4,5,6]\n",
    "#Creating a dataframe:\n",
    "df1 = pd.DataFrame(np.random.rand(6,6), columns = columns, index = indices)"
   ]
  },
  {
   "cell_type": "code",
   "execution_count": 12,
   "id": "5e424a11-052a-48ae-8668-ec5cc5117588",
   "metadata": {},
   "outputs": [
    {
     "data": {
      "text/html": [
       "<div>\n",
       "<style scoped>\n",
       "    .dataframe tbody tr th:only-of-type {\n",
       "        vertical-align: middle;\n",
       "    }\n",
       "\n",
       "    .dataframe tbody tr th {\n",
       "        vertical-align: top;\n",
       "    }\n",
       "\n",
       "    .dataframe thead th {\n",
       "        text-align: right;\n",
       "    }\n",
       "</style>\n",
       "<table border=\"1\" class=\"dataframe\">\n",
       "  <thead>\n",
       "    <tr style=\"text-align: right;\">\n",
       "      <th></th>\n",
       "      <th>column_1</th>\n",
       "      <th>column_2</th>\n",
       "      <th>column_3</th>\n",
       "      <th>column_4</th>\n",
       "      <th>column_5</th>\n",
       "      <th>column_6</th>\n",
       "    </tr>\n",
       "  </thead>\n",
       "  <tbody>\n",
       "    <tr>\n",
       "      <th>1</th>\n",
       "      <td>0.081905</td>\n",
       "      <td>0.101971</td>\n",
       "      <td>0.481984</td>\n",
       "      <td>0.543970</td>\n",
       "      <td>0.520104</td>\n",
       "      <td>0.470901</td>\n",
       "    </tr>\n",
       "    <tr>\n",
       "      <th>2</th>\n",
       "      <td>0.208994</td>\n",
       "      <td>0.438263</td>\n",
       "      <td>0.785459</td>\n",
       "      <td>0.661613</td>\n",
       "      <td>0.280723</td>\n",
       "      <td>0.968598</td>\n",
       "    </tr>\n",
       "    <tr>\n",
       "      <th>3</th>\n",
       "      <td>0.737397</td>\n",
       "      <td>0.934134</td>\n",
       "      <td>0.790298</td>\n",
       "      <td>0.436335</td>\n",
       "      <td>0.649855</td>\n",
       "      <td>0.834544</td>\n",
       "    </tr>\n",
       "    <tr>\n",
       "      <th>4</th>\n",
       "      <td>0.378179</td>\n",
       "      <td>0.691005</td>\n",
       "      <td>0.200980</td>\n",
       "      <td>0.202076</td>\n",
       "      <td>0.162747</td>\n",
       "      <td>0.265828</td>\n",
       "    </tr>\n",
       "    <tr>\n",
       "      <th>5</th>\n",
       "      <td>0.238327</td>\n",
       "      <td>0.882784</td>\n",
       "      <td>0.067161</td>\n",
       "      <td>0.376655</td>\n",
       "      <td>0.305408</td>\n",
       "      <td>0.604523</td>\n",
       "    </tr>\n",
       "    <tr>\n",
       "      <th>6</th>\n",
       "      <td>0.184585</td>\n",
       "      <td>0.011229</td>\n",
       "      <td>0.876376</td>\n",
       "      <td>0.697429</td>\n",
       "      <td>0.531263</td>\n",
       "      <td>0.651834</td>\n",
       "    </tr>\n",
       "  </tbody>\n",
       "</table>\n",
       "</div>"
      ],
      "text/plain": [
       "   column_1  column_2  column_3  column_4  column_5  column_6\n",
       "1  0.081905  0.101971  0.481984  0.543970  0.520104  0.470901\n",
       "2  0.208994  0.438263  0.785459  0.661613  0.280723  0.968598\n",
       "3  0.737397  0.934134  0.790298  0.436335  0.649855  0.834544\n",
       "4  0.378179  0.691005  0.200980  0.202076  0.162747  0.265828\n",
       "5  0.238327  0.882784  0.067161  0.376655  0.305408  0.604523\n",
       "6  0.184585  0.011229  0.876376  0.697429  0.531263  0.651834"
      ]
     },
     "execution_count": 12,
     "metadata": {},
     "output_type": "execute_result"
    }
   ],
   "source": [
    "df1"
   ]
  },
  {
   "cell_type": "code",
   "execution_count": 13,
   "id": "311a2172-b051-40c5-8d96-40a93cd48cb7",
   "metadata": {},
   "outputs": [
    {
     "data": {
      "text/plain": [
       "column_1    0.304898\n",
       "column_2    0.509898\n",
       "column_3    0.533710\n",
       "column_4    0.486346\n",
       "column_5    0.408350\n",
       "column_6    0.632704\n",
       "dtype: float64"
      ]
     },
     "execution_count": 13,
     "metadata": {},
     "output_type": "execute_result"
    }
   ],
   "source": [
    "'''Q4. Write a code to find the following statistical measurements for the above dataframe df1:\n",
    "(i) mean of each and every column present in the dataframe.\n",
    "(ii) standard deviation of column, ‘column_2’\n",
    "'''\n",
    "df1.mean(axis=0)"
   ]
  },
  {
   "cell_type": "code",
   "execution_count": 14,
   "id": "68a35bb8-30f0-4c6e-aec4-4e3f351130c5",
   "metadata": {},
   "outputs": [
    {
     "data": {
      "text/plain": [
       "0.39294465021512004"
      ]
     },
     "execution_count": 14,
     "metadata": {},
     "output_type": "execute_result"
    }
   ],
   "source": [
    "df1['column_2'].std()"
   ]
  },
  {
   "cell_type": "code",
   "execution_count": 15,
   "id": "bd3b28d9-f3a1-4d7b-b35f-e0b3d1404497",
   "metadata": {},
   "outputs": [],
   "source": [
    "'''Q5. Replace the data present in the second row of column, ‘column_2’ by a string variable then find the\n",
    "mean of column, column_2.\n",
    "'''\n",
    "df1.loc[2,\"column_2\"] = \"data science\""
   ]
  },
  {
   "cell_type": "code",
   "execution_count": 16,
   "id": "f2e8875c-4da1-41b9-b276-bc80a74ea31e",
   "metadata": {},
   "outputs": [
    {
     "data": {
      "text/html": [
       "<div>\n",
       "<style scoped>\n",
       "    .dataframe tbody tr th:only-of-type {\n",
       "        vertical-align: middle;\n",
       "    }\n",
       "\n",
       "    .dataframe tbody tr th {\n",
       "        vertical-align: top;\n",
       "    }\n",
       "\n",
       "    .dataframe thead th {\n",
       "        text-align: right;\n",
       "    }\n",
       "</style>\n",
       "<table border=\"1\" class=\"dataframe\">\n",
       "  <thead>\n",
       "    <tr style=\"text-align: right;\">\n",
       "      <th></th>\n",
       "      <th>column_1</th>\n",
       "      <th>column_2</th>\n",
       "      <th>column_3</th>\n",
       "      <th>column_4</th>\n",
       "      <th>column_5</th>\n",
       "      <th>column_6</th>\n",
       "    </tr>\n",
       "  </thead>\n",
       "  <tbody>\n",
       "    <tr>\n",
       "      <th>1</th>\n",
       "      <td>0.081905</td>\n",
       "      <td>0.101971</td>\n",
       "      <td>0.481984</td>\n",
       "      <td>0.543970</td>\n",
       "      <td>0.520104</td>\n",
       "      <td>0.470901</td>\n",
       "    </tr>\n",
       "    <tr>\n",
       "      <th>2</th>\n",
       "      <td>0.208994</td>\n",
       "      <td>data science</td>\n",
       "      <td>0.785459</td>\n",
       "      <td>0.661613</td>\n",
       "      <td>0.280723</td>\n",
       "      <td>0.968598</td>\n",
       "    </tr>\n",
       "    <tr>\n",
       "      <th>3</th>\n",
       "      <td>0.737397</td>\n",
       "      <td>0.934134</td>\n",
       "      <td>0.790298</td>\n",
       "      <td>0.436335</td>\n",
       "      <td>0.649855</td>\n",
       "      <td>0.834544</td>\n",
       "    </tr>\n",
       "    <tr>\n",
       "      <th>4</th>\n",
       "      <td>0.378179</td>\n",
       "      <td>0.691005</td>\n",
       "      <td>0.200980</td>\n",
       "      <td>0.202076</td>\n",
       "      <td>0.162747</td>\n",
       "      <td>0.265828</td>\n",
       "    </tr>\n",
       "    <tr>\n",
       "      <th>5</th>\n",
       "      <td>0.238327</td>\n",
       "      <td>0.882784</td>\n",
       "      <td>0.067161</td>\n",
       "      <td>0.376655</td>\n",
       "      <td>0.305408</td>\n",
       "      <td>0.604523</td>\n",
       "    </tr>\n",
       "    <tr>\n",
       "      <th>6</th>\n",
       "      <td>0.184585</td>\n",
       "      <td>0.011229</td>\n",
       "      <td>0.876376</td>\n",
       "      <td>0.697429</td>\n",
       "      <td>0.531263</td>\n",
       "      <td>0.651834</td>\n",
       "    </tr>\n",
       "  </tbody>\n",
       "</table>\n",
       "</div>"
      ],
      "text/plain": [
       "   column_1      column_2  column_3  column_4  column_5  column_6\n",
       "1  0.081905      0.101971  0.481984  0.543970  0.520104  0.470901\n",
       "2  0.208994  data science  0.785459  0.661613  0.280723  0.968598\n",
       "3  0.737397      0.934134  0.790298  0.436335  0.649855  0.834544\n",
       "4  0.378179      0.691005  0.200980  0.202076  0.162747  0.265828\n",
       "5  0.238327      0.882784  0.067161  0.376655  0.305408  0.604523\n",
       "6  0.184585      0.011229  0.876376  0.697429  0.531263  0.651834"
      ]
     },
     "execution_count": 16,
     "metadata": {},
     "output_type": "execute_result"
    }
   ],
   "source": [
    "df1"
   ]
  },
  {
   "cell_type": "code",
   "execution_count": 17,
   "id": "3ce4255e-0dab-4db6-897d-c502eb0e386a",
   "metadata": {},
   "outputs": [],
   "source": [
    "#df1['column_2'].mean()\n",
    "#We get an error because the mean for a non numeric data cannot be obtained"
   ]
  },
  {
   "cell_type": "code",
   "execution_count": 18,
   "id": "d7012b7a-91bd-46ea-a3fa-68dd54d50623",
   "metadata": {},
   "outputs": [
    {
     "data": {
      "text/plain": [
       "'Q6. What do you understand about the windows function in pandas and list the types of windows\\nfunctions?\\n--> The window functions in pandas are used to perform some sort of calculations across a set of \\nrows that are interrelated with the current row.\\nThe types of windows functions are-\\nAggregate\\nRanking\\nValue\\n'"
      ]
     },
     "execution_count": 18,
     "metadata": {},
     "output_type": "execute_result"
    }
   ],
   "source": [
    "'''Q6. What do you understand about the windows function in pandas and list the types of windows\n",
    "functions?\n",
    "--> The window functions in pandas are used to perform some sort of calculations across a set of \n",
    "rows that are interrelated with the current row.\n",
    "The types of windows functions are-\n",
    "Aggregate\n",
    "Ranking\n",
    "Value\n",
    "'''"
   ]
  },
  {
   "cell_type": "code",
   "execution_count": 19,
   "id": "747e8e34-458b-4e5b-bb0b-a9f3715d9ba2",
   "metadata": {},
   "outputs": [],
   "source": [
    "'''Q7. Write a code to print only the current month and year at the time of answering this question.\n",
    "'''\n",
    "from datetime import datetime"
   ]
  },
  {
   "cell_type": "code",
   "execution_count": 20,
   "id": "209dd549-075d-48c7-9775-e1a08534966d",
   "metadata": {},
   "outputs": [],
   "source": [
    "date = datetime.now()"
   ]
  },
  {
   "cell_type": "code",
   "execution_count": 21,
   "id": "23ada81a-b6a0-42e1-bc7c-a067f93616b5",
   "metadata": {},
   "outputs": [
    {
     "data": {
      "text/plain": [
       "'Sunday'"
      ]
     },
     "execution_count": 21,
     "metadata": {},
     "output_type": "execute_result"
    }
   ],
   "source": [
    "pd.to_datetime(date).day_name()"
   ]
  },
  {
   "cell_type": "code",
   "execution_count": 22,
   "id": "c3d69f2e-ba99-46ee-b4b1-04417089ef8a",
   "metadata": {},
   "outputs": [
    {
     "data": {
      "text/plain": [
       "2023"
      ]
     },
     "execution_count": 22,
     "metadata": {},
     "output_type": "execute_result"
    }
   ],
   "source": [
    "date.year"
   ]
  },
  {
   "cell_type": "code",
   "execution_count": 23,
   "id": "f05e9f2e-2451-4d1c-9436-fda93ce3b396",
   "metadata": {},
   "outputs": [],
   "source": [
    "date = pd.to_datetime(date)"
   ]
  },
  {
   "cell_type": "code",
   "execution_count": 24,
   "id": "de6dab76-7ee3-47f8-915e-7dd1a5cd63a9",
   "metadata": {},
   "outputs": [
    {
     "data": {
      "text/plain": [
       "Timestamp('2023-07-30 13:34:56.612217')"
      ]
     },
     "execution_count": 24,
     "metadata": {},
     "output_type": "execute_result"
    }
   ],
   "source": [
    "date"
   ]
  },
  {
   "cell_type": "code",
   "execution_count": 25,
   "id": "ba2d0e45-65d7-4a0f-b14b-7221e532ca66",
   "metadata": {},
   "outputs": [
    {
     "name": "stdin",
     "output_type": "stream",
     "text": [
      "Enter the first date:  2023-01-28\n",
      "Enter the second date:  2022-11-17\n"
     ]
    }
   ],
   "source": [
    "'''Q8. Write a Python program that takes in two dates as input (in the format YYYY-MM-DD) and\n",
    "calculates the difference between them in days, hours, and minutes using Pandas time delta. The\n",
    "program should prompt the user to enter the dates and display the result.\n",
    "'''\n",
    "date1 = pd.to_datetime(input(\"Enter the first date: \"))\n",
    "date2 = pd.to_datetime(input(\"Enter the second date: \"))                       "
   ]
  },
  {
   "cell_type": "code",
   "execution_count": 26,
   "id": "21ce17c9-4303-4d34-b398-23ac2f9a555e",
   "metadata": {},
   "outputs": [
    {
     "data": {
      "text/plain": [
       "Timestamp('2023-01-28 00:00:00')"
      ]
     },
     "execution_count": 26,
     "metadata": {},
     "output_type": "execute_result"
    }
   ],
   "source": [
    "date1"
   ]
  },
  {
   "cell_type": "code",
   "execution_count": 27,
   "id": "ee4a1f57-e5fd-4bb9-b358-eaf617f657db",
   "metadata": {},
   "outputs": [
    {
     "data": {
      "text/plain": [
       "Timestamp('2022-11-17 00:00:00')"
      ]
     },
     "execution_count": 27,
     "metadata": {},
     "output_type": "execute_result"
    }
   ],
   "source": [
    "date2"
   ]
  },
  {
   "cell_type": "code",
   "execution_count": 28,
   "id": "9e4d2ac7-f2d3-4c52-911c-e2c212549ed6",
   "metadata": {},
   "outputs": [
    {
     "data": {
      "text/plain": [
       "Timedelta('72 days 00:00:00')"
      ]
     },
     "execution_count": 28,
     "metadata": {},
     "output_type": "execute_result"
    }
   ],
   "source": [
    "date1-date2"
   ]
  },
  {
   "cell_type": "code",
   "execution_count": null,
   "id": "4596fd33-e7b7-4edc-ae1a-677baafb061b",
   "metadata": {},
   "outputs": [],
   "source": [
    "\n"
   ]
  },
  {
   "cell_type": "code",
   "execution_count": null,
   "id": "36bcd047-9e26-4411-b6f4-f4346c1585b3",
   "metadata": {},
   "outputs": [],
   "source": []
  }
 ],
 "metadata": {
  "kernelspec": {
   "display_name": "Python 3 (ipykernel)",
   "language": "python",
   "name": "python3"
  },
  "language_info": {
   "codemirror_mode": {
    "name": "ipython",
    "version": 3
   },
   "file_extension": ".py",
   "mimetype": "text/x-python",
   "name": "python",
   "nbconvert_exporter": "python",
   "pygments_lexer": "ipython3",
   "version": "3.10.8"
  }
 },
 "nbformat": 4,
 "nbformat_minor": 5
}
