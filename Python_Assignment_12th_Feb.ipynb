{
 "cells": [
  {
   "cell_type": "code",
   "execution_count": 1,
   "id": "01662d76-7c1d-4fea-8978-e16581b35bff",
   "metadata": {},
   "outputs": [
    {
     "data": {
      "text/plain": [
       "'\\nAn exception is an error that occurs during the execution of a program. On encountering an error Python generates an exception so as the \\nerror can be handled and the crashing of the program be prevented.\\nAn error in a program prevents the program from completing its task. While an exception interrupts the normal flow of the program.\\n'"
      ]
     },
     "execution_count": 1,
     "metadata": {},
     "output_type": "execute_result"
    }
   ],
   "source": [
    "#Q1. What is an Exception in python? Write the difference between Exceptions and syntex errors\n",
    "'''\n",
    "An exception is an error that occurs during the execution of a program. On encountering an error Python generates an exception so as the \n",
    "error can be handled and the crashing of the program be prevented.\n",
    "An error in a program prevents the program from completing its task. While an exception interrupts the normal flow of the program.\n",
    "'''"
   ]
  },
  {
   "cell_type": "code",
   "execution_count": 2,
   "id": "7b733953-8845-4b40-8c92-9eedfb3db6df",
   "metadata": {},
   "outputs": [
    {
     "name": "stdin",
     "output_type": "stream",
     "text": [
      "Enter an integer:  4\n",
      "Enter another integer:  0\n"
     ]
    },
    {
     "name": "stdout",
     "output_type": "stream",
     "text": [
      "I will execute in any condition!!\n"
     ]
    },
    {
     "ename": "ZeroDivisionError",
     "evalue": "division by zero",
     "output_type": "error",
     "traceback": [
      "\u001b[0;31m---------------------------------------------------------------------------\u001b[0m",
      "\u001b[0;31mZeroDivisionError\u001b[0m                         Traceback (most recent call last)",
      "Cell \u001b[0;32mIn [2], line 7\u001b[0m\n\u001b[1;32m      5\u001b[0m y \u001b[38;5;241m=\u001b[39m \u001b[38;5;28mint\u001b[39m(\u001b[38;5;28minput\u001b[39m(\u001b[38;5;124m\"\u001b[39m\u001b[38;5;124mEnter another integer: \u001b[39m\u001b[38;5;124m\"\u001b[39m))\n\u001b[1;32m      6\u001b[0m \u001b[38;5;28;01mtry\u001b[39;00m:\n\u001b[0;32m----> 7\u001b[0m     z \u001b[38;5;241m=\u001b[39m \u001b[43mx\u001b[49m\u001b[38;5;241;43m/\u001b[39;49m\u001b[43my\u001b[49m\n\u001b[1;32m      8\u001b[0m     \u001b[38;5;28mprint\u001b[39m(z)\n\u001b[1;32m      9\u001b[0m \u001b[38;5;28;01mfinally\u001b[39;00m:\n",
      "\u001b[0;31mZeroDivisionError\u001b[0m: division by zero"
     ]
    }
   ],
   "source": [
    "#Q2. What happens when an exception is not handled? Explain with an example.\n",
    "#If the exception is not handled by an except clause, the exception is re-raised after the finally clause has been executed.\n",
    "#For eg:\n",
    "x = int(input(\"Enter an integer: \"))\n",
    "y = int(input(\"Enter another integer: \"))\n",
    "try:\n",
    "    z = x/y\n",
    "    print(z)\n",
    "finally:\n",
    "    print(\"I will execute in any condition!!\")"
   ]
  },
  {
   "cell_type": "code",
   "execution_count": 4,
   "id": "e5c5773f-d6cb-4675-a497-6307ea10adae",
   "metadata": {},
   "outputs": [
    {
     "name": "stdin",
     "output_type": "stream",
     "text": [
      "Enter an integer:  4\n",
      "Enter another integer:  0\n"
     ]
    },
    {
     "name": "stdout",
     "output_type": "stream",
     "text": [
      "There occurred an error,  division by zero\n"
     ]
    }
   ],
   "source": [
    "#Q3. Which Python statements are used to catch and handle exceptions? Explain with an example.\n",
    "#The try and except block in Python is used to catch and handle exceptions. Python executes code following the try statement as a \n",
    "#part of the program and the except block is used to handle the exception. For eg:\n",
    "x = int(input(\"Enter an integer: \"))\n",
    "y = int(input(\"Enter another integer: \"))\n",
    "try:\n",
    "    z = x/y\n",
    "    print(z)\n",
    "except Exception as e:\n",
    "    print(\"There occurred an error, \",e)\n",
    "#Code execution is performed by the try block while an exception if occurs is handled by the except clause."
   ]
  },
  {
   "cell_type": "code",
   "execution_count": 5,
   "id": "dd1aff06-5437-441c-bac8-2b4a985b8a4f",
   "metadata": {},
   "outputs": [
    {
     "name": "stdin",
     "output_type": "stream",
     "text": [
      "Enter an integer:  4\n",
      "Enter another integer:  0\n"
     ]
    },
    {
     "name": "stdout",
     "output_type": "stream",
     "text": [
      "There occurred an error,  division by zero\n"
     ]
    }
   ],
   "source": [
    "#Q4. Explain with an example:\n",
    "#a.try and else\n",
    "#b.finally\n",
    "#c.raise\n",
    "\n",
    "#a.try block is used to perform the part of code which may throw an exception and else clause executes only when the try block executes\n",
    "#successfully. For eg:\n",
    "x = int(input(\"Enter an integer: \"))\n",
    "y = int(input(\"Enter another integer: \"))\n",
    "try:\n",
    "    z = x/y\n",
    "except Exception as e:\n",
    "    print(\"There occurred an error, \",e)\n",
    "else:\n",
    "    print(z)"
   ]
  },
  {
   "cell_type": "code",
   "execution_count": 6,
   "id": "40fb36b0-5df2-4223-bf49-241aa3f91990",
   "metadata": {},
   "outputs": [
    {
     "name": "stdin",
     "output_type": "stream",
     "text": [
      "Enter an integer:  4\n",
      "Enter another integer:  2\n"
     ]
    },
    {
     "name": "stdout",
     "output_type": "stream",
     "text": [
      "2.0\n"
     ]
    }
   ],
   "source": [
    "x = int(input(\"Enter an integer: \"))\n",
    "y = int(input(\"Enter another integer: \"))\n",
    "try:\n",
    "    z = x/y\n",
    "except Exception as e:\n",
    "    print(\"There occurred an error, \",e)\n",
    "else:\n",
    "    print(z)"
   ]
  },
  {
   "cell_type": "code",
   "execution_count": 8,
   "id": "2c358e62-737e-4cc0-9fd8-930b1c2f608f",
   "metadata": {},
   "outputs": [
    {
     "name": "stdin",
     "output_type": "stream",
     "text": [
      "Enter an integer:  4\n",
      "Enter another integer:  0\n"
     ]
    },
    {
     "name": "stdout",
     "output_type": "stream",
     "text": [
      "There occurred an error,  division by zero\n",
      "I will execute in any situation\n"
     ]
    }
   ],
   "source": [
    "#b. The finally clause executes irrespective of the outcome i.e whether there is an exception or not.\n",
    "x = int(input(\"Enter an integer: \"))\n",
    "y = int(input(\"Enter another integer: \"))\n",
    "try:\n",
    "    z = x/y\n",
    "except Exception as e:\n",
    "    print(\"There occurred an error, \",e)\n",
    "else:\n",
    "    print(z)\n",
    "finally:\n",
    "    print(\"I will execute in any situation\")"
   ]
  },
  {
   "cell_type": "code",
   "execution_count": 9,
   "id": "73a27042-691b-4249-b42d-e386ab387393",
   "metadata": {},
   "outputs": [
    {
     "name": "stdin",
     "output_type": "stream",
     "text": [
      "Enter an integer:  4\n",
      "Enter another integer:  2\n"
     ]
    },
    {
     "name": "stdout",
     "output_type": "stream",
     "text": [
      "2.0\n",
      "I will execute in any situation\n"
     ]
    }
   ],
   "source": [
    "x = int(input(\"Enter an integer: \"))\n",
    "y = int(input(\"Enter another integer: \"))\n",
    "try:\n",
    "    z = x/y\n",
    "except Exception as e:\n",
    "    print(\"There occurred an error, \",e)\n",
    "else:\n",
    "    print(z)\n",
    "finally:\n",
    "    print(\"I will execute in any situation\")"
   ]
  },
  {
   "cell_type": "code",
   "execution_count": 10,
   "id": "ab9f0f4c-c920-4a4f-83e5-fd6dbeda3cb4",
   "metadata": {},
   "outputs": [
    {
     "ename": "Exception",
     "evalue": "Number cannot be negative",
     "output_type": "error",
     "traceback": [
      "\u001b[0;31m---------------------------------------------------------------------------\u001b[0m",
      "\u001b[0;31mException\u001b[0m                                 Traceback (most recent call last)",
      "Cell \u001b[0;32mIn [10], line 6\u001b[0m\n\u001b[1;32m      3\u001b[0m x \u001b[38;5;241m=\u001b[39m \u001b[38;5;241m-\u001b[39m\u001b[38;5;241m1\u001b[39m\n\u001b[1;32m      5\u001b[0m \u001b[38;5;28;01mif\u001b[39;00m x\u001b[38;5;241m<\u001b[39m\u001b[38;5;241m0\u001b[39m:\n\u001b[0;32m----> 6\u001b[0m     \u001b[38;5;28;01mraise\u001b[39;00m \u001b[38;5;167;01mException\u001b[39;00m(\u001b[38;5;124m\"\u001b[39m\u001b[38;5;124mNumber cannot be negative\u001b[39m\u001b[38;5;124m\"\u001b[39m)\n",
      "\u001b[0;31mException\u001b[0m: Number cannot be negative"
     ]
    }
   ],
   "source": [
    "#c.The raise keyword is used to raise an exception.\n",
    "\n",
    "x = -1\n",
    "\n",
    "if x<0:\n",
    "    raise Exception(\"Number cannot be negative\")"
   ]
  },
  {
   "cell_type": "code",
   "execution_count": 11,
   "id": "b6e089b7-2199-442d-9b34-19a8d9fb25e3",
   "metadata": {},
   "outputs": [],
   "source": [
    "#Q5. What are Custom Exceptions in python? Why do we need Custom Exceptions? Explain with an example\n",
    "#Custom exceptions are user defined exceptions. Custom exceptions can defined by creating a new class that is derived from the \n",
    "#built-in Exception class. Custom exceptions are used for catching and providing specific exceptions in order to modify exception handling\n",
    "#in the programs.\n",
    "class voting_age(Exception):\n",
    "    def __init__(self,msg):\n",
    "        self.msg = msg"
   ]
  },
  {
   "cell_type": "code",
   "execution_count": 12,
   "id": "ba783007-1e27-43a2-aac1-77096ece58aa",
   "metadata": {},
   "outputs": [],
   "source": [
    "def vote(age):\n",
    "    if age<0:\n",
    "        raise voting_age(\"Age cannot be negative\")\n",
    "    elif age<18:\n",
    "        raise voting_age(\"Not eligible for voting\")\n",
    "    elif age>120:\n",
    "        raise voting_age(\"Age too high\")\n",
    "    else:\n",
    "        print(\"Eligible for voting!\")"
   ]
  },
  {
   "cell_type": "code",
   "execution_count": 13,
   "id": "2c7b5be4-25e4-4c5d-9e5d-79cae374d445",
   "metadata": {},
   "outputs": [
    {
     "name": "stdin",
     "output_type": "stream",
     "text": [
      "Enter your age:  5\n"
     ]
    },
    {
     "ename": "voting_age",
     "evalue": "Not eligible for voting",
     "output_type": "error",
     "traceback": [
      "\u001b[0;31m---------------------------------------------------------------------------\u001b[0m",
      "\u001b[0;31mvoting_age\u001b[0m                                Traceback (most recent call last)",
      "Cell \u001b[0;32mIn [13], line 2\u001b[0m\n\u001b[1;32m      1\u001b[0m age \u001b[38;5;241m=\u001b[39m \u001b[38;5;28mint\u001b[39m(\u001b[38;5;28minput\u001b[39m(\u001b[38;5;124m\"\u001b[39m\u001b[38;5;124mEnter your age: \u001b[39m\u001b[38;5;124m\"\u001b[39m))\n\u001b[0;32m----> 2\u001b[0m \u001b[43mvote\u001b[49m\u001b[43m(\u001b[49m\u001b[43mage\u001b[49m\u001b[43m)\u001b[49m\n",
      "Cell \u001b[0;32mIn [12], line 5\u001b[0m, in \u001b[0;36mvote\u001b[0;34m(age)\u001b[0m\n\u001b[1;32m      3\u001b[0m     \u001b[38;5;28;01mraise\u001b[39;00m voting_age(\u001b[38;5;124m\"\u001b[39m\u001b[38;5;124mAge cannot be negative\u001b[39m\u001b[38;5;124m\"\u001b[39m)\n\u001b[1;32m      4\u001b[0m \u001b[38;5;28;01melif\u001b[39;00m age\u001b[38;5;241m<\u001b[39m\u001b[38;5;241m18\u001b[39m:\n\u001b[0;32m----> 5\u001b[0m     \u001b[38;5;28;01mraise\u001b[39;00m voting_age(\u001b[38;5;124m\"\u001b[39m\u001b[38;5;124mNot eligible for voting\u001b[39m\u001b[38;5;124m\"\u001b[39m)\n\u001b[1;32m      6\u001b[0m \u001b[38;5;28;01melif\u001b[39;00m age\u001b[38;5;241m>\u001b[39m\u001b[38;5;241m120\u001b[39m:\n\u001b[1;32m      7\u001b[0m     \u001b[38;5;28;01mraise\u001b[39;00m voting_age(\u001b[38;5;124m\"\u001b[39m\u001b[38;5;124mAge too high\u001b[39m\u001b[38;5;124m\"\u001b[39m)\n",
      "\u001b[0;31mvoting_age\u001b[0m: Not eligible for voting"
     ]
    }
   ],
   "source": [
    "age = int(input(\"Enter your age: \"))\n",
    "vote(age)"
   ]
  },
  {
   "cell_type": "code",
   "execution_count": 14,
   "id": "0e8b301f-79d4-4fec-adda-65f23b60a6e3",
   "metadata": {},
   "outputs": [],
   "source": [
    "#Q6. Create a custom exception class. Use this class to handle an exception.\n",
    "class division(Exception):\n",
    "    def __init__(self,msg):\n",
    "        self.msg = msg\n",
    "    "
   ]
  },
  {
   "cell_type": "code",
   "execution_count": 15,
   "id": "62ce1913-84ec-40a1-b987-8e7228c9e381",
   "metadata": {},
   "outputs": [],
   "source": [
    "def div(a,b):\n",
    "    if b==0:\n",
    "        raise Exception(\"Division by zero is not possible\")\n",
    "    else:\n",
    "        print(a/b)"
   ]
  },
  {
   "cell_type": "code",
   "execution_count": 16,
   "id": "1c835a85-dafb-4e1b-a7f6-96ad2d406b28",
   "metadata": {},
   "outputs": [
    {
     "name": "stdin",
     "output_type": "stream",
     "text": [
      "Enter a number:  4\n",
      "Enter another number:  0\n"
     ]
    },
    {
     "ename": "Exception",
     "evalue": "Division by zero is not possible",
     "output_type": "error",
     "traceback": [
      "\u001b[0;31m---------------------------------------------------------------------------\u001b[0m",
      "\u001b[0;31mException\u001b[0m                                 Traceback (most recent call last)",
      "Cell \u001b[0;32mIn [16], line 3\u001b[0m\n\u001b[1;32m      1\u001b[0m a \u001b[38;5;241m=\u001b[39m \u001b[38;5;28mint\u001b[39m(\u001b[38;5;28minput\u001b[39m(\u001b[38;5;124m\"\u001b[39m\u001b[38;5;124mEnter a number: \u001b[39m\u001b[38;5;124m\"\u001b[39m))\n\u001b[1;32m      2\u001b[0m b \u001b[38;5;241m=\u001b[39m \u001b[38;5;28mint\u001b[39m(\u001b[38;5;28minput\u001b[39m(\u001b[38;5;124m\"\u001b[39m\u001b[38;5;124mEnter another number: \u001b[39m\u001b[38;5;124m\"\u001b[39m))\n\u001b[0;32m----> 3\u001b[0m \u001b[43mdiv\u001b[49m\u001b[43m(\u001b[49m\u001b[43ma\u001b[49m\u001b[43m,\u001b[49m\u001b[43mb\u001b[49m\u001b[43m)\u001b[49m\n",
      "Cell \u001b[0;32mIn [15], line 3\u001b[0m, in \u001b[0;36mdiv\u001b[0;34m(a, b)\u001b[0m\n\u001b[1;32m      1\u001b[0m \u001b[38;5;28;01mdef\u001b[39;00m \u001b[38;5;21mdiv\u001b[39m(a,b):\n\u001b[1;32m      2\u001b[0m     \u001b[38;5;28;01mif\u001b[39;00m b\u001b[38;5;241m==\u001b[39m\u001b[38;5;241m0\u001b[39m:\n\u001b[0;32m----> 3\u001b[0m         \u001b[38;5;28;01mraise\u001b[39;00m \u001b[38;5;167;01mException\u001b[39;00m(\u001b[38;5;124m\"\u001b[39m\u001b[38;5;124mDivision by zero is not possible\u001b[39m\u001b[38;5;124m\"\u001b[39m)\n\u001b[1;32m      4\u001b[0m     \u001b[38;5;28;01melse\u001b[39;00m:\n\u001b[1;32m      5\u001b[0m         \u001b[38;5;28mprint\u001b[39m(a\u001b[38;5;241m/\u001b[39mb)\n",
      "\u001b[0;31mException\u001b[0m: Division by zero is not possible"
     ]
    }
   ],
   "source": [
    "a = int(input(\"Enter a number: \"))\n",
    "b = int(input(\"Enter another number: \"))\n",
    "div(a,b)"
   ]
  },
  {
   "cell_type": "code",
   "execution_count": 17,
   "id": "b0ff656f-6469-4387-894e-53d83c81c086",
   "metadata": {},
   "outputs": [
    {
     "name": "stdin",
     "output_type": "stream",
     "text": [
      "Enter a number:  4\n",
      "Enter another number:  2\n"
     ]
    },
    {
     "name": "stdout",
     "output_type": "stream",
     "text": [
      "2.0\n"
     ]
    }
   ],
   "source": [
    "a = int(input(\"Enter a number: \"))\n",
    "b = int(input(\"Enter another number: \"))\n",
    "div(a,b)"
   ]
  },
  {
   "cell_type": "code",
   "execution_count": null,
   "id": "84cedf93-4c07-4de0-9864-e78c6e5e76e2",
   "metadata": {},
   "outputs": [],
   "source": []
  }
 ],
 "metadata": {
  "kernelspec": {
   "display_name": "Python 3 (ipykernel)",
   "language": "python",
   "name": "python3"
  },
  "language_info": {
   "codemirror_mode": {
    "name": "ipython",
    "version": 3
   },
   "file_extension": ".py",
   "mimetype": "text/x-python",
   "name": "python",
   "nbconvert_exporter": "python",
   "pygments_lexer": "ipython3",
   "version": "3.10.6"
  }
 },
 "nbformat": 4,
 "nbformat_minor": 5
}
