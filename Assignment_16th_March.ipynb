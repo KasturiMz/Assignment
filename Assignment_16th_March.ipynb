{
 "cells": [
  {
   "cell_type": "code",
   "execution_count": 2,
   "id": "f4e8d3a0",
   "metadata": {},
   "outputs": [
    {
     "data": {
      "text/plain": [
       "'Q1: Define overfitting and underfitting in machine learning. What are the consequences of each, and how\\ncan they be mitigated?\\n--> An underfit model results in high prediction errors for both training and test data. An overfit model gives a very low prediction error on training data, but a very high prediction error on test data. Both types of models result in poor accuracy.\\nTo prevent overfitting, we need to have enough data that represents the diversity and complexity of the problem we are trying to solve. To prevent underfitting, we need to have relevant data that captures the features and patterns that are important \\nfor our model to learn.\\n'"
      ]
     },
     "execution_count": 2,
     "metadata": {},
     "output_type": "execute_result"
    }
   ],
   "source": [
    "'''Q1: Define overfitting and underfitting in machine learning. What are the consequences of each, and how\n",
    "can they be mitigated?\n",
    "--> An underfit model results in high prediction errors for both training and test data. An overfit model gives a very low prediction error on training data, but a very high prediction error on test data. Both types of models result in poor accuracy.\n",
    "To prevent overfitting, we need to have enough data that represents the diversity and complexity of the problem we are trying to solve. To prevent underfitting, we need to have relevant data that captures the features and patterns that are important \n",
    "for our model to learn.\n",
    "'''"
   ]
  },
  {
   "cell_type": "code",
   "execution_count": 3,
   "id": "a5b3b2ec",
   "metadata": {},
   "outputs": [
    {
     "data": {
      "text/plain": [
       "'Q2: How can we reduce overfitting? Explain in brief.\\n--> To prevent overfitting, we need to have enough data that represents the diversity and complexity of the problem we are trying to solve.\\n'"
      ]
     },
     "execution_count": 3,
     "metadata": {},
     "output_type": "execute_result"
    }
   ],
   "source": [
    "'''Q2: How can we reduce overfitting? Explain in brief.\n",
    "--> To prevent overfitting, we need to have enough data that represents the diversity and complexity of the problem we are trying to solve.\n",
    "'''"
   ]
  },
  {
   "cell_type": "code",
   "execution_count": 4,
   "id": "597e4034",
   "metadata": {},
   "outputs": [
    {
     "data": {
      "text/plain": [
       "'Q3: Explain underfitting. List scenarios where underfitting can occur in ML.\\n--> An overfit model gives a very low prediction error on training data, but a very high prediction error on test data.\\nUnderfitting can occur when:\\nThe model is too simple, So it may not be capable to represent the complexities in the data.\\nThe input features which are used to train the model are not the adequate representations of underlying factors influencing the target variable.\\nThe size of the training dataset used is not enough.\\n'"
      ]
     },
     "execution_count": 4,
     "metadata": {},
     "output_type": "execute_result"
    }
   ],
   "source": [
    "'''Q3: Explain underfitting. List scenarios where underfitting can occur in ML.\n",
    "--> An overfit model gives a very low prediction error on training data, but a very high prediction error on test data.\n",
    "Underfitting can occur when:\n",
    "The model is too simple, So it may not be capable to represent the complexities in the data.\n",
    "The input features which are used to train the model are not the adequate representations of underlying factors influencing the target variable.\n",
    "The size of the training dataset used is not enough.\n",
    "'''"
   ]
  },
  {
   "cell_type": "code",
   "execution_count": 5,
   "id": "5487df98",
   "metadata": {},
   "outputs": [
    {
     "data": {
      "text/plain": [
       "'Q4: Explain the bias-variance tradeoff in machine learning. What is the relationship between bias and\\nvariance, and how do they affect model performance?\\n--> Striking a balance between accuracy and the ability to make predictions beyond the training data in an ML model is called the bias-variance tradeoff.\\nBias and variance are inversely connected. It is impossible to have an ML model with a low bias and a low variance.\\n'"
      ]
     },
     "execution_count": 5,
     "metadata": {},
     "output_type": "execute_result"
    }
   ],
   "source": [
    "'''Q4: Explain the bias-variance tradeoff in machine learning. What is the relationship between bias and\n",
    "variance, and how do they affect model performance?\n",
    "--> Striking a balance between accuracy and the ability to make predictions beyond the training data in an ML model is called the bias-variance tradeoff.\n",
    "Bias and variance are inversely connected. It is impossible to have an ML model with a low bias and a low variance.\n",
    "'''"
   ]
  },
  {
   "cell_type": "code",
   "execution_count": 6,
   "id": "ea426cfe",
   "metadata": {},
   "outputs": [
    {
     "data": {
      "text/plain": [
       "'Q5: Discuss some common methods for detecting overfitting and underfitting in machine learning models.\\nHow can you determine whether your model is overfitting or underfitting?\\n--> We can determine whether a predictive model is underfitting or overfitting the training data by looking at the prediction error on the training data and the evaluation data.\\nWe can also detect underfitting and overfitting by visualizing the training data, test data and the predicted data. \\n'"
      ]
     },
     "execution_count": 6,
     "metadata": {},
     "output_type": "execute_result"
    }
   ],
   "source": [
    "'''Q5: Discuss some common methods for detecting overfitting and underfitting in machine learning models.\n",
    "How can you determine whether your model is overfitting or underfitting?\n",
    "--> We can determine whether a predictive model is underfitting or overfitting the training data by looking at the prediction error on the training data and the evaluation data.\n",
    "We can also detect underfitting and overfitting by visualizing the training data, test data and the predicted data. \n",
    "'''"
   ]
  },
  {
   "cell_type": "code",
   "execution_count": 7,
   "id": "3d841797",
   "metadata": {},
   "outputs": [
    {
     "data": {
      "text/plain": [
       "'Q6: Compare and contrast bias and variance in machine learning. What are some examples of high bias\\nand high variance models, and how do they differ in terms of their performance?\\nBias is one type of error that occurs due to wrong assumptions about data such as assuming data is linear when in reality, data follows a complex function. \\nOn the other hand, variance gets introduced with high sensitivity to variations in training data.\\nAlgorithms with high bias are Linear Regression, Linear Discriminant Analysis and Logistic Regression.\\nAlgorithms with high variance are Decision Trees, k-Nearest Neighbours and Support Vector Machines.\\n'"
      ]
     },
     "execution_count": 7,
     "metadata": {},
     "output_type": "execute_result"
    }
   ],
   "source": [
    "'''Q6: Compare and contrast bias and variance in machine learning. What are some examples of high bias\n",
    "and high variance models, and how do they differ in terms of their performance?\n",
    "Bias is one type of error that occurs due to wrong assumptions about data such as assuming data is linear when in reality, data follows a complex function. \n",
    "On the other hand, variance gets introduced with high sensitivity to variations in training data.\n",
    "Algorithms with high bias are Linear Regression, Linear Discriminant Analysis and Logistic Regression.\n",
    "Algorithms with high variance are Decision Trees, k-Nearest Neighbours and Support Vector Machines.\n",
    "'''"
   ]
  },
  {
   "cell_type": "code",
   "execution_count": 8,
   "id": "5d8b4abd",
   "metadata": {},
   "outputs": [
    {
     "data": {
      "text/plain": [
       "\"Q7: What is regularization in machine learning, and how can it be used to prevent overfitting? Describe\\nsome common regularization techniques and how they work.\\n--> Regularization is a technique used to reduce errors by fitting the function appropriately on the given training set and avoiding overfitting.\\nL2 and L1 are the most common types of regularization. Regularization works on the premise that smaller weights lead to simpler models which in \\nresults helps in avoiding overfitting. So to obtain a smaller weight matrix, these techniques add a 'regularization term' along with the loss to \\nobtain the cost function.\\n\""
      ]
     },
     "execution_count": 8,
     "metadata": {},
     "output_type": "execute_result"
    }
   ],
   "source": [
    "'''Q7: What is regularization in machine learning, and how can it be used to prevent overfitting? Describe\n",
    "some common regularization techniques and how they work.\n",
    "--> Regularization is a technique used to reduce errors by fitting the function appropriately on the given training set and avoiding overfitting.\n",
    "L2 and L1 are the most common types of regularization. Regularization works on the premise that smaller weights lead to simpler models which in \n",
    "results helps in avoiding overfitting. So to obtain a smaller weight matrix, these techniques add a 'regularization term' along with the loss to \n",
    "obtain the cost function.\n",
    "'''"
   ]
  },
  {
   "cell_type": "code",
   "execution_count": null,
   "id": "4ea7f603",
   "metadata": {},
   "outputs": [],
   "source": []
  }
 ],
 "metadata": {
  "kernelspec": {
   "display_name": "Python 3",
   "language": "python",
   "name": "python3"
  },
  "language_info": {
   "codemirror_mode": {
    "name": "ipython",
    "version": 3
   },
   "file_extension": ".py",
   "mimetype": "text/x-python",
   "name": "python",
   "nbconvert_exporter": "python",
   "pygments_lexer": "ipython3",
   "version": "3.8.8"
  }
 },
 "nbformat": 4,
 "nbformat_minor": 5
}
