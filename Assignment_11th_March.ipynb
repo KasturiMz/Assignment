{
 "cells": [
  {
   "cell_type": "code",
   "execution_count": 1,
   "id": "f09833f0-a8a7-4035-ab13-9f74097702f9",
   "metadata": {},
   "outputs": [
    {
     "data": {
      "text/plain": [
       "'Q1: What is the difference between a t-test and a z-test? Provide an example scenario where you would\\nuse each type of test.\\n-A z-test is used to test a Null Hypothesis if the population variance is known, or if the sample size is larger than 30, for an unknown population variance. \\nA t-test is used when the sample size is less than 30 and the population variance is unknown.\\nFor eg: \\nz-test: Suppose we randomly sampled subjects from an honors program. We want to determine whether their mean IQ score differs from the general population. \\nThe general population’s IQ scores are defined as having a mean of 100 and a standard deviation of 15.\\n\\nt-test: If one wishes to figure out if the mean of the length of petals of a flower belonging to two different species is the same.\\n'"
      ]
     },
     "execution_count": 1,
     "metadata": {},
     "output_type": "execute_result"
    }
   ],
   "source": [
    "'''Q1: What is the difference between a t-test and a z-test? Provide an example scenario where you would\n",
    "use each type of test.\n",
    "-A z-test is used to test a Null Hypothesis if the population variance is known, or if the sample size is larger than 30, for an unknown population variance. \n",
    "A t-test is used when the sample size is less than 30 and the population variance is unknown.\n",
    "For eg: \n",
    "z-test: Suppose we randomly sampled subjects from an honors program. We want to determine whether their mean IQ score differs from the general population. \n",
    "The general population’s IQ scores are defined as having a mean of 100 and a standard deviation of 15.\n",
    "\n",
    "t-test: If one wishes to figure out if the mean of the length of petals of a flower belonging to two different species is the same.\n",
    "'''"
   ]
  },
  {
   "cell_type": "code",
   "execution_count": 2,
   "id": "783525a0-3f1a-4e51-9a6b-a9b1766a71e2",
   "metadata": {},
   "outputs": [
    {
     "data": {
      "text/plain": [
       "'Q2: Differentiate between one-tailed and two-tailed tests.\\n-The main difference between one-tailed and two-tailed tests is that one-tailed tests will only have one critical region whereas two-tailed tests will have two critical regions.\\n'"
      ]
     },
     "execution_count": 2,
     "metadata": {},
     "output_type": "execute_result"
    }
   ],
   "source": [
    "'''Q2: Differentiate between one-tailed and two-tailed tests.\n",
    "-The main difference between one-tailed and two-tailed tests is that one-tailed tests will only have one critical region whereas two-tailed tests will have two critical regions.\n",
    "'''"
   ]
  },
  {
   "cell_type": "code",
   "execution_count": 3,
   "id": "971103ae-e5b7-42bb-8aff-178fab4394bd",
   "metadata": {},
   "outputs": [
    {
     "data": {
      "text/plain": [
       "'Q3: Explain the concept of Type 1 and Type 2 errors in hypothesis testing. Provide an example scenario for\\neach type of error.\\n-Type 1 error: We reject the Null Hypothesis when in reality it is True.\\nFor eg: convicting someone of a crime when they are actually innocent.\\n\\n-Type 2 error: We retain the Null Hypothesis when in reality it is False.\\nFor eg: a test for a disease may report a negative result when the patient is infected.\\n'"
      ]
     },
     "execution_count": 3,
     "metadata": {},
     "output_type": "execute_result"
    }
   ],
   "source": [
    "'''Q3: Explain the concept of Type 1 and Type 2 errors in hypothesis testing. Provide an example scenario for\n",
    "each type of error.\n",
    "-Type 1 error: We reject the Null Hypothesis when in reality it is True.\n",
    "For eg: convicting someone of a crime when they are actually innocent.\n",
    "\n",
    "-Type 2 error: We retain the Null Hypothesis when in reality it is False.\n",
    "For eg: a test for a disease may report a negative result when the patient is infected.\n",
    "'''"
   ]
  },
  {
   "cell_type": "code",
   "execution_count": 4,
   "id": "92af93c5-28d1-434d-8215-de74d2474779",
   "metadata": {},
   "outputs": [
    {
     "data": {
      "text/plain": [
       "\"Q4:  Explain Bayes's theorem with an example.\\n- The Bayes theorem is a mathematical formula for calculating conditional probability in probability and statistics.\\nP(B/A) = (P(B)*P(A/B))/P(A).\\nFor eg: Three urns contain 6 red, 4 black; 4 red, 6 black, and 5 red, 5 black balls respectively. One of the urns is selected \\nat random and a ball is drawn from it. If the ball drawn is red, find the probability that it is drawn from the first urn.\\n-E1 = urn first is chosen \\n\\nE2 = urn second is chosen\\n\\nE3 = urn third is chosen \\n\\nA = ball drawn is red\\n  P(A/E1) = 6/10\\n  P(A/E2) = 4/10 \\n  P(A/E3) = 5/10\\n  \\nP(E1/A) = P(E1) P(A/E1)/(P(E1) P(A/E1) + P(E2) P(A/E2) + P(E3) P(A/E3))\\n        = (6/10)/(15/10)\\n        = 2/5\\n\""
      ]
     },
     "execution_count": 4,
     "metadata": {},
     "output_type": "execute_result"
    }
   ],
   "source": [
    "'''Q4:  Explain Bayes's theorem with an example.\n",
    "- The Bayes theorem is a mathematical formula for calculating conditional probability in probability and statistics.\n",
    "P(B/A) = (P(B)*P(A/B))/P(A).\n",
    "For eg: Three urns contain 6 red, 4 black; 4 red, 6 black, and 5 red, 5 black balls respectively. One of the urns is selected \n",
    "at random and a ball is drawn from it. If the ball drawn is red, find the probability that it is drawn from the first urn.\n",
    "-E1 = urn first is chosen \n",
    "\n",
    "E2 = urn second is chosen\n",
    "\n",
    "E3 = urn third is chosen \n",
    "\n",
    "A = ball drawn is red\n",
    "  P(A/E1) = 6/10\n",
    "  P(A/E2) = 4/10 \n",
    "  P(A/E3) = 5/10\n",
    "  \n",
    "P(E1/A) = P(E1) P(A/E1)/(P(E1) P(A/E1) + P(E2) P(A/E2) + P(E3) P(A/E3))\n",
    "        = (6/10)/(15/10)\n",
    "        = 2/5\n",
    "'''"
   ]
  },
  {
   "cell_type": "code",
   "execution_count": 5,
   "id": "1c236149-d9a1-4fa8-9c18-67c3dcb1b293",
   "metadata": {},
   "outputs": [
    {
     "data": {
      "text/plain": [
       "'Q5: What is a confidence interval? How to calculate the confidence interval, explain with an example.\\n-A confidence interval is constructed to help estimate what the actual value of the unknown population mean is.\\nFor eg: On the verbal section of CAT exam, the standard deviation is known to be 100. A sample of 25 tests takers has a mean of 520.\\nConstruct a 95% confidence interval about the mean.\\n\\n- sample_mean = 520, pop_variance=100, \\nn=25(sample size), alpha=0.05\\nconfidence interval =[520-z_alpha/2*100/sqrt(n),520+z_alpha/2*100/sqrt(n)]\\n                    =[480.8,559.2]\\n'"
      ]
     },
     "execution_count": 5,
     "metadata": {},
     "output_type": "execute_result"
    }
   ],
   "source": [
    "'''Q5: What is a confidence interval? How to calculate the confidence interval, explain with an example.\n",
    "-A confidence interval is constructed to help estimate what the actual value of the unknown population mean is.\n",
    "For eg: On the verbal section of CAT exam, the standard deviation is known to be 100. A sample of 25 tests takers has a mean of 520.\n",
    "Construct a 95% confidence interval about the mean.\n",
    "\n",
    "- sample_mean = 520, pop_variance=100, \n",
    "n=25(sample size), alpha=0.05\n",
    "confidence interval =[520-z_alpha/2*100/sqrt(n),520+z_alpha/2*100/sqrt(n)]\n",
    "                    =[480.8,559.2]\n",
    "'''"
   ]
  },
  {
   "cell_type": "code",
   "execution_count": 6,
   "id": "96f3ff68-00fd-4f7a-922c-dd10e31c2760",
   "metadata": {},
   "outputs": [
    {
     "data": {
      "text/plain": [
       "\"Q6. Use Bayes' Theorem to calculate the probability of an event occurring given prior knowledge of the\\nevent's probability and new evidence. Provide a sample problem and solution.\\n\\n-P(y/x1 x2 x3) = P(y)*P(x1 x2 x3/y)/P(x1 x2 x3)\\n               = P(y)*P(x1/y)*P(x2/y)*P(x3/y)/(P(x1)*P(x2)*P(x3))\\n\""
      ]
     },
     "execution_count": 6,
     "metadata": {},
     "output_type": "execute_result"
    }
   ],
   "source": [
    "'''Q6. Use Bayes' Theorem to calculate the probability of an event occurring given prior knowledge of the\n",
    "event's probability and new evidence. Provide a sample problem and solution.\n",
    "\n",
    "-P(y/x1 x2 x3) = P(y)*P(x1 x2 x3/y)/P(x1 x2 x3)\n",
    "               = P(y)*P(x1/y)*P(x2/y)*P(x3/y)/(P(x1)*P(x2)*P(x3))\n",
    "'''"
   ]
  },
  {
   "cell_type": "code",
   "execution_count": 7,
   "id": "da7fc039-d1cd-41b4-934f-d4574bf4a882",
   "metadata": {},
   "outputs": [
    {
     "data": {
      "text/plain": [
       "'Q7. Calculate the 95% confidence interval for a sample of data with a mean of 50 and a standard deviation\\nof 5. Interpret the results.\\n- Let n=25\\n[50-1.96*5/5,50+1.96*5/5]\\n=[48.04,51.96]\\n'"
      ]
     },
     "execution_count": 7,
     "metadata": {},
     "output_type": "execute_result"
    }
   ],
   "source": [
    "'''Q7. Calculate the 95% confidence interval for a sample of data with a mean of 50 and a standard deviation\n",
    "of 5. Interpret the results.\n",
    "- Let n=25\n",
    "[50-1.96*5/5,50+1.96*5/5]\n",
    "=[48.04,51.96]\n",
    "'''"
   ]
  },
  {
   "cell_type": "code",
   "execution_count": 8,
   "id": "1e99daf3-3b33-49e6-847c-ccd06796b900",
   "metadata": {},
   "outputs": [
    {
     "data": {
      "text/plain": [
       "'Q8. What is the margin of error in a confidence interval? How does sample size affect the margin of error?\\n- The margin of error tells us how much we can expect our survey results to reflect the views from the overall population. The larger the sample size the smaller\\nwill be the standard error and therefore the smaller the margin of error. \\n'"
      ]
     },
     "execution_count": 8,
     "metadata": {},
     "output_type": "execute_result"
    }
   ],
   "source": [
    "'''Q8. What is the margin of error in a confidence interval? How does sample size affect the margin of error?\n",
    "- The margin of error tells us how much we can expect our survey results to reflect the views from the overall population. The larger the sample size the smaller\n",
    "will be the standard error and therefore the smaller the margin of error. \n",
    "'''"
   ]
  },
  {
   "cell_type": "code",
   "execution_count": 9,
   "id": "51f45d09-7d8f-4c56-ba34-c9f109917004",
   "metadata": {},
   "outputs": [
    {
     "data": {
      "text/plain": [
       "'Q9. Calculate the z-score for a data point with a value of 75, a population mean of 70, and a population\\nstandard deviation of 5. Interpret the results.\\n-z = 75-70/5\\n   = 1\\n'"
      ]
     },
     "execution_count": 9,
     "metadata": {},
     "output_type": "execute_result"
    }
   ],
   "source": [
    "'''Q9. Calculate the z-score for a data point with a value of 75, a population mean of 70, and a population\n",
    "standard deviation of 5. Interpret the results.\n",
    "-z = 75-70/5\n",
    "   = 1\n",
    "'''"
   ]
  },
  {
   "cell_type": "code",
   "execution_count": 11,
   "id": "c7922931-69f5-4ee1-9177-0195cd68a00a",
   "metadata": {},
   "outputs": [
    {
     "data": {
      "text/plain": [
       "'Q10. In a study of the effectiveness of a new weight loss drug, a sample of 50 participants lost an average\\nof 6 pounds with a standard deviation of 2.5 pounds. Conduct a hypothesis test to determine if the drug is\\nsignificantly effective at a 95% confidence level using a t-test.\\n\\nH0: The drug is effective\\nH1: The drug is not effective\\n\\np = 6/2.5=2.4\\nz = 1.96\\n2.4>1.96\\nWe reject the NULL Hypothesis. The drug is not effective.\\n'"
      ]
     },
     "execution_count": 11,
     "metadata": {},
     "output_type": "execute_result"
    }
   ],
   "source": [
    "'''Q10. In a study of the effectiveness of a new weight loss drug, a sample of 50 participants lost an average\n",
    "of 6 pounds with a standard deviation of 2.5 pounds. Conduct a hypothesis test to determine if the drug is\n",
    "significantly effective at a 95% confidence level using a t-test.\n",
    "\n",
    "H0: The drug is effective\n",
    "H1: The drug is not effective\n",
    "\n",
    "p = 6/2.5=2.4\n",
    "z = 1.96\n",
    "2.4>1.96\n",
    "We reject the NULL Hypothesis. The drug is not effective.\n",
    "'''"
   ]
  },
  {
   "cell_type": "code",
   "execution_count": 12,
   "id": "5673144c-a4a8-4531-8947-e84758e1e163",
   "metadata": {},
   "outputs": [
    {
     "data": {
      "text/plain": [
       "'Q11. In a survey of 500 people, 65% reported being satisfied with their current job. Calculate the 95%\\nconfidence interval for the true proportion of people who are satisfied with their job.\\nTrue margin = 1.96*325/sqrt(500)\\n            = 28.48\\n'"
      ]
     },
     "execution_count": 12,
     "metadata": {},
     "output_type": "execute_result"
    }
   ],
   "source": [
    "'''Q11. In a survey of 500 people, 65% reported being satisfied with their current job. Calculate the 95%\n",
    "confidence interval for the true proportion of people who are satisfied with their job.\n",
    "True margin = 1.96*325/sqrt(500)\n",
    "            = 28.48\n",
    "'''"
   ]
  },
  {
   "cell_type": "code",
   "execution_count": 13,
   "id": "e5cb3194-7264-45b4-8489-56b84d9cd094",
   "metadata": {},
   "outputs": [
    {
     "data": {
      "text/plain": [
       "'Q12. A population has a mean of 60 and a standard deviation of 8. A sample of 50 observations has a mean\\nof 65. Calculate the 90% confidence interval for the true population mean.\\n-[62.78,67.22]\\n'"
      ]
     },
     "execution_count": 13,
     "metadata": {},
     "output_type": "execute_result"
    }
   ],
   "source": [
    "'''Q12. A population has a mean of 60 and a standard deviation of 8. A sample of 50 observations has a mean\n",
    "of 65. Calculate the 90% confidence interval for the true population mean.\n",
    "-[62.78,67.22]\n",
    "'''"
   ]
  },
  {
   "cell_type": "code",
   "execution_count": null,
   "id": "2c5f48e1-4881-449e-a758-6dd2e0934d90",
   "metadata": {},
   "outputs": [],
   "source": []
  }
 ],
 "metadata": {
  "kernelspec": {
   "display_name": "Python 3 (ipykernel)",
   "language": "python",
   "name": "python3"
  },
  "language_info": {
   "codemirror_mode": {
    "name": "ipython",
    "version": 3
   },
   "file_extension": ".py",
   "mimetype": "text/x-python",
   "name": "python",
   "nbconvert_exporter": "python",
   "pygments_lexer": "ipython3",
   "version": "3.10.8"
  }
 },
 "nbformat": 4,
 "nbformat_minor": 5
}
