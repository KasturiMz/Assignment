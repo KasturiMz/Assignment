{
 "cells": [
  {
   "cell_type": "code",
   "execution_count": 1,
   "id": "12afb29c-255e-414b-be7a-813242ac5ab1",
   "metadata": {},
   "outputs": [
    {
     "data": {
      "text/plain": [
       "'Q1: What are the Probability Mass Function (PMF) and Probability Density Function (PDF)? Explain with\\nan example.\\n-Probability density function gives the probability of a continuous random variable. For eg: Height of students in a classroom.\\n-Probability mass function gives the probability of a discrete random variable. For eg: Rolling a dice.\\n'"
      ]
     },
     "execution_count": 1,
     "metadata": {},
     "output_type": "execute_result"
    }
   ],
   "source": [
    "'''Q1: What are the Probability Mass Function (PMF) and Probability Density Function (PDF)? Explain with\n",
    "an example.\n",
    "-Probability density function gives the probability of a continuous random variable. For eg: Height of students in a classroom.\n",
    "-Probability mass function gives the probability of a discrete random variable. For eg: Rolling a dice.\n",
    "'''"
   ]
  },
  {
   "cell_type": "code",
   "execution_count": 2,
   "id": "ada4841c-db92-4caa-bc6b-4d39e7585bac",
   "metadata": {},
   "outputs": [
    {
     "data": {
      "text/plain": [
       "'Q2: What is Cumulative Density Function (CDF)? Explain with an example. Why CDF is used?\\n- The probability density function gives the probability that the random variable X is less than or equal to x. It is used to describe the probability\\ndistribution of random variables.\\nFor eg: When throwing a dice, the probability for each outcome is 1/6.\\nHence, the probability P(X<=3)=1/6+1/6+1/6=1/2.\\n'"
      ]
     },
     "execution_count": 2,
     "metadata": {},
     "output_type": "execute_result"
    }
   ],
   "source": [
    "'''Q2: What is Cumulative Density Function (CDF)? Explain with an example. Why CDF is used?\n",
    "- The probability density function gives the probability that the random variable X is less than or equal to x. It is used to describe the probability\n",
    "distribution of random variables.\n",
    "For eg: When throwing a dice, the probability for each outcome is 1/6.\n",
    "Hence, the probability P(X<=3)=1/6+1/6+1/6=1/2.\n",
    "'''"
   ]
  },
  {
   "cell_type": "code",
   "execution_count": 3,
   "id": "97f321ad-0086-4264-84eb-0f8b58ed1f39",
   "metadata": {},
   "outputs": [
    {
     "data": {
      "text/plain": [
       "'Q3: What are some examples of situations where the normal distribution might be used as a model?\\nExplain how the parameters of the normal distribution relate to the shape of the distribution.\\n\\n-The normal distribution can be used as a model in-\\ncalculating what percentage of students in a classroom has height greater than 160cm,\\ncalculating the stock market price for a stock.\\n\\n-The parameters:\\n-Mean is the maximum of the graph about which the graph is always symmetric\\n-Standard deviation determines the amount of dispersion away from the mean.\\n\\n'"
      ]
     },
     "execution_count": 3,
     "metadata": {},
     "output_type": "execute_result"
    }
   ],
   "source": [
    "'''Q3: What are some examples of situations where the normal distribution might be used as a model?\n",
    "Explain how the parameters of the normal distribution relate to the shape of the distribution.\n",
    "\n",
    "-The normal distribution can be used as a model in-\n",
    "calculating what percentage of students in a classroom has height greater than 160cm,\n",
    "calculating the stock market price for a stock.\n",
    "\n",
    "-The parameters:\n",
    "-Mean is the maximum of the graph about which the graph is always symmetric\n",
    "-Standard deviation determines the amount of dispersion away from the mean.\n",
    "\n",
    "'''"
   ]
  },
  {
   "cell_type": "code",
   "execution_count": 4,
   "id": "c8c1e1fc-d209-4aeb-be8f-9edb6d93a678",
   "metadata": {},
   "outputs": [
    {
     "data": {
      "text/plain": [
       "'Q4: Explain the importance of Normal Distribution. Give a few real-life examples of Normal\\nDistribution.\\n-Many psychological and educational variables are distributed approximately normally hence, normal distribution is important to \\ndetermine results about fields or data related to such variables.\\nFor eg: Reading ability, introversion etc.\\n'"
      ]
     },
     "execution_count": 4,
     "metadata": {},
     "output_type": "execute_result"
    }
   ],
   "source": [
    "'''Q4: Explain the importance of Normal Distribution. Give a few real-life examples of Normal\n",
    "Distribution.\n",
    "-Many psychological and educational variables are distributed approximately normally hence, normal distribution is important to \n",
    "determine results about fields or data related to such variables.\n",
    "For eg: Reading ability, introversion etc.\n",
    "'''"
   ]
  },
  {
   "cell_type": "code",
   "execution_count": 5,
   "id": "4c4b558d-af2b-41c9-8cf6-0e2c73e1a8a7",
   "metadata": {},
   "outputs": [
    {
     "data": {
      "text/plain": [
       "'Q5: What is Bernaulli Distribution? Give an Example. What is the difference between Bernoulli\\nDistribution and Binomial Distribution?\\n-Bernaulli distribution is the discrete probability distribution of a random variable which takes the value 1 with probability p\\nand the value 0 with probability 1-p. For eg: Tossing a coin.\\n-Bernaulli distribution represents the success or failure of a single Bernaulli trial while Binomial distribution represents the \\nnumber of successes and failures in n independent Bernaulli trials for some given value of n.\\n'"
      ]
     },
     "execution_count": 5,
     "metadata": {},
     "output_type": "execute_result"
    }
   ],
   "source": [
    "'''Q5: What is Bernaulli Distribution? Give an Example. What is the difference between Bernoulli\n",
    "Distribution and Binomial Distribution?\n",
    "-Bernaulli distribution is the discrete probability distribution of a random variable which takes the value 1 with probability p\n",
    "and the value 0 with probability 1-p. For eg: Tossing a coin.\n",
    "-Bernaulli distribution represents the success or failure of a single Bernaulli trial while Binomial distribution represents the \n",
    "number of successes and failures in n independent Bernaulli trials for some given value of n.\n",
    "'''"
   ]
  },
  {
   "cell_type": "code",
   "execution_count": 6,
   "id": "5228240f-dcb3-4167-ac60-bb071cb8d246",
   "metadata": {},
   "outputs": [
    {
     "data": {
      "text/plain": [
       "'Q6. Consider a dataset with a mean of 50 and a standard deviation of 10. If we assume that the dataset\\nis normally distributed, what is the probability that a randomly selected observation will be greater\\nthan 60? Use the appropriate formula and show your calculations.\\n-z = (60-50)/10=1\\nP(z>=1)=0.5-0.3413 = 0.1587\\n'"
      ]
     },
     "execution_count": 6,
     "metadata": {},
     "output_type": "execute_result"
    }
   ],
   "source": [
    "'''Q6. Consider a dataset with a mean of 50 and a standard deviation of 10. If we assume that the dataset\n",
    "is normally distributed, what is the probability that a randomly selected observation will be greater\n",
    "than 60? Use the appropriate formula and show your calculations.\n",
    "-z = (60-50)/10=1\n",
    "P(z>=1)=0.5-0.3413 = 0.1587\n",
    "'''"
   ]
  },
  {
   "cell_type": "code",
   "execution_count": 7,
   "id": "ce60f6cd-8ea0-4fc2-84b8-b19c92c1371d",
   "metadata": {},
   "outputs": [
    {
     "data": {
      "text/plain": [
       "'Q7: Explain uniform Distribution with an example.\\n- In continuous distribution the probability of occurrence of all outcomes of the experiment are equally likely.\\nFor eg: An idealized random number generator.\\n'"
      ]
     },
     "execution_count": 7,
     "metadata": {},
     "output_type": "execute_result"
    }
   ],
   "source": [
    "'''Q7: Explain uniform Distribution with an example.\n",
    "- In continuous distribution the probability of occurrence of all outcomes of the experiment are equally likely.\n",
    "For eg: An idealized random number generator.\n",
    "'''"
   ]
  },
  {
   "cell_type": "code",
   "execution_count": 8,
   "id": "e295aa1c-cc0a-4514-b28f-b7fd6b6fff39",
   "metadata": {},
   "outputs": [
    {
     "data": {
      "text/plain": [
       "'Q8: What is the z score? State the importance of the z score.\\n- The z score is a statstical measurement that tells us how far away from the mean our data point lies in a normally\\ndistrinuted sample. It is important because it tells where our data lies in the data distribution.\\n'"
      ]
     },
     "execution_count": 8,
     "metadata": {},
     "output_type": "execute_result"
    }
   ],
   "source": [
    "'''Q8: What is the z score? State the importance of the z score.\n",
    "- The z score is a statstical measurement that tells us how far away from the mean our data point lies in a normally\n",
    "distrinuted sample. It is important because it tells where our data lies in the data distribution.\n",
    "'''"
   ]
  },
  {
   "cell_type": "code",
   "execution_count": 9,
   "id": "716a221a-f6a8-404e-b5d4-7e59613cd78f",
   "metadata": {},
   "outputs": [
    {
     "data": {
      "text/plain": [
       "'Q9: What is Central Limit Theorem? State the significance of the Central Limit Theorem.\\n- The Central Limit Theorem states that the sampling distribution of the mean will always be normally distributed, as long as the sample \\nsize is large enough. It is significant because it allows us to use the Normal distribution to find probabilities involving the sample mean.\\n'"
      ]
     },
     "execution_count": 9,
     "metadata": {},
     "output_type": "execute_result"
    }
   ],
   "source": [
    "'''Q9: What is Central Limit Theorem? State the significance of the Central Limit Theorem.\n",
    "- The Central Limit Theorem states that the sampling distribution of the mean will always be normally distributed, as long as the sample \n",
    "size is large enough. It is significant because it allows us to use the Normal distribution to find probabilities involving the sample mean.\n",
    "'''"
   ]
  },
  {
   "cell_type": "code",
   "execution_count": 11,
   "id": "4b5fcdc5-c270-440b-ada3-e6686fb353d5",
   "metadata": {},
   "outputs": [
    {
     "data": {
      "text/plain": [
       "'Q10: State the assumptions of the Central Limit Theorem.\\n-The assumptions of the Central Limit Theorem are:\\n The samples need to be random.\\n The samples should be unrelated to one another.\\n When taking samples without replacement, the sample size should not exceed 10% of the population.\\n The sample is based on 30 or more observations.\\n'"
      ]
     },
     "execution_count": 11,
     "metadata": {},
     "output_type": "execute_result"
    }
   ],
   "source": [
    "'''Q10: State the assumptions of the Central Limit Theorem.\n",
    "-The assumptions of the Central Limit Theorem are:\n",
    " The samples need to be random.\n",
    " The samples should be unrelated to one another.\n",
    " When taking samples without replacement, the sample size should not exceed 10% of the population.\n",
    " The sample is based on 30 or more observations.\n",
    "'''"
   ]
  },
  {
   "cell_type": "code",
   "execution_count": null,
   "id": "9e7769a3-53bf-4946-9888-9a12c43c2bbf",
   "metadata": {},
   "outputs": [],
   "source": []
  }
 ],
 "metadata": {
  "kernelspec": {
   "display_name": "Python 3 (ipykernel)",
   "language": "python",
   "name": "python3"
  },
  "language_info": {
   "codemirror_mode": {
    "name": "ipython",
    "version": 3
   },
   "file_extension": ".py",
   "mimetype": "text/x-python",
   "name": "python",
   "nbconvert_exporter": "python",
   "pygments_lexer": "ipython3",
   "version": "3.10.8"
  }
 },
 "nbformat": 4,
 "nbformat_minor": 5
}
