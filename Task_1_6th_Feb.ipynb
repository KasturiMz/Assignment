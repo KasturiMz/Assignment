{
 "cells": [
  {
   "cell_type": "code",
   "execution_count": 26,
   "id": "0e4556bb-3eb7-454f-a86a-36987570a706",
   "metadata": {},
   "outputs": [],
   "source": [
    "#Q1. Create a function which will take a list as an argument and return the product of all the numbers\n",
    "#after creating a flat list.\n",
    "list1 = [1,2,3,4, [44,55,66, True], False, (34,56,78,89,34), {1,2,3,3,2,1}, {1:34, \"key2\": [55, 67, 78, 89], 4: (45,\n",
    "22, 61, 34)}, [56, 'data science'], 'Machine Learning']"
   ]
  },
  {
   "cell_type": "code",
   "execution_count": 27,
   "id": "3d4d09a2-957b-455f-af90-01947d26b16b",
   "metadata": {},
   "outputs": [],
   "source": [
    "def cummulative_product(l):\n",
    "    def listl(l):\n",
    "        flat_list = []\n",
    "        if type(l)==dict:\n",
    "            for k in l:\n",
    "                    if type(k)==int:\n",
    "                        flat_list.append(k)\n",
    "                    v = l[k]\n",
    "                    if type(v)==int:\n",
    "                        flat_list.append(v)\n",
    "                    if (type(v)==list or type(v)==tuple or type(v)==set):\n",
    "                        flat_list.extend(listl(v))\n",
    "                    if type(v)==dict:\n",
    "                        flat_list.extend(listl(v))\n",
    "        else:\n",
    "            for i in l:\n",
    "                if type(i)==int:\n",
    "                    flat_list.append(i)\n",
    "                if (type(i)==list or type(i)==tuple or type(i)==set):\n",
    "                    flat_list.extend(listl(i))\n",
    "                if type(i)==dict:\n",
    "                    flat_list.extend(listl(i))\n",
    "        return flat_list \n",
    "    from functools import reduce\n",
    "    return reduce(lambda x,y:x*y,listl(l))"
   ]
  },
  {
   "cell_type": "code",
   "execution_count": 28,
   "id": "233260d7-32c9-494b-a2fe-4921fd0d87a5",
   "metadata": {},
   "outputs": [
    {
     "data": {
      "text/plain": [
       "4134711838987085478833841242112000"
      ]
     },
     "execution_count": 28,
     "metadata": {},
     "output_type": "execute_result"
    }
   ],
   "source": [
    "cummulative_product(list1)"
   ]
  },
  {
   "cell_type": "code",
   "execution_count": 1,
   "id": "470eed9c-b8ec-4c84-b4b9-71e47b60b8e8",
   "metadata": {},
   "outputs": [],
   "source": [
    "#Q2.\n",
    "string = 'I want to become a Data Scientist.'"
   ]
  },
  {
   "cell_type": "code",
   "execution_count": 2,
   "id": "5971ce1b-9fa3-4321-8d35-7f8d2276e2fb",
   "metadata": {},
   "outputs": [],
   "source": [
    "def encryption(s):\n",
    "    import string\n",
    "    alphabet = list(string.ascii_lowercase)\n",
    "    st = \"\"\n",
    "    for i in s.lower():\n",
    "        if i in alphabet:\n",
    "            position = alphabet.index(i)\n",
    "            st=st+alphabet[25-position]\n",
    "        elif i==' ':\n",
    "            st=st+\"$\"\n",
    "        else:\n",
    "            st=st+i\n",
    "    return st"
   ]
  },
  {
   "cell_type": "code",
   "execution_count": 3,
   "id": "5c0fc989-5e3d-4193-8ffd-ab1fccaf0fdd",
   "metadata": {},
   "outputs": [
    {
     "name": "stdout",
     "output_type": "stream",
     "text": [
      "r$dzmg$gl$yvxlnv$z$wzgz$hxrvmgrhg.\n"
     ]
    }
   ],
   "source": [
    "print(encryption(string))"
   ]
  },
  {
   "cell_type": "code",
   "execution_count": null,
   "id": "0c5edf14-29e2-4e85-9725-c263e8b1b00b",
   "metadata": {},
   "outputs": [],
   "source": []
  }
 ],
 "metadata": {
  "kernelspec": {
   "display_name": "Python 3 (ipykernel)",
   "language": "python",
   "name": "python3"
  },
  "language_info": {
   "codemirror_mode": {
    "name": "ipython",
    "version": 3
   },
   "file_extension": ".py",
   "mimetype": "text/x-python",
   "name": "python",
   "nbconvert_exporter": "python",
   "pygments_lexer": "ipython3",
   "version": "3.10.8"
  }
 },
 "nbformat": 4,
 "nbformat_minor": 5
}
