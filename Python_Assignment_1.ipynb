{
 "cells": [
  {
   "cell_type": "code",
   "execution_count": 1,
   "id": "93fd6737-e276-41bc-ad9a-7bbc797b5219",
   "metadata": {},
   "outputs": [
    {
     "data": {
      "text/plain": [
       "'Q1->\\nFor loop is used when we know how many exact iterations are to be performed. But they cannot be used when number of iterations are unknown.\\nWhile we can use while loop in both cases i.e whether number of iterations is known or not. In while loop when number of iterations are\\nunknown we perform the statements enclosed within the while loop until a particular condition is being satisfied and exit the loop when the\\ncondition is unsatisfied.\\nFor eg.:-\\nfor i in range(0,11):\\n   print(i)\\nHere we know that we have to print all the numbers from 0 to 10. Hence, number of iterations to be performed is known.\\n\\nwhile(n>0):\\n    l = n%10\\n    print(l)\\n    n=int(n/10)\\nThis prints the digits of n in reverse order. This can also be done with the help of for loop but the procedure will be a little complex\\n'"
      ]
     },
     "execution_count": 1,
     "metadata": {},
     "output_type": "execute_result"
    }
   ],
   "source": [
    "'''Q1->\n",
    "For loop is used when we know how many exact iterations are to be performed. But they cannot be used when number of iterations are unknown.\n",
    "While we can use while loop in both cases i.e whether number of iterations is known or not. In while loop when number of iterations are\n",
    "unknown we perform the statements enclosed within the while loop until a particular condition is being satisfied and exit the loop when the\n",
    "condition is unsatisfied.\n",
    "For eg.:-\n",
    "for i in range(0,11):\n",
    "   print(i)\n",
    "Here we know that we have to print all the numbers from 0 to 10. Hence, number of iterations to be performed is known.\n",
    "\n",
    "while(n>0):\n",
    "    l = n%10\n",
    "    print(l)\n",
    "    n=int(n/10)\n",
    "This prints the digits of n in reverse order. This can also be done with the help of for loop but the procedure will be a little complex\n",
    "'''"
   ]
  },
  {
   "cell_type": "code",
   "execution_count": 2,
   "id": "1432197b-754e-493a-baa7-f26fe91a13ea",
   "metadata": {},
   "outputs": [],
   "source": [
    "#Q2\n",
    "res1=0\n",
    "res2=1\n",
    "for i in range(1,11):\n",
    "    res1+=i\n",
    "for i in range(1,11):\n",
    "    res2*=i"
   ]
  },
  {
   "cell_type": "code",
   "execution_count": 3,
   "id": "2f8151b1-a12a-439f-b616-057964de2f50",
   "metadata": {},
   "outputs": [
    {
     "data": {
      "text/plain": [
       "55"
      ]
     },
     "execution_count": 3,
     "metadata": {},
     "output_type": "execute_result"
    }
   ],
   "source": [
    "res1"
   ]
  },
  {
   "cell_type": "code",
   "execution_count": 4,
   "id": "31d3c0db-8010-4663-b4c0-b4091016308d",
   "metadata": {},
   "outputs": [
    {
     "data": {
      "text/plain": [
       "3628800"
      ]
     },
     "execution_count": 4,
     "metadata": {},
     "output_type": "execute_result"
    }
   ],
   "source": [
    "res2"
   ]
  },
  {
   "cell_type": "code",
   "execution_count": 5,
   "id": "84b212e8-121b-4e32-b2ed-a17c8c7e6347",
   "metadata": {},
   "outputs": [
    {
     "name": "stdin",
     "output_type": "stream",
     "text": [
      "Enter the units of electricity consumed in a month:  310\n"
     ]
    },
    {
     "name": "stdout",
     "output_type": "stream",
     "text": [
      "2250.0\n"
     ]
    }
   ],
   "source": [
    "#Q3\n",
    "units = int(input(\"Enter the units of electricity consumed in a month: \"))\n",
    "res=0\n",
    "if(units>300):\n",
    "    res+=(units-300)*20\n",
    "    units=300\n",
    "if(units>200):\n",
    "    res+=(units-200)*10\n",
    "    units=200\n",
    "if(units>100):\n",
    "    res+=(units-100)*6\n",
    "    units=100\n",
    "if(units<=100):\n",
    "    res+=units*4.5\n",
    "\n",
    "print(res)"
   ]
  },
  {
   "cell_type": "code",
   "execution_count": 6,
   "id": "0b2a7fd0-df05-4d0d-a854-608f43ee9148",
   "metadata": {},
   "outputs": [],
   "source": [
    "#Q4 Using for loop\n",
    "l = list(range(1,101))\n",
    "l1 = []\n",
    "for i in l:\n",
    "    m = i*i*i\n",
    "    if(m%20 == 0 or m%5==0 or m%4==0):\n",
    "        l1.append(i)"
   ]
  },
  {
   "cell_type": "code",
   "execution_count": 7,
   "id": "a02899e7-ca79-46b8-b5ad-bbb816aaebf9",
   "metadata": {},
   "outputs": [
    {
     "data": {
      "text/plain": [
       "[2,\n",
       " 4,\n",
       " 5,\n",
       " 6,\n",
       " 8,\n",
       " 10,\n",
       " 12,\n",
       " 14,\n",
       " 15,\n",
       " 16,\n",
       " 18,\n",
       " 20,\n",
       " 22,\n",
       " 24,\n",
       " 25,\n",
       " 26,\n",
       " 28,\n",
       " 30,\n",
       " 32,\n",
       " 34,\n",
       " 35,\n",
       " 36,\n",
       " 38,\n",
       " 40,\n",
       " 42,\n",
       " 44,\n",
       " 45,\n",
       " 46,\n",
       " 48,\n",
       " 50,\n",
       " 52,\n",
       " 54,\n",
       " 55,\n",
       " 56,\n",
       " 58,\n",
       " 60,\n",
       " 62,\n",
       " 64,\n",
       " 65,\n",
       " 66,\n",
       " 68,\n",
       " 70,\n",
       " 72,\n",
       " 74,\n",
       " 75,\n",
       " 76,\n",
       " 78,\n",
       " 80,\n",
       " 82,\n",
       " 84,\n",
       " 85,\n",
       " 86,\n",
       " 88,\n",
       " 90,\n",
       " 92,\n",
       " 94,\n",
       " 95,\n",
       " 96,\n",
       " 98,\n",
       " 100]"
      ]
     },
     "execution_count": 7,
     "metadata": {},
     "output_type": "execute_result"
    }
   ],
   "source": [
    "l1"
   ]
  },
  {
   "cell_type": "code",
   "execution_count": 8,
   "id": "d144352b-80ef-4f18-807f-8a85f6bf0d01",
   "metadata": {},
   "outputs": [],
   "source": [
    "#Q4 Using while loop\n",
    "i=1\n",
    "l1 = []\n",
    "while(i<=100):\n",
    "    m = i*i*i\n",
    "    if(m%20 == 0 or m%5==0 or m%4==0):\n",
    "        l1.append(i)\n",
    "    i=i+1"
   ]
  },
  {
   "cell_type": "code",
   "execution_count": 9,
   "id": "4394ea49-a796-4f43-a437-3631290d3897",
   "metadata": {},
   "outputs": [
    {
     "data": {
      "text/plain": [
       "[2,\n",
       " 4,\n",
       " 5,\n",
       " 6,\n",
       " 8,\n",
       " 10,\n",
       " 12,\n",
       " 14,\n",
       " 15,\n",
       " 16,\n",
       " 18,\n",
       " 20,\n",
       " 22,\n",
       " 24,\n",
       " 25,\n",
       " 26,\n",
       " 28,\n",
       " 30,\n",
       " 32,\n",
       " 34,\n",
       " 35,\n",
       " 36,\n",
       " 38,\n",
       " 40,\n",
       " 42,\n",
       " 44,\n",
       " 45,\n",
       " 46,\n",
       " 48,\n",
       " 50,\n",
       " 52,\n",
       " 54,\n",
       " 55,\n",
       " 56,\n",
       " 58,\n",
       " 60,\n",
       " 62,\n",
       " 64,\n",
       " 65,\n",
       " 66,\n",
       " 68,\n",
       " 70,\n",
       " 72,\n",
       " 74,\n",
       " 75,\n",
       " 76,\n",
       " 78,\n",
       " 80,\n",
       " 82,\n",
       " 84,\n",
       " 85,\n",
       " 86,\n",
       " 88,\n",
       " 90,\n",
       " 92,\n",
       " 94,\n",
       " 95,\n",
       " 96,\n",
       " 98,\n",
       " 100]"
      ]
     },
     "execution_count": 9,
     "metadata": {},
     "output_type": "execute_result"
    }
   ],
   "source": [
    "l1"
   ]
  },
  {
   "cell_type": "code",
   "execution_count": 10,
   "id": "4a7ae078-8dd5-4323-b395-22910f71517a",
   "metadata": {},
   "outputs": [
    {
     "name": "stdout",
     "output_type": "stream",
     "text": [
      "11\n"
     ]
    }
   ],
   "source": [
    "#Q5\n",
    "string = \"I want to become a data scientist\"\n",
    "count=0\n",
    "for i in string:\n",
    "    if(i in ['a','e','i','o','u']):\n",
    "        count+=1\n",
    "        \n",
    "print(count)"
   ]
  },
  {
   "cell_type": "code",
   "execution_count": null,
   "id": "191ce3fb-312f-4efd-88de-9ecddb7080b7",
   "metadata": {},
   "outputs": [],
   "source": []
  }
 ],
 "metadata": {
  "kernelspec": {
   "display_name": "Python 3 (ipykernel)",
   "language": "python",
   "name": "python3"
  },
  "language_info": {
   "codemirror_mode": {
    "name": "ipython",
    "version": 3
   },
   "file_extension": ".py",
   "mimetype": "text/x-python",
   "name": "python",
   "nbconvert_exporter": "python",
   "pygments_lexer": "ipython3",
   "version": "3.10.8"
  }
 },
 "nbformat": 4,
 "nbformat_minor": 5
}
