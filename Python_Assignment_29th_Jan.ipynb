{
 "cells": [
  {
   "cell_type": "code",
   "execution_count": 1,
   "id": "fbd018f3-116b-4950-a9b9-0f70fae461db",
   "metadata": {},
   "outputs": [],
   "source": [
    "#Q1. Python Programming Language was developed by Guido Van Rossum."
   ]
  },
  {
   "cell_type": "code",
   "execution_count": 2,
   "id": "ac65cdae-c1b8-4353-b0c9-83465393a233",
   "metadata": {},
   "outputs": [],
   "source": [
    "#Q2. Python supports object-oriented,structural and functional programming."
   ]
  },
  {
   "cell_type": "code",
   "execution_count": 3,
   "id": "94eafdb4-ab0e-4f68-9f2e-e4e5460e9970",
   "metadata": {},
   "outputs": [],
   "source": [
    "#Q3. Yes, Python is a case sensitive language when dealing with identifiers."
   ]
  },
  {
   "cell_type": "code",
   "execution_count": 4,
   "id": "3c9d8992-3060-46e0-ae74-d2e18a7aca46",
   "metadata": {},
   "outputs": [],
   "source": [
    "#Q4. The correct extension of the Python file is '.py'."
   ]
  },
  {
   "cell_type": "code",
   "execution_count": 5,
   "id": "a2e96352-7967-4ef8-9e8c-968b9e6b1ef8",
   "metadata": {},
   "outputs": [],
   "source": [
    "#Q5. Python code is interpreted."
   ]
  },
  {
   "cell_type": "code",
   "execution_count": 6,
   "id": "c9ef6b9b-6075-48a1-b9aa-37f9c00fd964",
   "metadata": {},
   "outputs": [],
   "source": [
    "#Q6. A few blocks of code used to define in Python language are a moldule, a function body and a class definition."
   ]
  },
  {
   "cell_type": "code",
   "execution_count": 7,
   "id": "4dc012b7-0838-484f-a30a-eb68fd555948",
   "metadata": {},
   "outputs": [],
   "source": [
    "#Q7. We can use '#' to give single line comments in Python."
   ]
  },
  {
   "cell_type": "code",
   "execution_count": 8,
   "id": "bb76507d-44c3-43ff-87b0-c6d45ccd6fe3",
   "metadata": {},
   "outputs": [],
   "source": [
    "#Q8. The function sys.version can help us to find the current version of Python we are working on."
   ]
  },
  {
   "cell_type": "code",
   "execution_count": 9,
   "id": "bd9f7c30-2432-41f5-970f-fcfdc892de6f",
   "metadata": {},
   "outputs": [],
   "source": [
    "#Q9. Python supports the creation of anonymous functions at runtime with the help of a construct called lambda."
   ]
  },
  {
   "cell_type": "code",
   "execution_count": 10,
   "id": "d241f3ba-c6c0-4188-9f12-326ac3ec04ec",
   "metadata": {},
   "outputs": [],
   "source": [
    "#Q10. pip stands for Preferred Installer Program in Python."
   ]
  },
  {
   "cell_type": "code",
   "execution_count": 11,
   "id": "3fceda20-122a-4f0c-a812-a2821ec2c805",
   "metadata": {},
   "outputs": [
    {
     "data": {
      "text/plain": [
       "'Q11. Some built-in functions in Python are:\\ni)   abs() - returns the absolute value of a number\\nii)  eval()- evaluates and executes an expression\\niii) all() - returns True if all objects in an iterable object are True\\niv)  any() - returns True if any item in an iterable object is True\\nv)   bool()- returns the boolean value of the specified object\\nvi)  bin() - returns the binary version of a number\\nvii) filter()-use a filter function to exclude items in an iterable object\\nviii)hex() - converts a number into a hexadecimal value\\n'"
      ]
     },
     "execution_count": 11,
     "metadata": {},
     "output_type": "execute_result"
    }
   ],
   "source": [
    "'''Q11. Some built-in functions in Python are:\n",
    "i)   abs() - returns the absolute value of a number\n",
    "ii)  eval()- evaluates and executes an expression\n",
    "iii) all() - returns True if all objects in an iterable object are True\n",
    "iv)  any() - returns True if any item in an iterable object is True\n",
    "v)   bool()- returns the boolean value of the specified object\n",
    "vi)  bin() - returns the binary version of a number\n",
    "vii) filter()-use a filter function to exclude items in an iterable object\n",
    "viii)hex() - converts a number into a hexadecimal value\n",
    "'''"
   ]
  },
  {
   "cell_type": "code",
   "execution_count": 12,
   "id": "4907857b-0583-4a62-90d1-3a13bbfa5c31",
   "metadata": {},
   "outputs": [],
   "source": [
    "#Q12. The maximum possible length of an identifier in Python is 79 characters."
   ]
  },
  {
   "cell_type": "code",
   "execution_count": 13,
   "id": "64cb8c41-218d-4c59-a544-5f433dc6af51",
   "metadata": {},
   "outputs": [],
   "source": [
    "#Q13. The benefits of using Python are - Python is extensible, the large amount of Python libraries that can be incorporated in our code,\n",
    "#the Python community whilch helps support Python and Python developers."
   ]
  },
  {
   "cell_type": "code",
   "execution_count": 14,
   "id": "bbc8bbba-22c8-464d-8df0-8bb45c045492",
   "metadata": {},
   "outputs": [],
   "source": [
    "#Q14. Memory is managed in Python using a private heap which contains all Python objects and data structures."
   ]
  },
  {
   "cell_type": "code",
   "execution_count": 15,
   "id": "07e3b7c2-ea47-45c5-bce8-1151dd459e55",
   "metadata": {},
   "outputs": [],
   "source": [
    "#Q15. We can install Python on Windows by first downloading Python on PC and then installing it in the PC. We can set path variables\n",
    "# by putting ;%PYTHON_HOME% if the value of the path variable is not present."
   ]
  },
  {
   "cell_type": "code",
   "execution_count": 16,
   "id": "479dd732-466c-4857-b029-15c1f8c3539c",
   "metadata": {},
   "outputs": [],
   "source": [
    "#Q16. Yes,indentation is required in Python to indicate a block of code."
   ]
  },
  {
   "cell_type": "code",
   "execution_count": null,
   "id": "41545f15-6e77-438f-b76d-cfe273fb1199",
   "metadata": {},
   "outputs": [],
   "source": []
  }
 ],
 "metadata": {
  "kernelspec": {
   "display_name": "Python 3 (ipykernel)",
   "language": "python",
   "name": "python3"
  },
  "language_info": {
   "codemirror_mode": {
    "name": "ipython",
    "version": 3
   },
   "file_extension": ".py",
   "mimetype": "text/x-python",
   "name": "python",
   "nbconvert_exporter": "python",
   "pygments_lexer": "ipython3",
   "version": "3.10.8"
  }
 },
 "nbformat": 4,
 "nbformat_minor": 5
}
