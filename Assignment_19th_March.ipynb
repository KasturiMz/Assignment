{
 "cells": [
  {
   "cell_type": "code",
   "execution_count": 1,
   "id": "dc8dfad2",
   "metadata": {},
   "outputs": [
    {
     "data": {
      "text/plain": [
       "'Q1. What is Min-Max scaling, and how is it used in data preprocessing? \\n--> This estimator scales and translates each feature individually such that it is in the given range on the training set, e.g. between zero and one.\\nFor example, a series of album ratings scaled from 70 to 150 could be min-maxed so that every rating falls on or between 0 and 1, and the proportional \\ndistance between data points is retained.\\n'"
      ]
     },
     "execution_count": 1,
     "metadata": {},
     "output_type": "execute_result"
    }
   ],
   "source": [
    "'''Q1. What is Min-Max scaling, and how is it used in data preprocessing? \n",
    "--> This estimator scales and translates each feature individually such that it is in the given range on the training set, e.g. between zero and one.\n",
    "For example, a series of album ratings scaled from 70 to 150 could be min-maxed so that every rating falls on or between 0 and 1, and the proportional \n",
    "distance between data points is retained.\n",
    "'''"
   ]
  },
  {
   "cell_type": "code",
   "execution_count": 2,
   "id": "5ac69e34",
   "metadata": {},
   "outputs": [
    {
     "data": {
      "text/plain": [
       "'Q2. What is the Unit Vector technique in feature scaling, and how does it differ from Min-Max scaling? \\n--> Unit vector scaling is done keeping in mind the whole feature vector is of unit length. This normally requires dividing each component by the Euclidean length of the vector.\\n Like Min-Max Scaling, the Unit Vector technique produces values of range [0,1].\\n'"
      ]
     },
     "execution_count": 2,
     "metadata": {},
     "output_type": "execute_result"
    }
   ],
   "source": [
    "'''Q2. What is the Unit Vector technique in feature scaling, and how does it differ from Min-Max scaling? \n",
    "--> Unit vector scaling is done keeping in mind the whole feature vector is of unit length. This normally requires dividing each component by the Euclidean length of the vector.\n",
    " Like Min-Max Scaling, the Unit Vector technique produces values of range [0,1].\n",
    "'''"
   ]
  },
  {
   "cell_type": "code",
   "execution_count": 3,
   "id": "18ea24da",
   "metadata": {},
   "outputs": [
    {
     "data": {
      "text/plain": [
       "'Q3. What is PCA (Principle Component Analysis), and how is it used in dimensionality reduction? \\n-->Principal Component Analysis(PCA) is one of the most popular linear dimension reduction algorithms. It is a projection based method that transforms \\nthe data by projecting it onto a set of orthogonal(perpendicular) axes.\\n'"
      ]
     },
     "execution_count": 3,
     "metadata": {},
     "output_type": "execute_result"
    }
   ],
   "source": [
    "'''Q3. What is PCA (Principle Component Analysis), and how is it used in dimensionality reduction? \n",
    "-->Principal Component Analysis(PCA) is one of the most popular linear dimension reduction algorithms. It is a projection based method that transforms \n",
    "the data by projecting it onto a set of orthogonal(perpendicular) axes.\n",
    "'''"
   ]
  },
  {
   "cell_type": "code",
   "execution_count": 4,
   "id": "97954434",
   "metadata": {},
   "outputs": [
    {
     "data": {
      "text/plain": [
       "'Q4. What is the relationship between PCA and Feature Extraction, and how can PCA be used for Feature \\nExtraction?\\n-->PCA can be used to identify the most important features in a dataset, which can be used to build predictive models.PCA can be used to visualize high-dimensional data \\nin two or three dimensions, making it easier to understand and interpret.\\n'"
      ]
     },
     "execution_count": 4,
     "metadata": {},
     "output_type": "execute_result"
    }
   ],
   "source": [
    "'''Q4. What is the relationship between PCA and Feature Extraction, and how can PCA be used for Feature \n",
    "Extraction?\n",
    "-->PCA can be used to identify the most important features in a dataset, which can be used to build predictive models.PCA can be used to visualize high-dimensional data \n",
    "in two or three dimensions, making it easier to understand and interpret.\n",
    "'''"
   ]
  },
  {
   "cell_type": "code",
   "execution_count": 5,
   "id": "4b1756f5",
   "metadata": {},
   "outputs": [
    {
     "data": {
      "text/plain": [
       "'Q5. You are working on a project to build a recommendation system for a food delivery service. The dataset \\ncontains features such as price, rating, and delivery time. Explain how you would use Min-Max scaling to \\npreprocess the data.\\n--> Min max scaling can be used to transform all the features in the range [0,1] so that effective predictive models can be applied on the data\\nto obtain efficient and meaningful results.\\n'"
      ]
     },
     "execution_count": 5,
     "metadata": {},
     "output_type": "execute_result"
    }
   ],
   "source": [
    "'''Q5. You are working on a project to build a recommendation system for a food delivery service. The dataset \n",
    "contains features such as price, rating, and delivery time. Explain how you would use Min-Max scaling to \n",
    "preprocess the data.\n",
    "--> Min max scaling can be used to transform all the features in the range [0,1] so that effective predictive models can be applied on the data\n",
    "to obtain efficient and meaningful results.\n",
    "'''"
   ]
  },
  {
   "cell_type": "code",
   "execution_count": 6,
   "id": "4476763e",
   "metadata": {},
   "outputs": [
    {
     "data": {
      "text/plain": [
       "'Q6. You are working on a project to build a model to predict stock prices. The dataset contains many \\nfeatures, such as company financial data and market trends. Explain how you would use PCA to reduce the \\ndimensionality of the dataset.\\n-->Principal component analysis (PCA) is a popular technique for analyzing large datasets containing a high number of dimensions/features per observation, \\nincreasing the interpretability of data while preserving the maximum amount of information, and enabling the visualization of multidimensional data.\\n'"
      ]
     },
     "execution_count": 6,
     "metadata": {},
     "output_type": "execute_result"
    }
   ],
   "source": [
    "'''Q6. You are working on a project to build a model to predict stock prices. The dataset contains many \n",
    "features, such as company financial data and market trends. Explain how you would use PCA to reduce the \n",
    "dimensionality of the dataset.\n",
    "-->Principal component analysis (PCA) is a popular technique for analyzing large datasets containing a high number of dimensions/features per observation, \n",
    "increasing the interpretability of data while preserving the maximum amount of information, and enabling the visualization of multidimensional data.\n",
    "'''"
   ]
  },
  {
   "cell_type": "code",
   "execution_count": 7,
   "id": "058dc5b2",
   "metadata": {},
   "outputs": [],
   "source": [
    "'''Q7. For a dataset containing the following values: [1, 5, 10, 15, 20], perform Min-Max scaling to transform the \n",
    "values to a range of -1 to 1.\n",
    "'''\n",
    "l=[1,5,10,15,20]\n",
    "def min_max(a):\n",
    "    p=max(a)\n",
    "    q=min(a)\n",
    "    b=[]\n",
    "    for i in a:\n",
    "        b.append((i-q)/(p-q))\n",
    "    return b"
   ]
  },
  {
   "cell_type": "code",
   "execution_count": 8,
   "id": "0e8a9309",
   "metadata": {},
   "outputs": [
    {
     "data": {
      "text/plain": [
       "[0.0, 0.21052631578947367, 0.47368421052631576, 0.7368421052631579, 1.0]"
      ]
     },
     "execution_count": 8,
     "metadata": {},
     "output_type": "execute_result"
    }
   ],
   "source": [
    "min_max(l)"
   ]
  },
  {
   "cell_type": "code",
   "execution_count": null,
   "id": "3339016c",
   "metadata": {},
   "outputs": [],
   "source": []
  }
 ],
 "metadata": {
  "kernelspec": {
   "display_name": "Python 3",
   "language": "python",
   "name": "python3"
  },
  "language_info": {
   "codemirror_mode": {
    "name": "ipython",
    "version": 3
   },
   "file_extension": ".py",
   "mimetype": "text/x-python",
   "name": "python",
   "nbconvert_exporter": "python",
   "pygments_lexer": "ipython3",
   "version": "3.8.8"
  }
 },
 "nbformat": 4,
 "nbformat_minor": 5
}
