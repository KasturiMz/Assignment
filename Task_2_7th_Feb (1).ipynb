{
 "cells": [
  {
   "cell_type": "code",
   "execution_count": 11,
   "id": "b4417d30-8705-4a06-a65a-67391383be01",
   "metadata": {},
   "outputs": [],
   "source": [
    "#Q1.Q1. You are writing code for a company. The requirement of the company is that you create a python\n",
    "#function that will check whether the password entered by the user is correct or not. The function should\n",
    "#take the password as input and return the string “Valid Password” if the entered password follows the\n",
    "#below-given password guidelines else it should return “Invalid Password”.\n",
    "#Note: 1. The Password should contain at least two uppercase letters and at least two lowercase letters.\n",
    "#2. The Password should contain at least a number and three special characters.\n",
    "#3. The length of the password should be 10 characters long.\n",
    "def password(s):\n",
    "    if len(s)==10:\n",
    "        count_u=0\n",
    "        count_l=0\n",
    "        count1=0\n",
    "        count2=0\n",
    "        import string\n",
    "        alphabet = list(string.ascii_lowercase)\n",
    "        for i in s:\n",
    "            if i not in alphabet:\n",
    "                if i.isnumeric():\n",
    "                    count1+=1\n",
    "                else:\n",
    "                    count2+=1\n",
    "            if i.isupper():\n",
    "                count_u+=1\n",
    "            if i.islower():\n",
    "                count_l+=1\n",
    "        if(count_u<2 or count_l<2 or count1==0 or count2<3):\n",
    "            return \"Invalid Password\"\n",
    "        else:\n",
    "            return \"Valid Password\"\n",
    "    else:\n",
    "        return \"Invalid Password\""
   ]
  },
  {
   "cell_type": "code",
   "execution_count": 2,
   "id": "e51d6822-dbfb-4c3a-8891-5c6fbbd40827",
   "metadata": {},
   "outputs": [
    {
     "name": "stdin",
     "output_type": "stream",
     "text": [
      "Enter a password:  DaTa@S#c*8\n"
     ]
    },
    {
     "name": "stdout",
     "output_type": "stream",
     "text": [
      "Valid Password\n"
     ]
    }
   ],
   "source": [
    "st = input(\"Enter a password: \")\n",
    "print(password(st))"
   ]
  },
  {
   "cell_type": "code",
   "execution_count": 3,
   "id": "6355d6f4-e9a2-4bb9-add0-e9e204e10804",
   "metadata": {},
   "outputs": [
    {
     "name": "stdin",
     "output_type": "stream",
     "text": [
      "Enter a string:  Kingfisher\n"
     ]
    },
    {
     "name": "stdout",
     "output_type": "stream",
     "text": [
      "True\n"
     ]
    }
   ],
   "source": [
    "#Q2.\n",
    "#Check if the string starts with a particular letter say K\n",
    "s = input(\"Enter a string: \")\n",
    "a = lambda s: True if s[0]=='K' or s[0]=='k' else False\n",
    "print(a(s))"
   ]
  },
  {
   "cell_type": "code",
   "execution_count": 4,
   "id": "36247b8c-ea49-492d-a492-3b72cd4adad0",
   "metadata": {},
   "outputs": [
    {
     "name": "stdin",
     "output_type": "stream",
     "text": [
      "Enter a string:  182\n"
     ]
    },
    {
     "name": "stdout",
     "output_type": "stream",
     "text": [
      "True\n"
     ]
    }
   ],
   "source": [
    "#Check if the string is numeric\n",
    "s = input(\"Enter a string: \")\n",
    "b = lambda s: s.isnumeric()\n",
    "print(b(s))"
   ]
  },
  {
   "cell_type": "code",
   "execution_count": 5,
   "id": "81a7ccc0-1529-4142-8e5f-fe39701fc704",
   "metadata": {},
   "outputs": [
    {
     "name": "stdout",
     "output_type": "stream",
     "text": [
      "[('orange', 80), ('mango', 99), ('grapes', 1000)]\n"
     ]
    }
   ],
   "source": [
    "#Sort a list of tuples having fruit names and their quantity. [(\"mango\",99),(\"orange\",80), (\"grapes\", 1000)]\n",
    "l = [(\"mango\",99),(\"orange\",80), (\"grapes\", 1000)]\n",
    "l1 = sorted(l, key = lambda x:x[1],reverse = False)\n",
    "print(l1)"
   ]
  },
  {
   "cell_type": "code",
   "execution_count": 6,
   "id": "bdde7f50-15e3-42ff-9dba-ead7daef9aca",
   "metadata": {},
   "outputs": [
    {
     "data": {
      "text/plain": [
       "[1, 4, 9, 16, 25, 36, 49, 64, 81, 100]"
      ]
     },
     "execution_count": 6,
     "metadata": {},
     "output_type": "execute_result"
    }
   ],
   "source": [
    "#Find the squares of numbers from 1 to 10Y\n",
    "[x**2 for x in range(1,11)]"
   ]
  },
  {
   "cell_type": "code",
   "execution_count": 7,
   "id": "2f0f164d-3513-4f7d-a4ec-6f0aa65d416b",
   "metadata": {},
   "outputs": [
    {
     "data": {
      "text/plain": [
       "[1.0,\n",
       " 1.2599210498948732,\n",
       " 1.4422495703074083,\n",
       " 1.5874010519681994,\n",
       " 1.7099759466766968,\n",
       " 1.8171205928321397,\n",
       " 1.912931182772389,\n",
       " 2.0,\n",
       " 2.080083823051904,\n",
       " 2.154434690031884]"
      ]
     },
     "execution_count": 7,
     "metadata": {},
     "output_type": "execute_result"
    }
   ],
   "source": [
    "#Find the cube root of numbers from 1 to 10\n",
    "[x**(1/3) for x in range(1,11)]"
   ]
  },
  {
   "cell_type": "code",
   "execution_count": 8,
   "id": "d3860a76-9f03-4319-b851-093b6569cf47",
   "metadata": {},
   "outputs": [
    {
     "name": "stdin",
     "output_type": "stream",
     "text": [
      "Enter a number:  17\n"
     ]
    },
    {
     "name": "stdout",
     "output_type": "stream",
     "text": [
      "False\n"
     ]
    }
   ],
   "source": [
    "#Check if a given number is even\n",
    "n = int(input(\"Enter a number: \"))\n",
    "c = lambda x:x%2==0\n",
    "print(c(n))"
   ]
  },
  {
   "cell_type": "code",
   "execution_count": 9,
   "id": "9f17635e-c213-4e7f-bcd0-521a93ad457a",
   "metadata": {},
   "outputs": [
    {
     "name": "stdout",
     "output_type": "stream",
     "text": [
      "[1, 3, 5, 7, 9]\n"
     ]
    }
   ],
   "source": [
    "#Filter odd numbers from the given list [1,2,3,4,5,6,7,8,9,10]\n",
    "l2 = [1,2,3,4,5,6,7,8,9,10]\n",
    "l3 = list(filter(lambda x:x%2!=0,l2))\n",
    "print(l3)"
   ]
  },
  {
   "cell_type": "code",
   "execution_count": 10,
   "id": "17fb872a-c54f-4012-a6b8-4e49dff08b88",
   "metadata": {},
   "outputs": [
    {
     "name": "stdout",
     "output_type": "stream",
     "text": [
      "[1, 2, 3, 4, 5, 6] \n",
      " [-5, -4, -3, -2, -1]\n"
     ]
    }
   ],
   "source": [
    "#Sort a list of integers into positive and negative integers lists [1,2,3,4,5,6,-1,-2,-3,-4,-5,0]\n",
    "l4 = [1,2,3,4,5,6,-1,-2,-3,-4,-5,0]\n",
    "l_positive=list(filter(lambda x: x>0,l4))\n",
    "l_negative=list(filter(lambda x: x<0,l4))\n",
    "l_positive.sort()\n",
    "l_negative.sort()\n",
    "print(l_positive,'\\n',l_negative)"
   ]
  },
  {
   "cell_type": "code",
   "execution_count": null,
   "id": "3dd513a9-edf4-40ca-ae9d-153ee9c5ad5d",
   "metadata": {},
   "outputs": [],
   "source": []
  }
 ],
 "metadata": {
  "kernelspec": {
   "display_name": "Python 3 (ipykernel)",
   "language": "python",
   "name": "python3"
  },
  "language_info": {
   "codemirror_mode": {
    "name": "ipython",
    "version": 3
   },
   "file_extension": ".py",
   "mimetype": "text/x-python",
   "name": "python",
   "nbconvert_exporter": "python",
   "pygments_lexer": "ipython3",
   "version": "3.10.8"
  }
 },
 "nbformat": 4,
 "nbformat_minor": 5
}
