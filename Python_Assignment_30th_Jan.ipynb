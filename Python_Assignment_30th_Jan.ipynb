{
 "cells": [
  {
   "cell_type": "code",
   "execution_count": 1,
   "id": "96650a20-e059-4802-bda8-aebfaca5b975",
   "metadata": {},
   "outputs": [
    {
     "name": "stdin",
     "output_type": "stream",
     "text": [
      "Enter your percentage:  86.75\n"
     ]
    },
    {
     "name": "stdout",
     "output_type": "stream",
     "text": [
      "Your grade is B\n"
     ]
    }
   ],
   "source": [
    "#Q1. A program to accept percentage from a user and display the grade.\n",
    "percentage = float(input(\"Enter your percentage: \"))\n",
    "if percentage >90:\n",
    "    print(\"Your grade is A\")\n",
    "elif percentage>80:\n",
    "    print(\"Your grade is B\")\n",
    "elif percentage>=60:\n",
    "    print(\"Your grade is C\")\n",
    "else:\n",
    "    print(\"Your grade is D\")"
   ]
  },
  {
   "cell_type": "code",
   "execution_count": 2,
   "id": "904f616d-9c45-4a99-8a29-a781896eaea9",
   "metadata": {},
   "outputs": [
    {
     "name": "stdin",
     "output_type": "stream",
     "text": [
      "Engter the cost price of the bike:  95000\n"
     ]
    },
    {
     "name": "stdout",
     "output_type": "stream",
     "text": [
      "The road tax to be paid is:  9500.0\n"
     ]
    }
   ],
   "source": [
    "#Q2. Program to accept the cost price of a bike and display the road tax to be paid\n",
    "cost = float(input(\"Engter the cost price of the bike: \"))\n",
    "if cost>100000:\n",
    "    print(\"The road tax to be paid is: \",0.15*cost)\n",
    "elif cost>50000:\n",
    "    print(\"The road tax to be paid is: \",0.10*cost)\n",
    "else:\n",
    "    print(\"The road tax to be paid is: \",0.05*cost)"
   ]
  },
  {
   "cell_type": "code",
   "execution_count": 3,
   "id": "fb0c62c1-47ba-401b-89e5-e5948933ba84",
   "metadata": {},
   "outputs": [
    {
     "name": "stdin",
     "output_type": "stream",
     "text": [
      "Enter a city:  Agra\n"
     ]
    },
    {
     "name": "stdout",
     "output_type": "stream",
     "text": [
      "Taj Mahal\n"
     ]
    }
   ],
   "source": [
    "#Q3. Program that accepts a city and displays a monument of the city\n",
    "city = input(\"Enter a city: \")\n",
    "if city == 'Delhi':\n",
    "    print(\"Red Fort\")\n",
    "elif city == 'Agra':\n",
    "    print(\"Taj Mahal\")\n",
    "elif city == 'Jaipur':\n",
    "    print(\"Jal Mahal\")"
   ]
  },
  {
   "cell_type": "code",
   "execution_count": 4,
   "id": "8c263d55-e661-4b7c-95fd-11edf2399d25",
   "metadata": {},
   "outputs": [
    {
     "name": "stdin",
     "output_type": "stream",
     "text": [
      "Enter a number:  100\n"
     ]
    },
    {
     "name": "stdout",
     "output_type": "stream",
     "text": [
      "The number of times  100.0  can be divided by 3 before it is less than or equal to 10 is:  3\n"
     ]
    }
   ],
   "source": [
    "#Q4. Program to check how many times a number can be divided by 3 before it is less than or equal to 10\n",
    "n = float(input(\"Enter a number: \"))\n",
    "count=0\n",
    "l = n\n",
    "while(l>10):\n",
    "    l=l/3\n",
    "    count+=1\n",
    "print(\"The number of times \",n,\" can be divided by 3 before it is less than or equal to 10 is: \",count)"
   ]
  },
  {
   "cell_type": "code",
   "execution_count": 6,
   "id": "f40b3fcc-a569-43b3-91a3-34e0c0d0eab1",
   "metadata": {},
   "outputs": [
    {
     "name": "stdin",
     "output_type": "stream",
     "text": [
      "Enter an integer whose number of digits are to be counted:  1117200\n"
     ]
    },
    {
     "name": "stdout",
     "output_type": "stream",
     "text": [
      "The number of digits in  1117200  are:  7\n"
     ]
    }
   ],
   "source": [
    "#Q5.\n",
    "# while loops can be used in both cases when the number of iterations to be performed are known and when the number of iterations to be\n",
    "# performed are unknown. When the number of iterations to be performed are unknown then we use while loop to perform a set of statements\n",
    "# until a given condition is satisfied. For Example: a program to count the number of digits in an integer\n",
    "n = int(input(\"Enter an integer whose number of digits are to be counted: \"))\n",
    "count=0\n",
    "l=n\n",
    "while(l!=0):\n",
    "    l=int(l/10)\n",
    "    count+=1\n",
    "print(\"The number of digits in \",n,\" are: \",count)\n",
    "#The while loop in the above program executes until l becomes 0 i.e a condition is satisfied. We don't have to know the number of iterations\n",
    "#to be performed."
   ]
  },
  {
   "cell_type": "code",
   "execution_count": 8,
   "id": "5218c968-533a-41ef-b52b-51e8035ecbba",
   "metadata": {},
   "outputs": [
    {
     "name": "stdin",
     "output_type": "stream",
     "text": [
      "Enter the number of rows to print a square:  5\n"
     ]
    },
    {
     "name": "stdout",
     "output_type": "stream",
     "text": [
      "* * * * * \n",
      "* * * * * \n",
      "* * * * * \n",
      "* * * * * \n",
      "* * * * * \n"
     ]
    }
   ],
   "source": [
    "#Q6. Using nested while loops to print patterns\n",
    "#Pattern 1- Square\n",
    "n = int(input(\"Enter the number of rows to print a square: \"))\n",
    "i=0\n",
    "j=0\n",
    "while(i<5):\n",
    "    j=0\n",
    "    while(j<5):\n",
    "        print(\"*\",end = ' ' )\n",
    "        j+=1\n",
    "    print('')\n",
    "    i+=1"
   ]
  },
  {
   "cell_type": "code",
   "execution_count": 9,
   "id": "976ac1ab-fd6c-4b31-a8a1-dd36c791c99d",
   "metadata": {},
   "outputs": [
    {
     "name": "stdin",
     "output_type": "stream",
     "text": [
      "Enter the number of rows to print a square:  5\n"
     ]
    },
    {
     "name": "stdout",
     "output_type": "stream",
     "text": [
      "1 \n",
      "1 2 \n",
      "1 2 3 \n",
      "1 2 3 4 \n",
      "1 2 3 4 5 \n"
     ]
    }
   ],
   "source": [
    "#Pattern 2- Pyramid\n",
    "n = int(input(\"Enter the number of rows to print a square: \"))\n",
    "i=1\n",
    "j=1\n",
    "while(i<=5):\n",
    "    j=1\n",
    "    while(j<=i):\n",
    "        print(j,end = ' ' )\n",
    "        j+=1\n",
    "    print('')\n",
    "    i+=1"
   ]
  },
  {
   "cell_type": "code",
   "execution_count": 10,
   "id": "f975f249-5260-4506-9bbe-233d465e2996",
   "metadata": {},
   "outputs": [
    {
     "name": "stdin",
     "output_type": "stream",
     "text": [
      "Enter the number of rows to print a square:  5\n"
     ]
    },
    {
     "name": "stdout",
     "output_type": "stream",
     "text": [
      "1 2 3 4 5 \n",
      "1 2 3 4 \n",
      "1 2 3 \n",
      "1 2 \n",
      "1 \n"
     ]
    }
   ],
   "source": [
    "#Pattern 3- Inverse Pyramid\n",
    "n = int(input(\"Enter the number of rows to print a square: \"))\n",
    "i=1\n",
    "j=1\n",
    "while(i<=n):\n",
    "    j=1\n",
    "    while(j<=n-i+1):\n",
    "        print(j,end=' ')\n",
    "        j+=1\n",
    "    print('')\n",
    "    i+=1"
   ]
  },
  {
   "cell_type": "code",
   "execution_count": 11,
   "id": "89c33240-4e9e-43b4-9452-c97e51f16971",
   "metadata": {},
   "outputs": [
    {
     "name": "stdin",
     "output_type": "stream",
     "text": [
      "Enter the number from which the reverse till 1 is to be printed:  10\n"
     ]
    },
    {
     "name": "stdout",
     "output_type": "stream",
     "text": [
      "10 9 8 7 6 5 4 3 2 1 "
     ]
    }
   ],
   "source": [
    "#Q7. Program to display numbers from n to 1 using while loop i.e in reverse order\n",
    "n = int(input(\"Enter the number from which the reverse till 1 is to be printed: \"))\n",
    "while(n>0):\n",
    "    print(n,end=' ')\n",
    "    n=n-1"
   ]
  },
  {
   "cell_type": "code",
   "execution_count": null,
   "id": "6bb32696-e6e7-4431-82b9-d76619374981",
   "metadata": {},
   "outputs": [],
   "source": []
  }
 ],
 "metadata": {
  "kernelspec": {
   "display_name": "Python 3 (ipykernel)",
   "language": "python",
   "name": "python3"
  },
  "language_info": {
   "codemirror_mode": {
    "name": "ipython",
    "version": 3
   },
   "file_extension": ".py",
   "mimetype": "text/x-python",
   "name": "python",
   "nbconvert_exporter": "python",
   "pygments_lexer": "ipython3",
   "version": "3.10.8"
  }
 },
 "nbformat": 4,
 "nbformat_minor": 5
}
